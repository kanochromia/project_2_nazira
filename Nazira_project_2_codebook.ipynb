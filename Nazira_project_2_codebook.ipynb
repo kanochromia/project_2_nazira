{
 "cells": [
  {
   "cell_type": "markdown",
   "id": "2cb5bc75",
   "metadata": {},
   "source": [
    "<img src=\"http://imgur.com/1ZcRyrc.png\" style=\"float: left; margin: 20px; height: 55px\">\n",
    "\n",
    "# Project 2: Ames Housing Data"
   ]
  },
  {
   "cell_type": "markdown",
   "id": "e9fd6e8b",
   "metadata": {},
   "source": [
    "# Problem Statement"
   ]
  },
  {
   "cell_type": "markdown",
   "id": "9b4afadb",
   "metadata": {},
   "source": [
    "<li> We want to predict the price of a house at sale.\n",
    "<li> We want to create a regression model to predict the sale price using the 70 over columns of different features.\n",
    "<li> We want to identify the features that affect the sale price of the house the most.\n",
    "<li> Ultimately, model can be used to assist homeowners to know how to increase house prices through home improvements.\n",
    "<br><br>\n",
    "After Data Cleaning, Pre-Processing and Modelling, we will analyse the RMSE and $R^2$ scores using RidgeCV, LassoCV and ElasticNetCV models."
   ]
  },
  {
   "cell_type": "markdown",
   "id": "974a7dff",
   "metadata": {},
   "source": [
    "# Data Cleaning\n",
    "\n",
    "The data is from <a href=\"https://www.kaggle.com/c/dsi-us-11-project-2-regression-challenge\">Kaggle</a> and the data dictionary can be reviewed <a href=\"http://jse.amstat.org/v19n3/decock/DataDocumentation.txt\">here</a>. Ames Housing Dataset is from the Ames Assessor’s Office and it has information on residential properties sold in Ames (Iowa) from 2006 to 2010."
   ]
  },
  {
   "cell_type": "code",
   "execution_count": 1,
   "id": "d1a0f754",
   "metadata": {},
   "outputs": [],
   "source": [
    "import pandas as pd\n",
    "import numpy as np"
   ]
  },
  {
   "cell_type": "code",
   "execution_count": 2,
   "id": "a81b6666",
   "metadata": {},
   "outputs": [],
   "source": [
    "data_train = pd.read_csv('./datasets/train.csv', index_col = 'Id')"
   ]
  },
  {
   "cell_type": "code",
   "execution_count": 3,
   "id": "98097a9e",
   "metadata": {},
   "outputs": [
    {
     "name": "stdout",
     "output_type": "stream",
     "text": [
      "Index(['PID', 'MS SubClass', 'MS Zoning', 'Lot Frontage', 'Lot Area', 'Street',\n",
      "       'Alley', 'Lot Shape', 'Land Contour', 'Utilities', 'Lot Config',\n",
      "       'Land Slope', 'Neighborhood', 'Condition 1', 'Condition 2', 'Bldg Type',\n",
      "       'House Style', 'Overall Qual', 'Overall Cond', 'Year Built',\n",
      "       'Year Remod/Add', 'Roof Style', 'Roof Matl', 'Exterior 1st',\n",
      "       'Exterior 2nd', 'Mas Vnr Type', 'Mas Vnr Area', 'Exter Qual',\n",
      "       'Exter Cond', 'Foundation', 'Bsmt Qual', 'Bsmt Cond', 'Bsmt Exposure',\n",
      "       'BsmtFin Type 1', 'BsmtFin SF 1', 'BsmtFin Type 2', 'BsmtFin SF 2',\n",
      "       'Bsmt Unf SF', 'Total Bsmt SF', 'Heating', 'Heating QC', 'Central Air',\n",
      "       'Electrical', '1st Flr SF', '2nd Flr SF', 'Low Qual Fin SF',\n",
      "       'Gr Liv Area', 'Bsmt Full Bath', 'Bsmt Half Bath', 'Full Bath',\n",
      "       'Half Bath', 'Bedroom AbvGr', 'Kitchen AbvGr', 'Kitchen Qual',\n",
      "       'TotRms AbvGrd', 'Functional', 'Fireplaces', 'Fireplace Qu',\n",
      "       'Garage Type', 'Garage Yr Blt', 'Garage Finish', 'Garage Cars',\n",
      "       'Garage Area', 'Garage Qual', 'Garage Cond', 'Paved Drive',\n",
      "       'Wood Deck SF', 'Open Porch SF', 'Enclosed Porch', '3Ssn Porch',\n",
      "       'Screen Porch', 'Pool Area', 'Pool QC', 'Fence', 'Misc Feature',\n",
      "       'Misc Val', 'Mo Sold', 'Yr Sold', 'Sale Type', 'SalePrice'],\n",
      "      dtype='object')\n",
      "(2051, 80)\n"
     ]
    },
    {
     "data": {
      "text/html": [
       "<div>\n",
       "<style scoped>\n",
       "    .dataframe tbody tr th:only-of-type {\n",
       "        vertical-align: middle;\n",
       "    }\n",
       "\n",
       "    .dataframe tbody tr th {\n",
       "        vertical-align: top;\n",
       "    }\n",
       "\n",
       "    .dataframe thead th {\n",
       "        text-align: right;\n",
       "    }\n",
       "</style>\n",
       "<table border=\"1\" class=\"dataframe\">\n",
       "  <thead>\n",
       "    <tr style=\"text-align: right;\">\n",
       "      <th></th>\n",
       "      <th>PID</th>\n",
       "      <th>MS SubClass</th>\n",
       "      <th>MS Zoning</th>\n",
       "      <th>Lot Frontage</th>\n",
       "      <th>Lot Area</th>\n",
       "      <th>Street</th>\n",
       "      <th>Alley</th>\n",
       "      <th>Lot Shape</th>\n",
       "      <th>Land Contour</th>\n",
       "      <th>Utilities</th>\n",
       "      <th>...</th>\n",
       "      <th>Screen Porch</th>\n",
       "      <th>Pool Area</th>\n",
       "      <th>Pool QC</th>\n",
       "      <th>Fence</th>\n",
       "      <th>Misc Feature</th>\n",
       "      <th>Misc Val</th>\n",
       "      <th>Mo Sold</th>\n",
       "      <th>Yr Sold</th>\n",
       "      <th>Sale Type</th>\n",
       "      <th>SalePrice</th>\n",
       "    </tr>\n",
       "    <tr>\n",
       "      <th>Id</th>\n",
       "      <th></th>\n",
       "      <th></th>\n",
       "      <th></th>\n",
       "      <th></th>\n",
       "      <th></th>\n",
       "      <th></th>\n",
       "      <th></th>\n",
       "      <th></th>\n",
       "      <th></th>\n",
       "      <th></th>\n",
       "      <th></th>\n",
       "      <th></th>\n",
       "      <th></th>\n",
       "      <th></th>\n",
       "      <th></th>\n",
       "      <th></th>\n",
       "      <th></th>\n",
       "      <th></th>\n",
       "      <th></th>\n",
       "      <th></th>\n",
       "      <th></th>\n",
       "    </tr>\n",
       "  </thead>\n",
       "  <tbody>\n",
       "    <tr>\n",
       "      <th>109</th>\n",
       "      <td>533352170</td>\n",
       "      <td>60</td>\n",
       "      <td>RL</td>\n",
       "      <td>NaN</td>\n",
       "      <td>13517</td>\n",
       "      <td>Pave</td>\n",
       "      <td>NaN</td>\n",
       "      <td>IR1</td>\n",
       "      <td>Lvl</td>\n",
       "      <td>AllPub</td>\n",
       "      <td>...</td>\n",
       "      <td>0</td>\n",
       "      <td>0</td>\n",
       "      <td>NaN</td>\n",
       "      <td>NaN</td>\n",
       "      <td>NaN</td>\n",
       "      <td>0</td>\n",
       "      <td>3</td>\n",
       "      <td>2010</td>\n",
       "      <td>WD</td>\n",
       "      <td>130500</td>\n",
       "    </tr>\n",
       "    <tr>\n",
       "      <th>544</th>\n",
       "      <td>531379050</td>\n",
       "      <td>60</td>\n",
       "      <td>RL</td>\n",
       "      <td>43.0</td>\n",
       "      <td>11492</td>\n",
       "      <td>Pave</td>\n",
       "      <td>NaN</td>\n",
       "      <td>IR1</td>\n",
       "      <td>Lvl</td>\n",
       "      <td>AllPub</td>\n",
       "      <td>...</td>\n",
       "      <td>0</td>\n",
       "      <td>0</td>\n",
       "      <td>NaN</td>\n",
       "      <td>NaN</td>\n",
       "      <td>NaN</td>\n",
       "      <td>0</td>\n",
       "      <td>4</td>\n",
       "      <td>2009</td>\n",
       "      <td>WD</td>\n",
       "      <td>220000</td>\n",
       "    </tr>\n",
       "    <tr>\n",
       "      <th>153</th>\n",
       "      <td>535304180</td>\n",
       "      <td>20</td>\n",
       "      <td>RL</td>\n",
       "      <td>68.0</td>\n",
       "      <td>7922</td>\n",
       "      <td>Pave</td>\n",
       "      <td>NaN</td>\n",
       "      <td>Reg</td>\n",
       "      <td>Lvl</td>\n",
       "      <td>AllPub</td>\n",
       "      <td>...</td>\n",
       "      <td>0</td>\n",
       "      <td>0</td>\n",
       "      <td>NaN</td>\n",
       "      <td>NaN</td>\n",
       "      <td>NaN</td>\n",
       "      <td>0</td>\n",
       "      <td>1</td>\n",
       "      <td>2010</td>\n",
       "      <td>WD</td>\n",
       "      <td>109000</td>\n",
       "    </tr>\n",
       "    <tr>\n",
       "      <th>318</th>\n",
       "      <td>916386060</td>\n",
       "      <td>60</td>\n",
       "      <td>RL</td>\n",
       "      <td>73.0</td>\n",
       "      <td>9802</td>\n",
       "      <td>Pave</td>\n",
       "      <td>NaN</td>\n",
       "      <td>Reg</td>\n",
       "      <td>Lvl</td>\n",
       "      <td>AllPub</td>\n",
       "      <td>...</td>\n",
       "      <td>0</td>\n",
       "      <td>0</td>\n",
       "      <td>NaN</td>\n",
       "      <td>NaN</td>\n",
       "      <td>NaN</td>\n",
       "      <td>0</td>\n",
       "      <td>4</td>\n",
       "      <td>2010</td>\n",
       "      <td>WD</td>\n",
       "      <td>174000</td>\n",
       "    </tr>\n",
       "    <tr>\n",
       "      <th>255</th>\n",
       "      <td>906425045</td>\n",
       "      <td>50</td>\n",
       "      <td>RL</td>\n",
       "      <td>82.0</td>\n",
       "      <td>14235</td>\n",
       "      <td>Pave</td>\n",
       "      <td>NaN</td>\n",
       "      <td>IR1</td>\n",
       "      <td>Lvl</td>\n",
       "      <td>AllPub</td>\n",
       "      <td>...</td>\n",
       "      <td>0</td>\n",
       "      <td>0</td>\n",
       "      <td>NaN</td>\n",
       "      <td>NaN</td>\n",
       "      <td>NaN</td>\n",
       "      <td>0</td>\n",
       "      <td>3</td>\n",
       "      <td>2010</td>\n",
       "      <td>WD</td>\n",
       "      <td>138500</td>\n",
       "    </tr>\n",
       "  </tbody>\n",
       "</table>\n",
       "<p>5 rows × 80 columns</p>\n",
       "</div>"
      ],
      "text/plain": [
       "           PID  MS SubClass MS Zoning  Lot Frontage  Lot Area Street Alley  \\\n",
       "Id                                                                           \n",
       "109  533352170           60        RL           NaN     13517   Pave   NaN   \n",
       "544  531379050           60        RL          43.0     11492   Pave   NaN   \n",
       "153  535304180           20        RL          68.0      7922   Pave   NaN   \n",
       "318  916386060           60        RL          73.0      9802   Pave   NaN   \n",
       "255  906425045           50        RL          82.0     14235   Pave   NaN   \n",
       "\n",
       "    Lot Shape Land Contour Utilities  ... Screen Porch Pool Area Pool QC  \\\n",
       "Id                                    ...                                  \n",
       "109       IR1          Lvl    AllPub  ...            0         0     NaN   \n",
       "544       IR1          Lvl    AllPub  ...            0         0     NaN   \n",
       "153       Reg          Lvl    AllPub  ...            0         0     NaN   \n",
       "318       Reg          Lvl    AllPub  ...            0         0     NaN   \n",
       "255       IR1          Lvl    AllPub  ...            0         0     NaN   \n",
       "\n",
       "    Fence Misc Feature Misc Val Mo Sold  Yr Sold  Sale Type  SalePrice  \n",
       "Id                                                                      \n",
       "109   NaN          NaN        0       3     2010        WD      130500  \n",
       "544   NaN          NaN        0       4     2009        WD      220000  \n",
       "153   NaN          NaN        0       1     2010        WD      109000  \n",
       "318   NaN          NaN        0       4     2010        WD      174000  \n",
       "255   NaN          NaN        0       3     2010        WD      138500  \n",
       "\n",
       "[5 rows x 80 columns]"
      ]
     },
     "execution_count": 3,
     "metadata": {},
     "output_type": "execute_result"
    }
   ],
   "source": [
    "print(data_train.keys())\n",
    "print(data_train.shape)\n",
    "data_train.head()"
   ]
  },
  {
   "cell_type": "markdown",
   "id": "10256941",
   "metadata": {},
   "source": [
    "## Understanding Data"
   ]
  },
  {
   "cell_type": "markdown",
   "id": "1e202b42",
   "metadata": {},
   "source": [
    "There are a lot of features - 81 to be exact. So we will need to see what the missing values mean, and whether to drop it or not."
   ]
  },
  {
   "cell_type": "code",
   "execution_count": 4,
   "id": "6abe356c",
   "metadata": {
    "scrolled": true
   },
   "outputs": [
    {
     "data": {
      "text/plain": [
       "PID                 int64\n",
       "MS SubClass         int64\n",
       "MS Zoning          object\n",
       "Lot Frontage      float64\n",
       "Lot Area            int64\n",
       "Street             object\n",
       "Alley              object\n",
       "Lot Shape          object\n",
       "Land Contour       object\n",
       "Utilities          object\n",
       "Lot Config         object\n",
       "Land Slope         object\n",
       "Neighborhood       object\n",
       "Condition 1        object\n",
       "Condition 2        object\n",
       "Bldg Type          object\n",
       "House Style        object\n",
       "Overall Qual        int64\n",
       "Overall Cond        int64\n",
       "Year Built          int64\n",
       "Year Remod/Add      int64\n",
       "Roof Style         object\n",
       "Roof Matl          object\n",
       "Exterior 1st       object\n",
       "Exterior 2nd       object\n",
       "Mas Vnr Type       object\n",
       "Mas Vnr Area      float64\n",
       "Exter Qual         object\n",
       "Exter Cond         object\n",
       "Foundation         object\n",
       "                   ...   \n",
       "Half Bath           int64\n",
       "Bedroom AbvGr       int64\n",
       "Kitchen AbvGr       int64\n",
       "Kitchen Qual       object\n",
       "TotRms AbvGrd       int64\n",
       "Functional         object\n",
       "Fireplaces          int64\n",
       "Fireplace Qu       object\n",
       "Garage Type        object\n",
       "Garage Yr Blt     float64\n",
       "Garage Finish      object\n",
       "Garage Cars       float64\n",
       "Garage Area       float64\n",
       "Garage Qual        object\n",
       "Garage Cond        object\n",
       "Paved Drive        object\n",
       "Wood Deck SF        int64\n",
       "Open Porch SF       int64\n",
       "Enclosed Porch      int64\n",
       "3Ssn Porch          int64\n",
       "Screen Porch        int64\n",
       "Pool Area           int64\n",
       "Pool QC            object\n",
       "Fence              object\n",
       "Misc Feature       object\n",
       "Misc Val            int64\n",
       "Mo Sold             int64\n",
       "Yr Sold             int64\n",
       "Sale Type          object\n",
       "SalePrice           int64\n",
       "Length: 80, dtype: object"
      ]
     },
     "execution_count": 4,
     "metadata": {},
     "output_type": "execute_result"
    }
   ],
   "source": [
    "pd.options.display.min_rows = 81\n",
    "data_train.dtypes"
   ]
  },
  {
   "cell_type": "markdown",
   "id": "73183db4",
   "metadata": {},
   "source": [
    "Now, we want to check on (any) missing values. Turns out, there are a lot."
   ]
  },
  {
   "cell_type": "code",
   "execution_count": 5,
   "id": "4dc1b05d",
   "metadata": {
    "scrolled": true
   },
   "outputs": [
    {
     "data": {
      "text/plain": [
       "Pool QC            2042\n",
       "Misc Feature       1986\n",
       "Alley              1911\n",
       "Fence              1651\n",
       "Fireplace Qu       1000\n",
       "Lot Frontage        330\n",
       "Garage Finish       114\n",
       "Garage Qual         114\n",
       "Garage Yr Blt       114\n",
       "Garage Cond         114\n",
       "Garage Type         113\n",
       "Bsmt Exposure        58\n",
       "BsmtFin Type 2       56\n",
       "Bsmt Cond            55\n",
       "Bsmt Qual            55\n",
       "BsmtFin Type 1       55\n",
       "Mas Vnr Area         22\n",
       "Mas Vnr Type         22\n",
       "Bsmt Full Bath        2\n",
       "Bsmt Half Bath        2\n",
       "Garage Area           1\n",
       "Garage Cars           1\n",
       "Total Bsmt SF         1\n",
       "Bsmt Unf SF           1\n",
       "BsmtFin SF 2          1\n",
       "BsmtFin SF 1          1\n",
       "Full Bath             0\n",
       "Half Bath             0\n",
       "Bedroom AbvGr         0\n",
       "Kitchen AbvGr         0\n",
       "                   ... \n",
       "Lot Area              0\n",
       "Street                0\n",
       "Lot Shape             0\n",
       "Land Contour          0\n",
       "Utilities             0\n",
       "Lot Config            0\n",
       "Land Slope            0\n",
       "Neighborhood          0\n",
       "Condition 1           0\n",
       "Condition 2           0\n",
       "Bldg Type             0\n",
       "House Style           0\n",
       "Overall Qual          0\n",
       "Year Built            0\n",
       "Low Qual Fin SF       0\n",
       "Year Remod/Add        0\n",
       "Roof Style            0\n",
       "Roof Matl             0\n",
       "Exterior 1st          0\n",
       "Exterior 2nd          0\n",
       "Exter Qual            0\n",
       "Exter Cond            0\n",
       "Foundation            0\n",
       "Heating               0\n",
       "MS SubClass           0\n",
       "Central Air           0\n",
       "Electrical            0\n",
       "1st Flr SF            0\n",
       "2nd Flr SF            0\n",
       "SalePrice             0\n",
       "Length: 80, dtype: int64"
      ]
     },
     "execution_count": 5,
     "metadata": {},
     "output_type": "execute_result"
    }
   ],
   "source": [
    "data_train.isna().sum().sort_values(ascending=False)"
   ]
  },
  {
   "cell_type": "markdown",
   "id": "36e9491c",
   "metadata": {},
   "source": [
    "### Check for Outliers"
   ]
  },
  {
   "cell_type": "markdown",
   "id": "67b16d2d",
   "metadata": {},
   "source": [
    "Based on the data dictionary for categorical features, instead of being translated into NA, it has been translated into nan. Hence, we should not drop any of the rows yet.\n",
    "\n",
    "Now, let's analyse and see if there are any outliers in the data by viewing the features 20 by 20."
   ]
  },
  {
   "cell_type": "code",
   "execution_count": 6,
   "id": "c74bf2f0",
   "metadata": {},
   "outputs": [
    {
     "data": {
      "text/html": [
       "<div>\n",
       "<style scoped>\n",
       "    .dataframe tbody tr th:only-of-type {\n",
       "        vertical-align: middle;\n",
       "    }\n",
       "\n",
       "    .dataframe tbody tr th {\n",
       "        vertical-align: top;\n",
       "    }\n",
       "\n",
       "    .dataframe thead th {\n",
       "        text-align: right;\n",
       "    }\n",
       "</style>\n",
       "<table border=\"1\" class=\"dataframe\">\n",
       "  <thead>\n",
       "    <tr style=\"text-align: right;\">\n",
       "      <th></th>\n",
       "      <th>count</th>\n",
       "      <th>unique</th>\n",
       "      <th>top</th>\n",
       "      <th>freq</th>\n",
       "      <th>mean</th>\n",
       "      <th>std</th>\n",
       "      <th>min</th>\n",
       "      <th>25%</th>\n",
       "      <th>50%</th>\n",
       "      <th>75%</th>\n",
       "      <th>max</th>\n",
       "    </tr>\n",
       "  </thead>\n",
       "  <tbody>\n",
       "    <tr>\n",
       "      <th>PID</th>\n",
       "      <td>2051.0</td>\n",
       "      <td>NaN</td>\n",
       "      <td>NaN</td>\n",
       "      <td>NaN</td>\n",
       "      <td>713590006.091663</td>\n",
       "      <td>188691837.88533</td>\n",
       "      <td>526301100.0</td>\n",
       "      <td>528458140.0</td>\n",
       "      <td>535453200.0</td>\n",
       "      <td>907180080.0</td>\n",
       "      <td>924152030.0</td>\n",
       "    </tr>\n",
       "    <tr>\n",
       "      <th>MS SubClass</th>\n",
       "      <td>2051.0</td>\n",
       "      <td>NaN</td>\n",
       "      <td>NaN</td>\n",
       "      <td>NaN</td>\n",
       "      <td>57.008776</td>\n",
       "      <td>42.824223</td>\n",
       "      <td>20.0</td>\n",
       "      <td>20.0</td>\n",
       "      <td>50.0</td>\n",
       "      <td>70.0</td>\n",
       "      <td>190.0</td>\n",
       "    </tr>\n",
       "    <tr>\n",
       "      <th>MS Zoning</th>\n",
       "      <td>2051</td>\n",
       "      <td>7</td>\n",
       "      <td>RL</td>\n",
       "      <td>1598</td>\n",
       "      <td>NaN</td>\n",
       "      <td>NaN</td>\n",
       "      <td>NaN</td>\n",
       "      <td>NaN</td>\n",
       "      <td>NaN</td>\n",
       "      <td>NaN</td>\n",
       "      <td>NaN</td>\n",
       "    </tr>\n",
       "    <tr>\n",
       "      <th>Lot Frontage</th>\n",
       "      <td>1721.0</td>\n",
       "      <td>NaN</td>\n",
       "      <td>NaN</td>\n",
       "      <td>NaN</td>\n",
       "      <td>69.0552</td>\n",
       "      <td>23.260653</td>\n",
       "      <td>21.0</td>\n",
       "      <td>58.0</td>\n",
       "      <td>68.0</td>\n",
       "      <td>80.0</td>\n",
       "      <td>313.0</td>\n",
       "    </tr>\n",
       "    <tr>\n",
       "      <th>Lot Area</th>\n",
       "      <td>2051.0</td>\n",
       "      <td>NaN</td>\n",
       "      <td>NaN</td>\n",
       "      <td>NaN</td>\n",
       "      <td>10065.208191</td>\n",
       "      <td>6742.488909</td>\n",
       "      <td>1300.0</td>\n",
       "      <td>7500.0</td>\n",
       "      <td>9430.0</td>\n",
       "      <td>11513.5</td>\n",
       "      <td>159000.0</td>\n",
       "    </tr>\n",
       "    <tr>\n",
       "      <th>Street</th>\n",
       "      <td>2051</td>\n",
       "      <td>2</td>\n",
       "      <td>Pave</td>\n",
       "      <td>2044</td>\n",
       "      <td>NaN</td>\n",
       "      <td>NaN</td>\n",
       "      <td>NaN</td>\n",
       "      <td>NaN</td>\n",
       "      <td>NaN</td>\n",
       "      <td>NaN</td>\n",
       "      <td>NaN</td>\n",
       "    </tr>\n",
       "    <tr>\n",
       "      <th>Alley</th>\n",
       "      <td>140</td>\n",
       "      <td>2</td>\n",
       "      <td>Grvl</td>\n",
       "      <td>85</td>\n",
       "      <td>NaN</td>\n",
       "      <td>NaN</td>\n",
       "      <td>NaN</td>\n",
       "      <td>NaN</td>\n",
       "      <td>NaN</td>\n",
       "      <td>NaN</td>\n",
       "      <td>NaN</td>\n",
       "    </tr>\n",
       "    <tr>\n",
       "      <th>Lot Shape</th>\n",
       "      <td>2051</td>\n",
       "      <td>4</td>\n",
       "      <td>Reg</td>\n",
       "      <td>1295</td>\n",
       "      <td>NaN</td>\n",
       "      <td>NaN</td>\n",
       "      <td>NaN</td>\n",
       "      <td>NaN</td>\n",
       "      <td>NaN</td>\n",
       "      <td>NaN</td>\n",
       "      <td>NaN</td>\n",
       "    </tr>\n",
       "    <tr>\n",
       "      <th>Land Contour</th>\n",
       "      <td>2051</td>\n",
       "      <td>4</td>\n",
       "      <td>Lvl</td>\n",
       "      <td>1843</td>\n",
       "      <td>NaN</td>\n",
       "      <td>NaN</td>\n",
       "      <td>NaN</td>\n",
       "      <td>NaN</td>\n",
       "      <td>NaN</td>\n",
       "      <td>NaN</td>\n",
       "      <td>NaN</td>\n",
       "    </tr>\n",
       "    <tr>\n",
       "      <th>Utilities</th>\n",
       "      <td>2051</td>\n",
       "      <td>3</td>\n",
       "      <td>AllPub</td>\n",
       "      <td>2049</td>\n",
       "      <td>NaN</td>\n",
       "      <td>NaN</td>\n",
       "      <td>NaN</td>\n",
       "      <td>NaN</td>\n",
       "      <td>NaN</td>\n",
       "      <td>NaN</td>\n",
       "      <td>NaN</td>\n",
       "    </tr>\n",
       "    <tr>\n",
       "      <th>Lot Config</th>\n",
       "      <td>2051</td>\n",
       "      <td>5</td>\n",
       "      <td>Inside</td>\n",
       "      <td>1503</td>\n",
       "      <td>NaN</td>\n",
       "      <td>NaN</td>\n",
       "      <td>NaN</td>\n",
       "      <td>NaN</td>\n",
       "      <td>NaN</td>\n",
       "      <td>NaN</td>\n",
       "      <td>NaN</td>\n",
       "    </tr>\n",
       "    <tr>\n",
       "      <th>Land Slope</th>\n",
       "      <td>2051</td>\n",
       "      <td>3</td>\n",
       "      <td>Gtl</td>\n",
       "      <td>1953</td>\n",
       "      <td>NaN</td>\n",
       "      <td>NaN</td>\n",
       "      <td>NaN</td>\n",
       "      <td>NaN</td>\n",
       "      <td>NaN</td>\n",
       "      <td>NaN</td>\n",
       "      <td>NaN</td>\n",
       "    </tr>\n",
       "    <tr>\n",
       "      <th>Neighborhood</th>\n",
       "      <td>2051</td>\n",
       "      <td>28</td>\n",
       "      <td>NAmes</td>\n",
       "      <td>310</td>\n",
       "      <td>NaN</td>\n",
       "      <td>NaN</td>\n",
       "      <td>NaN</td>\n",
       "      <td>NaN</td>\n",
       "      <td>NaN</td>\n",
       "      <td>NaN</td>\n",
       "      <td>NaN</td>\n",
       "    </tr>\n",
       "    <tr>\n",
       "      <th>Condition 1</th>\n",
       "      <td>2051</td>\n",
       "      <td>9</td>\n",
       "      <td>Norm</td>\n",
       "      <td>1767</td>\n",
       "      <td>NaN</td>\n",
       "      <td>NaN</td>\n",
       "      <td>NaN</td>\n",
       "      <td>NaN</td>\n",
       "      <td>NaN</td>\n",
       "      <td>NaN</td>\n",
       "      <td>NaN</td>\n",
       "    </tr>\n",
       "    <tr>\n",
       "      <th>Condition 2</th>\n",
       "      <td>2051</td>\n",
       "      <td>8</td>\n",
       "      <td>Norm</td>\n",
       "      <td>2025</td>\n",
       "      <td>NaN</td>\n",
       "      <td>NaN</td>\n",
       "      <td>NaN</td>\n",
       "      <td>NaN</td>\n",
       "      <td>NaN</td>\n",
       "      <td>NaN</td>\n",
       "      <td>NaN</td>\n",
       "    </tr>\n",
       "    <tr>\n",
       "      <th>Bldg Type</th>\n",
       "      <td>2051</td>\n",
       "      <td>5</td>\n",
       "      <td>1Fam</td>\n",
       "      <td>1700</td>\n",
       "      <td>NaN</td>\n",
       "      <td>NaN</td>\n",
       "      <td>NaN</td>\n",
       "      <td>NaN</td>\n",
       "      <td>NaN</td>\n",
       "      <td>NaN</td>\n",
       "      <td>NaN</td>\n",
       "    </tr>\n",
       "    <tr>\n",
       "      <th>House Style</th>\n",
       "      <td>2051</td>\n",
       "      <td>8</td>\n",
       "      <td>1Story</td>\n",
       "      <td>1059</td>\n",
       "      <td>NaN</td>\n",
       "      <td>NaN</td>\n",
       "      <td>NaN</td>\n",
       "      <td>NaN</td>\n",
       "      <td>NaN</td>\n",
       "      <td>NaN</td>\n",
       "      <td>NaN</td>\n",
       "    </tr>\n",
       "    <tr>\n",
       "      <th>Overall Qual</th>\n",
       "      <td>2051.0</td>\n",
       "      <td>NaN</td>\n",
       "      <td>NaN</td>\n",
       "      <td>NaN</td>\n",
       "      <td>6.11214</td>\n",
       "      <td>1.426271</td>\n",
       "      <td>1.0</td>\n",
       "      <td>5.0</td>\n",
       "      <td>6.0</td>\n",
       "      <td>7.0</td>\n",
       "      <td>10.0</td>\n",
       "    </tr>\n",
       "    <tr>\n",
       "      <th>Overall Cond</th>\n",
       "      <td>2051.0</td>\n",
       "      <td>NaN</td>\n",
       "      <td>NaN</td>\n",
       "      <td>NaN</td>\n",
       "      <td>5.562165</td>\n",
       "      <td>1.104497</td>\n",
       "      <td>1.0</td>\n",
       "      <td>5.0</td>\n",
       "      <td>5.0</td>\n",
       "      <td>6.0</td>\n",
       "      <td>9.0</td>\n",
       "    </tr>\n",
       "    <tr>\n",
       "      <th>Year Built</th>\n",
       "      <td>2051.0</td>\n",
       "      <td>NaN</td>\n",
       "      <td>NaN</td>\n",
       "      <td>NaN</td>\n",
       "      <td>1971.708922</td>\n",
       "      <td>30.177889</td>\n",
       "      <td>1872.0</td>\n",
       "      <td>1953.5</td>\n",
       "      <td>1974.0</td>\n",
       "      <td>2001.0</td>\n",
       "      <td>2010.0</td>\n",
       "    </tr>\n",
       "  </tbody>\n",
       "</table>\n",
       "</div>"
      ],
      "text/plain": [
       "               count unique     top  freq              mean              std  \\\n",
       "PID           2051.0    NaN     NaN   NaN  713590006.091663  188691837.88533   \n",
       "MS SubClass   2051.0    NaN     NaN   NaN         57.008776        42.824223   \n",
       "MS Zoning       2051      7      RL  1598               NaN              NaN   \n",
       "Lot Frontage  1721.0    NaN     NaN   NaN           69.0552        23.260653   \n",
       "Lot Area      2051.0    NaN     NaN   NaN      10065.208191      6742.488909   \n",
       "Street          2051      2    Pave  2044               NaN              NaN   \n",
       "Alley            140      2    Grvl    85               NaN              NaN   \n",
       "Lot Shape       2051      4     Reg  1295               NaN              NaN   \n",
       "Land Contour    2051      4     Lvl  1843               NaN              NaN   \n",
       "Utilities       2051      3  AllPub  2049               NaN              NaN   \n",
       "Lot Config      2051      5  Inside  1503               NaN              NaN   \n",
       "Land Slope      2051      3     Gtl  1953               NaN              NaN   \n",
       "Neighborhood    2051     28   NAmes   310               NaN              NaN   \n",
       "Condition 1     2051      9    Norm  1767               NaN              NaN   \n",
       "Condition 2     2051      8    Norm  2025               NaN              NaN   \n",
       "Bldg Type       2051      5    1Fam  1700               NaN              NaN   \n",
       "House Style     2051      8  1Story  1059               NaN              NaN   \n",
       "Overall Qual  2051.0    NaN     NaN   NaN           6.11214         1.426271   \n",
       "Overall Cond  2051.0    NaN     NaN   NaN          5.562165         1.104497   \n",
       "Year Built    2051.0    NaN     NaN   NaN       1971.708922        30.177889   \n",
       "\n",
       "                      min          25%          50%          75%          max  \n",
       "PID           526301100.0  528458140.0  535453200.0  907180080.0  924152030.0  \n",
       "MS SubClass          20.0         20.0         50.0         70.0        190.0  \n",
       "MS Zoning             NaN          NaN          NaN          NaN          NaN  \n",
       "Lot Frontage         21.0         58.0         68.0         80.0        313.0  \n",
       "Lot Area           1300.0       7500.0       9430.0      11513.5     159000.0  \n",
       "Street                NaN          NaN          NaN          NaN          NaN  \n",
       "Alley                 NaN          NaN          NaN          NaN          NaN  \n",
       "Lot Shape             NaN          NaN          NaN          NaN          NaN  \n",
       "Land Contour          NaN          NaN          NaN          NaN          NaN  \n",
       "Utilities             NaN          NaN          NaN          NaN          NaN  \n",
       "Lot Config            NaN          NaN          NaN          NaN          NaN  \n",
       "Land Slope            NaN          NaN          NaN          NaN          NaN  \n",
       "Neighborhood          NaN          NaN          NaN          NaN          NaN  \n",
       "Condition 1           NaN          NaN          NaN          NaN          NaN  \n",
       "Condition 2           NaN          NaN          NaN          NaN          NaN  \n",
       "Bldg Type             NaN          NaN          NaN          NaN          NaN  \n",
       "House Style           NaN          NaN          NaN          NaN          NaN  \n",
       "Overall Qual          1.0          5.0          6.0          7.0         10.0  \n",
       "Overall Cond          1.0          5.0          5.0          6.0          9.0  \n",
       "Year Built         1872.0       1953.5       1974.0       2001.0       2010.0  "
      ]
     },
     "execution_count": 6,
     "metadata": {},
     "output_type": "execute_result"
    }
   ],
   "source": [
    "data_train.iloc[:, :20].describe(include='all').T"
   ]
  },
  {
   "cell_type": "code",
   "execution_count": 7,
   "id": "7fb38844",
   "metadata": {},
   "outputs": [
    {
     "data": {
      "text/html": [
       "<div>\n",
       "<style scoped>\n",
       "    .dataframe tbody tr th:only-of-type {\n",
       "        vertical-align: middle;\n",
       "    }\n",
       "\n",
       "    .dataframe tbody tr th {\n",
       "        vertical-align: top;\n",
       "    }\n",
       "\n",
       "    .dataframe thead th {\n",
       "        text-align: right;\n",
       "    }\n",
       "</style>\n",
       "<table border=\"1\" class=\"dataframe\">\n",
       "  <thead>\n",
       "    <tr style=\"text-align: right;\">\n",
       "      <th></th>\n",
       "      <th>count</th>\n",
       "      <th>unique</th>\n",
       "      <th>top</th>\n",
       "      <th>freq</th>\n",
       "      <th>mean</th>\n",
       "      <th>std</th>\n",
       "      <th>min</th>\n",
       "      <th>25%</th>\n",
       "      <th>50%</th>\n",
       "      <th>75%</th>\n",
       "      <th>max</th>\n",
       "    </tr>\n",
       "  </thead>\n",
       "  <tbody>\n",
       "    <tr>\n",
       "      <th>Year Remod/Add</th>\n",
       "      <td>2051.0</td>\n",
       "      <td>NaN</td>\n",
       "      <td>NaN</td>\n",
       "      <td>NaN</td>\n",
       "      <td>1984.190151</td>\n",
       "      <td>21.03625</td>\n",
       "      <td>1950.0</td>\n",
       "      <td>1964.5</td>\n",
       "      <td>1993.0</td>\n",
       "      <td>2004.0</td>\n",
       "      <td>2010.0</td>\n",
       "    </tr>\n",
       "    <tr>\n",
       "      <th>Roof Style</th>\n",
       "      <td>2051</td>\n",
       "      <td>6</td>\n",
       "      <td>Gable</td>\n",
       "      <td>1619</td>\n",
       "      <td>NaN</td>\n",
       "      <td>NaN</td>\n",
       "      <td>NaN</td>\n",
       "      <td>NaN</td>\n",
       "      <td>NaN</td>\n",
       "      <td>NaN</td>\n",
       "      <td>NaN</td>\n",
       "    </tr>\n",
       "    <tr>\n",
       "      <th>Roof Matl</th>\n",
       "      <td>2051</td>\n",
       "      <td>6</td>\n",
       "      <td>CompShg</td>\n",
       "      <td>2025</td>\n",
       "      <td>NaN</td>\n",
       "      <td>NaN</td>\n",
       "      <td>NaN</td>\n",
       "      <td>NaN</td>\n",
       "      <td>NaN</td>\n",
       "      <td>NaN</td>\n",
       "      <td>NaN</td>\n",
       "    </tr>\n",
       "    <tr>\n",
       "      <th>Exterior 1st</th>\n",
       "      <td>2051</td>\n",
       "      <td>15</td>\n",
       "      <td>VinylSd</td>\n",
       "      <td>724</td>\n",
       "      <td>NaN</td>\n",
       "      <td>NaN</td>\n",
       "      <td>NaN</td>\n",
       "      <td>NaN</td>\n",
       "      <td>NaN</td>\n",
       "      <td>NaN</td>\n",
       "      <td>NaN</td>\n",
       "    </tr>\n",
       "    <tr>\n",
       "      <th>Exterior 2nd</th>\n",
       "      <td>2051</td>\n",
       "      <td>15</td>\n",
       "      <td>VinylSd</td>\n",
       "      <td>721</td>\n",
       "      <td>NaN</td>\n",
       "      <td>NaN</td>\n",
       "      <td>NaN</td>\n",
       "      <td>NaN</td>\n",
       "      <td>NaN</td>\n",
       "      <td>NaN</td>\n",
       "      <td>NaN</td>\n",
       "    </tr>\n",
       "    <tr>\n",
       "      <th>Mas Vnr Type</th>\n",
       "      <td>2029</td>\n",
       "      <td>4</td>\n",
       "      <td>None</td>\n",
       "      <td>1218</td>\n",
       "      <td>NaN</td>\n",
       "      <td>NaN</td>\n",
       "      <td>NaN</td>\n",
       "      <td>NaN</td>\n",
       "      <td>NaN</td>\n",
       "      <td>NaN</td>\n",
       "      <td>NaN</td>\n",
       "    </tr>\n",
       "    <tr>\n",
       "      <th>Mas Vnr Area</th>\n",
       "      <td>2029.0</td>\n",
       "      <td>NaN</td>\n",
       "      <td>NaN</td>\n",
       "      <td>NaN</td>\n",
       "      <td>99.695909</td>\n",
       "      <td>174.963129</td>\n",
       "      <td>0.0</td>\n",
       "      <td>0.0</td>\n",
       "      <td>0.0</td>\n",
       "      <td>161.0</td>\n",
       "      <td>1600.0</td>\n",
       "    </tr>\n",
       "    <tr>\n",
       "      <th>Exter Qual</th>\n",
       "      <td>2051</td>\n",
       "      <td>4</td>\n",
       "      <td>TA</td>\n",
       "      <td>1247</td>\n",
       "      <td>NaN</td>\n",
       "      <td>NaN</td>\n",
       "      <td>NaN</td>\n",
       "      <td>NaN</td>\n",
       "      <td>NaN</td>\n",
       "      <td>NaN</td>\n",
       "      <td>NaN</td>\n",
       "    </tr>\n",
       "    <tr>\n",
       "      <th>Exter Cond</th>\n",
       "      <td>2051</td>\n",
       "      <td>5</td>\n",
       "      <td>TA</td>\n",
       "      <td>1778</td>\n",
       "      <td>NaN</td>\n",
       "      <td>NaN</td>\n",
       "      <td>NaN</td>\n",
       "      <td>NaN</td>\n",
       "      <td>NaN</td>\n",
       "      <td>NaN</td>\n",
       "      <td>NaN</td>\n",
       "    </tr>\n",
       "    <tr>\n",
       "      <th>Foundation</th>\n",
       "      <td>2051</td>\n",
       "      <td>6</td>\n",
       "      <td>PConc</td>\n",
       "      <td>926</td>\n",
       "      <td>NaN</td>\n",
       "      <td>NaN</td>\n",
       "      <td>NaN</td>\n",
       "      <td>NaN</td>\n",
       "      <td>NaN</td>\n",
       "      <td>NaN</td>\n",
       "      <td>NaN</td>\n",
       "    </tr>\n",
       "    <tr>\n",
       "      <th>Bsmt Qual</th>\n",
       "      <td>1996</td>\n",
       "      <td>5</td>\n",
       "      <td>TA</td>\n",
       "      <td>887</td>\n",
       "      <td>NaN</td>\n",
       "      <td>NaN</td>\n",
       "      <td>NaN</td>\n",
       "      <td>NaN</td>\n",
       "      <td>NaN</td>\n",
       "      <td>NaN</td>\n",
       "      <td>NaN</td>\n",
       "    </tr>\n",
       "    <tr>\n",
       "      <th>Bsmt Cond</th>\n",
       "      <td>1996</td>\n",
       "      <td>5</td>\n",
       "      <td>TA</td>\n",
       "      <td>1834</td>\n",
       "      <td>NaN</td>\n",
       "      <td>NaN</td>\n",
       "      <td>NaN</td>\n",
       "      <td>NaN</td>\n",
       "      <td>NaN</td>\n",
       "      <td>NaN</td>\n",
       "      <td>NaN</td>\n",
       "    </tr>\n",
       "    <tr>\n",
       "      <th>Bsmt Exposure</th>\n",
       "      <td>1993</td>\n",
       "      <td>4</td>\n",
       "      <td>No</td>\n",
       "      <td>1339</td>\n",
       "      <td>NaN</td>\n",
       "      <td>NaN</td>\n",
       "      <td>NaN</td>\n",
       "      <td>NaN</td>\n",
       "      <td>NaN</td>\n",
       "      <td>NaN</td>\n",
       "      <td>NaN</td>\n",
       "    </tr>\n",
       "    <tr>\n",
       "      <th>BsmtFin Type 1</th>\n",
       "      <td>1996</td>\n",
       "      <td>6</td>\n",
       "      <td>GLQ</td>\n",
       "      <td>615</td>\n",
       "      <td>NaN</td>\n",
       "      <td>NaN</td>\n",
       "      <td>NaN</td>\n",
       "      <td>NaN</td>\n",
       "      <td>NaN</td>\n",
       "      <td>NaN</td>\n",
       "      <td>NaN</td>\n",
       "    </tr>\n",
       "    <tr>\n",
       "      <th>BsmtFin SF 1</th>\n",
       "      <td>2050.0</td>\n",
       "      <td>NaN</td>\n",
       "      <td>NaN</td>\n",
       "      <td>NaN</td>\n",
       "      <td>442.300488</td>\n",
       "      <td>461.204124</td>\n",
       "      <td>0.0</td>\n",
       "      <td>0.0</td>\n",
       "      <td>368.0</td>\n",
       "      <td>733.75</td>\n",
       "      <td>5644.0</td>\n",
       "    </tr>\n",
       "    <tr>\n",
       "      <th>BsmtFin Type 2</th>\n",
       "      <td>1995</td>\n",
       "      <td>6</td>\n",
       "      <td>Unf</td>\n",
       "      <td>1749</td>\n",
       "      <td>NaN</td>\n",
       "      <td>NaN</td>\n",
       "      <td>NaN</td>\n",
       "      <td>NaN</td>\n",
       "      <td>NaN</td>\n",
       "      <td>NaN</td>\n",
       "      <td>NaN</td>\n",
       "    </tr>\n",
       "    <tr>\n",
       "      <th>BsmtFin SF 2</th>\n",
       "      <td>2050.0</td>\n",
       "      <td>NaN</td>\n",
       "      <td>NaN</td>\n",
       "      <td>NaN</td>\n",
       "      <td>47.959024</td>\n",
       "      <td>165.000901</td>\n",
       "      <td>0.0</td>\n",
       "      <td>0.0</td>\n",
       "      <td>0.0</td>\n",
       "      <td>0.0</td>\n",
       "      <td>1474.0</td>\n",
       "    </tr>\n",
       "    <tr>\n",
       "      <th>Bsmt Unf SF</th>\n",
       "      <td>2050.0</td>\n",
       "      <td>NaN</td>\n",
       "      <td>NaN</td>\n",
       "      <td>NaN</td>\n",
       "      <td>567.728293</td>\n",
       "      <td>444.954786</td>\n",
       "      <td>0.0</td>\n",
       "      <td>220.0</td>\n",
       "      <td>474.5</td>\n",
       "      <td>811.0</td>\n",
       "      <td>2336.0</td>\n",
       "    </tr>\n",
       "    <tr>\n",
       "      <th>Total Bsmt SF</th>\n",
       "      <td>2050.0</td>\n",
       "      <td>NaN</td>\n",
       "      <td>NaN</td>\n",
       "      <td>NaN</td>\n",
       "      <td>1057.987805</td>\n",
       "      <td>449.410704</td>\n",
       "      <td>0.0</td>\n",
       "      <td>793.0</td>\n",
       "      <td>994.5</td>\n",
       "      <td>1318.75</td>\n",
       "      <td>6110.0</td>\n",
       "    </tr>\n",
       "    <tr>\n",
       "      <th>Heating</th>\n",
       "      <td>2051</td>\n",
       "      <td>5</td>\n",
       "      <td>GasA</td>\n",
       "      <td>2018</td>\n",
       "      <td>NaN</td>\n",
       "      <td>NaN</td>\n",
       "      <td>NaN</td>\n",
       "      <td>NaN</td>\n",
       "      <td>NaN</td>\n",
       "      <td>NaN</td>\n",
       "      <td>NaN</td>\n",
       "    </tr>\n",
       "  </tbody>\n",
       "</table>\n",
       "</div>"
      ],
      "text/plain": [
       "                 count unique      top  freq         mean         std     min  \\\n",
       "Year Remod/Add  2051.0    NaN      NaN   NaN  1984.190151    21.03625  1950.0   \n",
       "Roof Style        2051      6    Gable  1619          NaN         NaN     NaN   \n",
       "Roof Matl         2051      6  CompShg  2025          NaN         NaN     NaN   \n",
       "Exterior 1st      2051     15  VinylSd   724          NaN         NaN     NaN   \n",
       "Exterior 2nd      2051     15  VinylSd   721          NaN         NaN     NaN   \n",
       "Mas Vnr Type      2029      4     None  1218          NaN         NaN     NaN   \n",
       "Mas Vnr Area    2029.0    NaN      NaN   NaN    99.695909  174.963129     0.0   \n",
       "Exter Qual        2051      4       TA  1247          NaN         NaN     NaN   \n",
       "Exter Cond        2051      5       TA  1778          NaN         NaN     NaN   \n",
       "Foundation        2051      6    PConc   926          NaN         NaN     NaN   \n",
       "Bsmt Qual         1996      5       TA   887          NaN         NaN     NaN   \n",
       "Bsmt Cond         1996      5       TA  1834          NaN         NaN     NaN   \n",
       "Bsmt Exposure     1993      4       No  1339          NaN         NaN     NaN   \n",
       "BsmtFin Type 1    1996      6      GLQ   615          NaN         NaN     NaN   \n",
       "BsmtFin SF 1    2050.0    NaN      NaN   NaN   442.300488  461.204124     0.0   \n",
       "BsmtFin Type 2    1995      6      Unf  1749          NaN         NaN     NaN   \n",
       "BsmtFin SF 2    2050.0    NaN      NaN   NaN    47.959024  165.000901     0.0   \n",
       "Bsmt Unf SF     2050.0    NaN      NaN   NaN   567.728293  444.954786     0.0   \n",
       "Total Bsmt SF   2050.0    NaN      NaN   NaN  1057.987805  449.410704     0.0   \n",
       "Heating           2051      5     GasA  2018          NaN         NaN     NaN   \n",
       "\n",
       "                   25%     50%      75%     max  \n",
       "Year Remod/Add  1964.5  1993.0   2004.0  2010.0  \n",
       "Roof Style         NaN     NaN      NaN     NaN  \n",
       "Roof Matl          NaN     NaN      NaN     NaN  \n",
       "Exterior 1st       NaN     NaN      NaN     NaN  \n",
       "Exterior 2nd       NaN     NaN      NaN     NaN  \n",
       "Mas Vnr Type       NaN     NaN      NaN     NaN  \n",
       "Mas Vnr Area       0.0     0.0    161.0  1600.0  \n",
       "Exter Qual         NaN     NaN      NaN     NaN  \n",
       "Exter Cond         NaN     NaN      NaN     NaN  \n",
       "Foundation         NaN     NaN      NaN     NaN  \n",
       "Bsmt Qual          NaN     NaN      NaN     NaN  \n",
       "Bsmt Cond          NaN     NaN      NaN     NaN  \n",
       "Bsmt Exposure      NaN     NaN      NaN     NaN  \n",
       "BsmtFin Type 1     NaN     NaN      NaN     NaN  \n",
       "BsmtFin SF 1       0.0   368.0   733.75  5644.0  \n",
       "BsmtFin Type 2     NaN     NaN      NaN     NaN  \n",
       "BsmtFin SF 2       0.0     0.0      0.0  1474.0  \n",
       "Bsmt Unf SF      220.0   474.5    811.0  2336.0  \n",
       "Total Bsmt SF    793.0   994.5  1318.75  6110.0  \n",
       "Heating            NaN     NaN      NaN     NaN  "
      ]
     },
     "execution_count": 7,
     "metadata": {},
     "output_type": "execute_result"
    }
   ],
   "source": [
    "data_train.iloc[:, 20:40].describe(include='all').T"
   ]
  },
  {
   "cell_type": "code",
   "execution_count": 8,
   "id": "0151196f",
   "metadata": {},
   "outputs": [
    {
     "data": {
      "text/html": [
       "<div>\n",
       "<style scoped>\n",
       "    .dataframe tbody tr th:only-of-type {\n",
       "        vertical-align: middle;\n",
       "    }\n",
       "\n",
       "    .dataframe tbody tr th {\n",
       "        vertical-align: top;\n",
       "    }\n",
       "\n",
       "    .dataframe thead th {\n",
       "        text-align: right;\n",
       "    }\n",
       "</style>\n",
       "<table border=\"1\" class=\"dataframe\">\n",
       "  <thead>\n",
       "    <tr style=\"text-align: right;\">\n",
       "      <th></th>\n",
       "      <th>count</th>\n",
       "      <th>unique</th>\n",
       "      <th>top</th>\n",
       "      <th>freq</th>\n",
       "      <th>mean</th>\n",
       "      <th>std</th>\n",
       "      <th>min</th>\n",
       "      <th>25%</th>\n",
       "      <th>50%</th>\n",
       "      <th>75%</th>\n",
       "      <th>max</th>\n",
       "    </tr>\n",
       "  </thead>\n",
       "  <tbody>\n",
       "    <tr>\n",
       "      <th>Heating QC</th>\n",
       "      <td>2051</td>\n",
       "      <td>5</td>\n",
       "      <td>Ex</td>\n",
       "      <td>1065</td>\n",
       "      <td>NaN</td>\n",
       "      <td>NaN</td>\n",
       "      <td>NaN</td>\n",
       "      <td>NaN</td>\n",
       "      <td>NaN</td>\n",
       "      <td>NaN</td>\n",
       "      <td>NaN</td>\n",
       "    </tr>\n",
       "    <tr>\n",
       "      <th>Central Air</th>\n",
       "      <td>2051</td>\n",
       "      <td>2</td>\n",
       "      <td>Y</td>\n",
       "      <td>1910</td>\n",
       "      <td>NaN</td>\n",
       "      <td>NaN</td>\n",
       "      <td>NaN</td>\n",
       "      <td>NaN</td>\n",
       "      <td>NaN</td>\n",
       "      <td>NaN</td>\n",
       "      <td>NaN</td>\n",
       "    </tr>\n",
       "    <tr>\n",
       "      <th>Electrical</th>\n",
       "      <td>2051</td>\n",
       "      <td>5</td>\n",
       "      <td>SBrkr</td>\n",
       "      <td>1868</td>\n",
       "      <td>NaN</td>\n",
       "      <td>NaN</td>\n",
       "      <td>NaN</td>\n",
       "      <td>NaN</td>\n",
       "      <td>NaN</td>\n",
       "      <td>NaN</td>\n",
       "      <td>NaN</td>\n",
       "    </tr>\n",
       "    <tr>\n",
       "      <th>1st Flr SF</th>\n",
       "      <td>2051.0</td>\n",
       "      <td>NaN</td>\n",
       "      <td>NaN</td>\n",
       "      <td>NaN</td>\n",
       "      <td>1164.488055</td>\n",
       "      <td>396.446923</td>\n",
       "      <td>334.0</td>\n",
       "      <td>879.5</td>\n",
       "      <td>1093.0</td>\n",
       "      <td>1405.0</td>\n",
       "      <td>5095.0</td>\n",
       "    </tr>\n",
       "    <tr>\n",
       "      <th>2nd Flr SF</th>\n",
       "      <td>2051.0</td>\n",
       "      <td>NaN</td>\n",
       "      <td>NaN</td>\n",
       "      <td>NaN</td>\n",
       "      <td>329.329108</td>\n",
       "      <td>425.671046</td>\n",
       "      <td>0.0</td>\n",
       "      <td>0.0</td>\n",
       "      <td>0.0</td>\n",
       "      <td>692.5</td>\n",
       "      <td>1862.0</td>\n",
       "    </tr>\n",
       "    <tr>\n",
       "      <th>Low Qual Fin SF</th>\n",
       "      <td>2051.0</td>\n",
       "      <td>NaN</td>\n",
       "      <td>NaN</td>\n",
       "      <td>NaN</td>\n",
       "      <td>5.512921</td>\n",
       "      <td>51.06887</td>\n",
       "      <td>0.0</td>\n",
       "      <td>0.0</td>\n",
       "      <td>0.0</td>\n",
       "      <td>0.0</td>\n",
       "      <td>1064.0</td>\n",
       "    </tr>\n",
       "    <tr>\n",
       "      <th>Gr Liv Area</th>\n",
       "      <td>2051.0</td>\n",
       "      <td>NaN</td>\n",
       "      <td>NaN</td>\n",
       "      <td>NaN</td>\n",
       "      <td>1499.330083</td>\n",
       "      <td>500.447829</td>\n",
       "      <td>334.0</td>\n",
       "      <td>1129.0</td>\n",
       "      <td>1444.0</td>\n",
       "      <td>1728.5</td>\n",
       "      <td>5642.0</td>\n",
       "    </tr>\n",
       "    <tr>\n",
       "      <th>Bsmt Full Bath</th>\n",
       "      <td>2049.0</td>\n",
       "      <td>NaN</td>\n",
       "      <td>NaN</td>\n",
       "      <td>NaN</td>\n",
       "      <td>0.427526</td>\n",
       "      <td>0.522673</td>\n",
       "      <td>0.0</td>\n",
       "      <td>0.0</td>\n",
       "      <td>0.0</td>\n",
       "      <td>1.0</td>\n",
       "      <td>3.0</td>\n",
       "    </tr>\n",
       "    <tr>\n",
       "      <th>Bsmt Half Bath</th>\n",
       "      <td>2049.0</td>\n",
       "      <td>NaN</td>\n",
       "      <td>NaN</td>\n",
       "      <td>NaN</td>\n",
       "      <td>0.063446</td>\n",
       "      <td>0.251705</td>\n",
       "      <td>0.0</td>\n",
       "      <td>0.0</td>\n",
       "      <td>0.0</td>\n",
       "      <td>0.0</td>\n",
       "      <td>2.0</td>\n",
       "    </tr>\n",
       "    <tr>\n",
       "      <th>Full Bath</th>\n",
       "      <td>2051.0</td>\n",
       "      <td>NaN</td>\n",
       "      <td>NaN</td>\n",
       "      <td>NaN</td>\n",
       "      <td>1.577279</td>\n",
       "      <td>0.549279</td>\n",
       "      <td>0.0</td>\n",
       "      <td>1.0</td>\n",
       "      <td>2.0</td>\n",
       "      <td>2.0</td>\n",
       "      <td>4.0</td>\n",
       "    </tr>\n",
       "    <tr>\n",
       "      <th>Half Bath</th>\n",
       "      <td>2051.0</td>\n",
       "      <td>NaN</td>\n",
       "      <td>NaN</td>\n",
       "      <td>NaN</td>\n",
       "      <td>0.371039</td>\n",
       "      <td>0.501043</td>\n",
       "      <td>0.0</td>\n",
       "      <td>0.0</td>\n",
       "      <td>0.0</td>\n",
       "      <td>1.0</td>\n",
       "      <td>2.0</td>\n",
       "    </tr>\n",
       "    <tr>\n",
       "      <th>Bedroom AbvGr</th>\n",
       "      <td>2051.0</td>\n",
       "      <td>NaN</td>\n",
       "      <td>NaN</td>\n",
       "      <td>NaN</td>\n",
       "      <td>2.843491</td>\n",
       "      <td>0.826618</td>\n",
       "      <td>0.0</td>\n",
       "      <td>2.0</td>\n",
       "      <td>3.0</td>\n",
       "      <td>3.0</td>\n",
       "      <td>8.0</td>\n",
       "    </tr>\n",
       "    <tr>\n",
       "      <th>Kitchen AbvGr</th>\n",
       "      <td>2051.0</td>\n",
       "      <td>NaN</td>\n",
       "      <td>NaN</td>\n",
       "      <td>NaN</td>\n",
       "      <td>1.042906</td>\n",
       "      <td>0.20979</td>\n",
       "      <td>0.0</td>\n",
       "      <td>1.0</td>\n",
       "      <td>1.0</td>\n",
       "      <td>1.0</td>\n",
       "      <td>3.0</td>\n",
       "    </tr>\n",
       "    <tr>\n",
       "      <th>Kitchen Qual</th>\n",
       "      <td>2051</td>\n",
       "      <td>4</td>\n",
       "      <td>TA</td>\n",
       "      <td>1047</td>\n",
       "      <td>NaN</td>\n",
       "      <td>NaN</td>\n",
       "      <td>NaN</td>\n",
       "      <td>NaN</td>\n",
       "      <td>NaN</td>\n",
       "      <td>NaN</td>\n",
       "      <td>NaN</td>\n",
       "    </tr>\n",
       "    <tr>\n",
       "      <th>TotRms AbvGrd</th>\n",
       "      <td>2051.0</td>\n",
       "      <td>NaN</td>\n",
       "      <td>NaN</td>\n",
       "      <td>NaN</td>\n",
       "      <td>6.435885</td>\n",
       "      <td>1.560225</td>\n",
       "      <td>2.0</td>\n",
       "      <td>5.0</td>\n",
       "      <td>6.0</td>\n",
       "      <td>7.0</td>\n",
       "      <td>15.0</td>\n",
       "    </tr>\n",
       "    <tr>\n",
       "      <th>Functional</th>\n",
       "      <td>2051</td>\n",
       "      <td>8</td>\n",
       "      <td>Typ</td>\n",
       "      <td>1915</td>\n",
       "      <td>NaN</td>\n",
       "      <td>NaN</td>\n",
       "      <td>NaN</td>\n",
       "      <td>NaN</td>\n",
       "      <td>NaN</td>\n",
       "      <td>NaN</td>\n",
       "      <td>NaN</td>\n",
       "    </tr>\n",
       "    <tr>\n",
       "      <th>Fireplaces</th>\n",
       "      <td>2051.0</td>\n",
       "      <td>NaN</td>\n",
       "      <td>NaN</td>\n",
       "      <td>NaN</td>\n",
       "      <td>0.590931</td>\n",
       "      <td>0.638516</td>\n",
       "      <td>0.0</td>\n",
       "      <td>0.0</td>\n",
       "      <td>1.0</td>\n",
       "      <td>1.0</td>\n",
       "      <td>4.0</td>\n",
       "    </tr>\n",
       "    <tr>\n",
       "      <th>Fireplace Qu</th>\n",
       "      <td>1051</td>\n",
       "      <td>5</td>\n",
       "      <td>Gd</td>\n",
       "      <td>523</td>\n",
       "      <td>NaN</td>\n",
       "      <td>NaN</td>\n",
       "      <td>NaN</td>\n",
       "      <td>NaN</td>\n",
       "      <td>NaN</td>\n",
       "      <td>NaN</td>\n",
       "      <td>NaN</td>\n",
       "    </tr>\n",
       "    <tr>\n",
       "      <th>Garage Type</th>\n",
       "      <td>1938</td>\n",
       "      <td>6</td>\n",
       "      <td>Attchd</td>\n",
       "      <td>1213</td>\n",
       "      <td>NaN</td>\n",
       "      <td>NaN</td>\n",
       "      <td>NaN</td>\n",
       "      <td>NaN</td>\n",
       "      <td>NaN</td>\n",
       "      <td>NaN</td>\n",
       "      <td>NaN</td>\n",
       "    </tr>\n",
       "    <tr>\n",
       "      <th>Garage Yr Blt</th>\n",
       "      <td>1937.0</td>\n",
       "      <td>NaN</td>\n",
       "      <td>NaN</td>\n",
       "      <td>NaN</td>\n",
       "      <td>1978.707796</td>\n",
       "      <td>25.441094</td>\n",
       "      <td>1895.0</td>\n",
       "      <td>1961.0</td>\n",
       "      <td>1980.0</td>\n",
       "      <td>2002.0</td>\n",
       "      <td>2207.0</td>\n",
       "    </tr>\n",
       "  </tbody>\n",
       "</table>\n",
       "</div>"
      ],
      "text/plain": [
       "                  count unique     top  freq         mean         std     min  \\\n",
       "Heating QC         2051      5      Ex  1065          NaN         NaN     NaN   \n",
       "Central Air        2051      2       Y  1910          NaN         NaN     NaN   \n",
       "Electrical         2051      5   SBrkr  1868          NaN         NaN     NaN   \n",
       "1st Flr SF       2051.0    NaN     NaN   NaN  1164.488055  396.446923   334.0   \n",
       "2nd Flr SF       2051.0    NaN     NaN   NaN   329.329108  425.671046     0.0   \n",
       "Low Qual Fin SF  2051.0    NaN     NaN   NaN     5.512921    51.06887     0.0   \n",
       "Gr Liv Area      2051.0    NaN     NaN   NaN  1499.330083  500.447829   334.0   \n",
       "Bsmt Full Bath   2049.0    NaN     NaN   NaN     0.427526    0.522673     0.0   \n",
       "Bsmt Half Bath   2049.0    NaN     NaN   NaN     0.063446    0.251705     0.0   \n",
       "Full Bath        2051.0    NaN     NaN   NaN     1.577279    0.549279     0.0   \n",
       "Half Bath        2051.0    NaN     NaN   NaN     0.371039    0.501043     0.0   \n",
       "Bedroom AbvGr    2051.0    NaN     NaN   NaN     2.843491    0.826618     0.0   \n",
       "Kitchen AbvGr    2051.0    NaN     NaN   NaN     1.042906     0.20979     0.0   \n",
       "Kitchen Qual       2051      4      TA  1047          NaN         NaN     NaN   \n",
       "TotRms AbvGrd    2051.0    NaN     NaN   NaN     6.435885    1.560225     2.0   \n",
       "Functional         2051      8     Typ  1915          NaN         NaN     NaN   \n",
       "Fireplaces       2051.0    NaN     NaN   NaN     0.590931    0.638516     0.0   \n",
       "Fireplace Qu       1051      5      Gd   523          NaN         NaN     NaN   \n",
       "Garage Type        1938      6  Attchd  1213          NaN         NaN     NaN   \n",
       "Garage Yr Blt    1937.0    NaN     NaN   NaN  1978.707796   25.441094  1895.0   \n",
       "\n",
       "                    25%     50%     75%     max  \n",
       "Heating QC          NaN     NaN     NaN     NaN  \n",
       "Central Air         NaN     NaN     NaN     NaN  \n",
       "Electrical          NaN     NaN     NaN     NaN  \n",
       "1st Flr SF        879.5  1093.0  1405.0  5095.0  \n",
       "2nd Flr SF          0.0     0.0   692.5  1862.0  \n",
       "Low Qual Fin SF     0.0     0.0     0.0  1064.0  \n",
       "Gr Liv Area      1129.0  1444.0  1728.5  5642.0  \n",
       "Bsmt Full Bath      0.0     0.0     1.0     3.0  \n",
       "Bsmt Half Bath      0.0     0.0     0.0     2.0  \n",
       "Full Bath           1.0     2.0     2.0     4.0  \n",
       "Half Bath           0.0     0.0     1.0     2.0  \n",
       "Bedroom AbvGr       2.0     3.0     3.0     8.0  \n",
       "Kitchen AbvGr       1.0     1.0     1.0     3.0  \n",
       "Kitchen Qual        NaN     NaN     NaN     NaN  \n",
       "TotRms AbvGrd       5.0     6.0     7.0    15.0  \n",
       "Functional          NaN     NaN     NaN     NaN  \n",
       "Fireplaces          0.0     1.0     1.0     4.0  \n",
       "Fireplace Qu        NaN     NaN     NaN     NaN  \n",
       "Garage Type         NaN     NaN     NaN     NaN  \n",
       "Garage Yr Blt    1961.0  1980.0  2002.0  2207.0  "
      ]
     },
     "execution_count": 8,
     "metadata": {},
     "output_type": "execute_result"
    }
   ],
   "source": [
    "data_train.iloc[:, 40:60].describe(include='all').T"
   ]
  },
  {
   "cell_type": "code",
   "execution_count": 9,
   "id": "e9d8e908",
   "metadata": {},
   "outputs": [
    {
     "data": {
      "text/html": [
       "<div>\n",
       "<style scoped>\n",
       "    .dataframe tbody tr th:only-of-type {\n",
       "        vertical-align: middle;\n",
       "    }\n",
       "\n",
       "    .dataframe tbody tr th {\n",
       "        vertical-align: top;\n",
       "    }\n",
       "\n",
       "    .dataframe thead th {\n",
       "        text-align: right;\n",
       "    }\n",
       "</style>\n",
       "<table border=\"1\" class=\"dataframe\">\n",
       "  <thead>\n",
       "    <tr style=\"text-align: right;\">\n",
       "      <th></th>\n",
       "      <th>count</th>\n",
       "      <th>unique</th>\n",
       "      <th>top</th>\n",
       "      <th>freq</th>\n",
       "      <th>mean</th>\n",
       "      <th>std</th>\n",
       "      <th>min</th>\n",
       "      <th>25%</th>\n",
       "      <th>50%</th>\n",
       "      <th>75%</th>\n",
       "      <th>max</th>\n",
       "    </tr>\n",
       "  </thead>\n",
       "  <tbody>\n",
       "    <tr>\n",
       "      <th>Garage Finish</th>\n",
       "      <td>1937</td>\n",
       "      <td>3</td>\n",
       "      <td>Unf</td>\n",
       "      <td>849</td>\n",
       "      <td>NaN</td>\n",
       "      <td>NaN</td>\n",
       "      <td>NaN</td>\n",
       "      <td>NaN</td>\n",
       "      <td>NaN</td>\n",
       "      <td>NaN</td>\n",
       "      <td>NaN</td>\n",
       "    </tr>\n",
       "    <tr>\n",
       "      <th>Garage Cars</th>\n",
       "      <td>2050.0</td>\n",
       "      <td>NaN</td>\n",
       "      <td>NaN</td>\n",
       "      <td>NaN</td>\n",
       "      <td>1.776585</td>\n",
       "      <td>0.764537</td>\n",
       "      <td>0.0</td>\n",
       "      <td>1.0</td>\n",
       "      <td>2.0</td>\n",
       "      <td>2.0</td>\n",
       "      <td>5.0</td>\n",
       "    </tr>\n",
       "    <tr>\n",
       "      <th>Garage Area</th>\n",
       "      <td>2050.0</td>\n",
       "      <td>NaN</td>\n",
       "      <td>NaN</td>\n",
       "      <td>NaN</td>\n",
       "      <td>473.671707</td>\n",
       "      <td>215.934561</td>\n",
       "      <td>0.0</td>\n",
       "      <td>319.0</td>\n",
       "      <td>480.0</td>\n",
       "      <td>576.0</td>\n",
       "      <td>1418.0</td>\n",
       "    </tr>\n",
       "    <tr>\n",
       "      <th>Garage Qual</th>\n",
       "      <td>1937</td>\n",
       "      <td>5</td>\n",
       "      <td>TA</td>\n",
       "      <td>1832</td>\n",
       "      <td>NaN</td>\n",
       "      <td>NaN</td>\n",
       "      <td>NaN</td>\n",
       "      <td>NaN</td>\n",
       "      <td>NaN</td>\n",
       "      <td>NaN</td>\n",
       "      <td>NaN</td>\n",
       "    </tr>\n",
       "    <tr>\n",
       "      <th>Garage Cond</th>\n",
       "      <td>1937</td>\n",
       "      <td>5</td>\n",
       "      <td>TA</td>\n",
       "      <td>1868</td>\n",
       "      <td>NaN</td>\n",
       "      <td>NaN</td>\n",
       "      <td>NaN</td>\n",
       "      <td>NaN</td>\n",
       "      <td>NaN</td>\n",
       "      <td>NaN</td>\n",
       "      <td>NaN</td>\n",
       "    </tr>\n",
       "    <tr>\n",
       "      <th>Paved Drive</th>\n",
       "      <td>2051</td>\n",
       "      <td>3</td>\n",
       "      <td>Y</td>\n",
       "      <td>1861</td>\n",
       "      <td>NaN</td>\n",
       "      <td>NaN</td>\n",
       "      <td>NaN</td>\n",
       "      <td>NaN</td>\n",
       "      <td>NaN</td>\n",
       "      <td>NaN</td>\n",
       "      <td>NaN</td>\n",
       "    </tr>\n",
       "    <tr>\n",
       "      <th>Wood Deck SF</th>\n",
       "      <td>2051.0</td>\n",
       "      <td>NaN</td>\n",
       "      <td>NaN</td>\n",
       "      <td>NaN</td>\n",
       "      <td>93.83374</td>\n",
       "      <td>128.549416</td>\n",
       "      <td>0.0</td>\n",
       "      <td>0.0</td>\n",
       "      <td>0.0</td>\n",
       "      <td>168.0</td>\n",
       "      <td>1424.0</td>\n",
       "    </tr>\n",
       "    <tr>\n",
       "      <th>Open Porch SF</th>\n",
       "      <td>2051.0</td>\n",
       "      <td>NaN</td>\n",
       "      <td>NaN</td>\n",
       "      <td>NaN</td>\n",
       "      <td>47.556802</td>\n",
       "      <td>66.747241</td>\n",
       "      <td>0.0</td>\n",
       "      <td>0.0</td>\n",
       "      <td>27.0</td>\n",
       "      <td>70.0</td>\n",
       "      <td>547.0</td>\n",
       "    </tr>\n",
       "    <tr>\n",
       "      <th>Enclosed Porch</th>\n",
       "      <td>2051.0</td>\n",
       "      <td>NaN</td>\n",
       "      <td>NaN</td>\n",
       "      <td>NaN</td>\n",
       "      <td>22.571916</td>\n",
       "      <td>59.84511</td>\n",
       "      <td>0.0</td>\n",
       "      <td>0.0</td>\n",
       "      <td>0.0</td>\n",
       "      <td>0.0</td>\n",
       "      <td>432.0</td>\n",
       "    </tr>\n",
       "    <tr>\n",
       "      <th>3Ssn Porch</th>\n",
       "      <td>2051.0</td>\n",
       "      <td>NaN</td>\n",
       "      <td>NaN</td>\n",
       "      <td>NaN</td>\n",
       "      <td>2.591419</td>\n",
       "      <td>25.229615</td>\n",
       "      <td>0.0</td>\n",
       "      <td>0.0</td>\n",
       "      <td>0.0</td>\n",
       "      <td>0.0</td>\n",
       "      <td>508.0</td>\n",
       "    </tr>\n",
       "    <tr>\n",
       "      <th>Screen Porch</th>\n",
       "      <td>2051.0</td>\n",
       "      <td>NaN</td>\n",
       "      <td>NaN</td>\n",
       "      <td>NaN</td>\n",
       "      <td>16.511458</td>\n",
       "      <td>57.374204</td>\n",
       "      <td>0.0</td>\n",
       "      <td>0.0</td>\n",
       "      <td>0.0</td>\n",
       "      <td>0.0</td>\n",
       "      <td>490.0</td>\n",
       "    </tr>\n",
       "    <tr>\n",
       "      <th>Pool Area</th>\n",
       "      <td>2051.0</td>\n",
       "      <td>NaN</td>\n",
       "      <td>NaN</td>\n",
       "      <td>NaN</td>\n",
       "      <td>2.397855</td>\n",
       "      <td>37.78257</td>\n",
       "      <td>0.0</td>\n",
       "      <td>0.0</td>\n",
       "      <td>0.0</td>\n",
       "      <td>0.0</td>\n",
       "      <td>800.0</td>\n",
       "    </tr>\n",
       "    <tr>\n",
       "      <th>Pool QC</th>\n",
       "      <td>9</td>\n",
       "      <td>4</td>\n",
       "      <td>Gd</td>\n",
       "      <td>4</td>\n",
       "      <td>NaN</td>\n",
       "      <td>NaN</td>\n",
       "      <td>NaN</td>\n",
       "      <td>NaN</td>\n",
       "      <td>NaN</td>\n",
       "      <td>NaN</td>\n",
       "      <td>NaN</td>\n",
       "    </tr>\n",
       "    <tr>\n",
       "      <th>Fence</th>\n",
       "      <td>400</td>\n",
       "      <td>4</td>\n",
       "      <td>MnPrv</td>\n",
       "      <td>227</td>\n",
       "      <td>NaN</td>\n",
       "      <td>NaN</td>\n",
       "      <td>NaN</td>\n",
       "      <td>NaN</td>\n",
       "      <td>NaN</td>\n",
       "      <td>NaN</td>\n",
       "      <td>NaN</td>\n",
       "    </tr>\n",
       "    <tr>\n",
       "      <th>Misc Feature</th>\n",
       "      <td>65</td>\n",
       "      <td>5</td>\n",
       "      <td>Shed</td>\n",
       "      <td>56</td>\n",
       "      <td>NaN</td>\n",
       "      <td>NaN</td>\n",
       "      <td>NaN</td>\n",
       "      <td>NaN</td>\n",
       "      <td>NaN</td>\n",
       "      <td>NaN</td>\n",
       "      <td>NaN</td>\n",
       "    </tr>\n",
       "    <tr>\n",
       "      <th>Misc Val</th>\n",
       "      <td>2051.0</td>\n",
       "      <td>NaN</td>\n",
       "      <td>NaN</td>\n",
       "      <td>NaN</td>\n",
       "      <td>51.574354</td>\n",
       "      <td>573.393985</td>\n",
       "      <td>0.0</td>\n",
       "      <td>0.0</td>\n",
       "      <td>0.0</td>\n",
       "      <td>0.0</td>\n",
       "      <td>17000.0</td>\n",
       "    </tr>\n",
       "    <tr>\n",
       "      <th>Mo Sold</th>\n",
       "      <td>2051.0</td>\n",
       "      <td>NaN</td>\n",
       "      <td>NaN</td>\n",
       "      <td>NaN</td>\n",
       "      <td>6.219893</td>\n",
       "      <td>2.744736</td>\n",
       "      <td>1.0</td>\n",
       "      <td>4.0</td>\n",
       "      <td>6.0</td>\n",
       "      <td>8.0</td>\n",
       "      <td>12.0</td>\n",
       "    </tr>\n",
       "    <tr>\n",
       "      <th>Yr Sold</th>\n",
       "      <td>2051.0</td>\n",
       "      <td>NaN</td>\n",
       "      <td>NaN</td>\n",
       "      <td>NaN</td>\n",
       "      <td>2007.775719</td>\n",
       "      <td>1.312014</td>\n",
       "      <td>2006.0</td>\n",
       "      <td>2007.0</td>\n",
       "      <td>2008.0</td>\n",
       "      <td>2009.0</td>\n",
       "      <td>2010.0</td>\n",
       "    </tr>\n",
       "    <tr>\n",
       "      <th>Sale Type</th>\n",
       "      <td>2051</td>\n",
       "      <td>9</td>\n",
       "      <td>WD</td>\n",
       "      <td>1781</td>\n",
       "      <td>NaN</td>\n",
       "      <td>NaN</td>\n",
       "      <td>NaN</td>\n",
       "      <td>NaN</td>\n",
       "      <td>NaN</td>\n",
       "      <td>NaN</td>\n",
       "      <td>NaN</td>\n",
       "    </tr>\n",
       "    <tr>\n",
       "      <th>SalePrice</th>\n",
       "      <td>2051.0</td>\n",
       "      <td>NaN</td>\n",
       "      <td>NaN</td>\n",
       "      <td>NaN</td>\n",
       "      <td>181469.701609</td>\n",
       "      <td>79258.659352</td>\n",
       "      <td>12789.0</td>\n",
       "      <td>129825.0</td>\n",
       "      <td>162500.0</td>\n",
       "      <td>214000.0</td>\n",
       "      <td>611657.0</td>\n",
       "    </tr>\n",
       "  </tbody>\n",
       "</table>\n",
       "</div>"
      ],
      "text/plain": [
       "                 count unique    top  freq           mean           std  \\\n",
       "Garage Finish     1937      3    Unf   849            NaN           NaN   \n",
       "Garage Cars     2050.0    NaN    NaN   NaN       1.776585      0.764537   \n",
       "Garage Area     2050.0    NaN    NaN   NaN     473.671707    215.934561   \n",
       "Garage Qual       1937      5     TA  1832            NaN           NaN   \n",
       "Garage Cond       1937      5     TA  1868            NaN           NaN   \n",
       "Paved Drive       2051      3      Y  1861            NaN           NaN   \n",
       "Wood Deck SF    2051.0    NaN    NaN   NaN       93.83374    128.549416   \n",
       "Open Porch SF   2051.0    NaN    NaN   NaN      47.556802     66.747241   \n",
       "Enclosed Porch  2051.0    NaN    NaN   NaN      22.571916      59.84511   \n",
       "3Ssn Porch      2051.0    NaN    NaN   NaN       2.591419     25.229615   \n",
       "Screen Porch    2051.0    NaN    NaN   NaN      16.511458     57.374204   \n",
       "Pool Area       2051.0    NaN    NaN   NaN       2.397855      37.78257   \n",
       "Pool QC              9      4     Gd     4            NaN           NaN   \n",
       "Fence              400      4  MnPrv   227            NaN           NaN   \n",
       "Misc Feature        65      5   Shed    56            NaN           NaN   \n",
       "Misc Val        2051.0    NaN    NaN   NaN      51.574354    573.393985   \n",
       "Mo Sold         2051.0    NaN    NaN   NaN       6.219893      2.744736   \n",
       "Yr Sold         2051.0    NaN    NaN   NaN    2007.775719      1.312014   \n",
       "Sale Type         2051      9    WD   1781            NaN           NaN   \n",
       "SalePrice       2051.0    NaN    NaN   NaN  181469.701609  79258.659352   \n",
       "\n",
       "                    min       25%       50%       75%       max  \n",
       "Garage Finish       NaN       NaN       NaN       NaN       NaN  \n",
       "Garage Cars         0.0       1.0       2.0       2.0       5.0  \n",
       "Garage Area         0.0     319.0     480.0     576.0    1418.0  \n",
       "Garage Qual         NaN       NaN       NaN       NaN       NaN  \n",
       "Garage Cond         NaN       NaN       NaN       NaN       NaN  \n",
       "Paved Drive         NaN       NaN       NaN       NaN       NaN  \n",
       "Wood Deck SF        0.0       0.0       0.0     168.0    1424.0  \n",
       "Open Porch SF       0.0       0.0      27.0      70.0     547.0  \n",
       "Enclosed Porch      0.0       0.0       0.0       0.0     432.0  \n",
       "3Ssn Porch          0.0       0.0       0.0       0.0     508.0  \n",
       "Screen Porch        0.0       0.0       0.0       0.0     490.0  \n",
       "Pool Area           0.0       0.0       0.0       0.0     800.0  \n",
       "Pool QC             NaN       NaN       NaN       NaN       NaN  \n",
       "Fence               NaN       NaN       NaN       NaN       NaN  \n",
       "Misc Feature        NaN       NaN       NaN       NaN       NaN  \n",
       "Misc Val            0.0       0.0       0.0       0.0   17000.0  \n",
       "Mo Sold             1.0       4.0       6.0       8.0      12.0  \n",
       "Yr Sold          2006.0    2007.0    2008.0    2009.0    2010.0  \n",
       "Sale Type           NaN       NaN       NaN       NaN       NaN  \n",
       "SalePrice       12789.0  129825.0  162500.0  214000.0  611657.0  "
      ]
     },
     "execution_count": 9,
     "metadata": {},
     "output_type": "execute_result"
    }
   ],
   "source": [
    "data_train.iloc[:, 60:].describe(include='all').T"
   ]
  },
  {
   "cell_type": "markdown",
   "id": "c27d5934",
   "metadata": {},
   "source": [
    "There are no outliers or negative values found for the all the 81 features."
   ]
  },
  {
   "cell_type": "markdown",
   "id": "b1e1face",
   "metadata": {},
   "source": [
    "### Categorical Data\n",
    "These are the categorical features which are on a scale and the respective missing values.\n",
    "\n",
    "Pool QC - 2042<br>\n",
    "Misc Feature - 1986<br>\n",
    "Alley - 1911<br>\n",
    "Fence - 1651<br>\n",
    "Fireplace Qu - 1000<br>\n",
    "Garage Finish - 114<br>\n",
    "Garage Qual - 114<br>\n",
    "Garage Cond - 114<br>\n",
    "Garage Type - 113<br>\n",
    "Bsmt Exposure - 58<br>\n",
    "BsmtFin Type 2 - 56<br>\n",
    "BsmtFin Type 1 - 55<br>\n",
    "Bsmt Cond - 55<br>\n",
    "Bsmt Qual - 55<br>\n",
    "Mas Vnr Type - 22<br>\n",
    "\n",
    "Data that have less than 60% data are dropped."
   ]
  },
  {
   "cell_type": "code",
   "execution_count": 10,
   "id": "a50af62c",
   "metadata": {
    "scrolled": true
   },
   "outputs": [],
   "source": [
    "data_train.drop(columns=['Alley', 'Pool QC', 'Fence', 'Misc Feature', 'Fireplace Qu', 'PID'], inplace=True)"
   ]
  },
  {
   "cell_type": "markdown",
   "id": "526373de",
   "metadata": {},
   "source": [
    "In all of the categorical features which have \"missing values\", it is observed that the the negative option/absence of the category i.e. no garage/no pool, has been translated into nan instead of NA with the exception of 'Mas Vnr Type'. First, we will proceed to replace nan with NA in the other features."
   ]
  },
  {
   "cell_type": "code",
   "execution_count": 11,
   "id": "77e14efc",
   "metadata": {},
   "outputs": [],
   "source": [
    "data_train['Bsmt Exposure'].replace(np.nan, 'NA', inplace=True)"
   ]
  },
  {
   "cell_type": "code",
   "execution_count": 12,
   "id": "1ea95294",
   "metadata": {},
   "outputs": [],
   "source": [
    "data_train['BsmtFin Type 2'].replace(np.nan, 'NA', inplace=True)"
   ]
  },
  {
   "cell_type": "code",
   "execution_count": 13,
   "id": "1ae806bf",
   "metadata": {},
   "outputs": [],
   "source": [
    "data_train['BsmtFin Type 1'].replace(np.nan, 'NA', inplace=True)"
   ]
  },
  {
   "cell_type": "code",
   "execution_count": 14,
   "id": "84e8f379",
   "metadata": {},
   "outputs": [],
   "source": [
    "data_train['Garage Finish'].replace(np.nan, 'NA', inplace=True)"
   ]
  },
  {
   "cell_type": "code",
   "execution_count": 15,
   "id": "470c56b6",
   "metadata": {},
   "outputs": [],
   "source": [
    "data_train['Garage Qual'].replace(np.nan, 'NA', inplace=True)"
   ]
  },
  {
   "cell_type": "code",
   "execution_count": 16,
   "id": "660f3846",
   "metadata": {},
   "outputs": [],
   "source": [
    "data_train['Garage Cond'].replace(np.nan, 'NA', inplace=True)"
   ]
  },
  {
   "cell_type": "code",
   "execution_count": 17,
   "id": "5e82d800",
   "metadata": {},
   "outputs": [],
   "source": [
    "data_train['Garage Type'].replace(np.nan, 'NA', inplace=True)"
   ]
  },
  {
   "cell_type": "code",
   "execution_count": 18,
   "id": "9b8adfdb",
   "metadata": {},
   "outputs": [],
   "source": [
    "data_train['Bsmt Qual'].replace(np.nan, 'NA', inplace=True)"
   ]
  },
  {
   "cell_type": "code",
   "execution_count": 19,
   "id": "7d15a2df",
   "metadata": {},
   "outputs": [],
   "source": [
    "data_train['Bsmt Cond'].replace(np.nan, 'NA', inplace=True)"
   ]
  },
  {
   "cell_type": "markdown",
   "id": "0db500c3",
   "metadata": {},
   "source": [
    "A little paranoid, so I will check whether the missing values have been replaced to 'NA'. "
   ]
  },
  {
   "cell_type": "code",
   "execution_count": 20,
   "id": "6c19554e",
   "metadata": {
    "scrolled": true
   },
   "outputs": [
    {
     "data": {
      "text/plain": [
       "Lot Frontage       330\n",
       "Garage Yr Blt      114\n",
       "Mas Vnr Type        22\n",
       "Mas Vnr Area        22\n",
       "Bsmt Full Bath       2\n",
       "Bsmt Half Bath       2\n",
       "Total Bsmt SF        1\n",
       "Bsmt Unf SF          1\n",
       "BsmtFin SF 2         1\n",
       "BsmtFin SF 1         1\n",
       "Garage Cars          1\n",
       "Garage Area          1\n",
       "Kitchen Qual         0\n",
       "TotRms AbvGrd        0\n",
       "MS SubClass          0\n",
       "Kitchen AbvGr        0\n",
       "Bedroom AbvGr        0\n",
       "Half Bath            0\n",
       "Functional           0\n",
       "Gr Liv Area          0\n",
       "Low Qual Fin SF      0\n",
       "Full Bath            0\n",
       "Garage Type          0\n",
       "Fireplaces           0\n",
       "3Ssn Porch           0\n",
       "Sale Type            0\n",
       "Yr Sold              0\n",
       "Mo Sold              0\n",
       "Misc Val             0\n",
       "Pool Area            0\n",
       "                  ... \n",
       "Street               0\n",
       "Lot Shape            0\n",
       "Land Contour         0\n",
       "Utilities            0\n",
       "Lot Config           0\n",
       "Land Slope           0\n",
       "Neighborhood         0\n",
       "Condition 1          0\n",
       "Condition 2          0\n",
       "Bldg Type            0\n",
       "House Style          0\n",
       "Overall Qual         0\n",
       "Overall Cond         0\n",
       "Year Remod/Add       0\n",
       "Central Air          0\n",
       "Roof Style           0\n",
       "Roof Matl            0\n",
       "Exterior 1st         0\n",
       "Exterior 2nd         0\n",
       "Exter Qual           0\n",
       "Exter Cond           0\n",
       "Foundation           0\n",
       "Bsmt Qual            0\n",
       "Bsmt Cond            0\n",
       "Bsmt Exposure        0\n",
       "BsmtFin Type 1       0\n",
       "BsmtFin Type 2       0\n",
       "MS Zoning            0\n",
       "Heating QC           0\n",
       "SalePrice            0\n",
       "Length: 74, dtype: int64"
      ]
     },
     "execution_count": 20,
     "metadata": {},
     "output_type": "execute_result"
    }
   ],
   "source": [
    "data_train.isna().sum().sort_values(ascending=False)"
   ]
  },
  {
   "cell_type": "markdown",
   "id": "b49d21ab",
   "metadata": {},
   "source": [
    "Yes, they have! Now, we're left with 'Mas Vnr Type'. The options for this feature are BrkCmn (Brick Common), BrkFace (Brick Face), CBlock (Cinder Block), None and Stone. "
   ]
  },
  {
   "cell_type": "code",
   "execution_count": 21,
   "id": "6ad45d93",
   "metadata": {},
   "outputs": [
    {
     "data": {
      "text/plain": [
       "array(['BrkFace', 'None', nan, 'Stone', 'BrkCmn'], dtype=object)"
      ]
     },
     "execution_count": 21,
     "metadata": {},
     "output_type": "execute_result"
    }
   ],
   "source": [
    "data_train['Mas Vnr Type'].unique()"
   ]
  },
  {
   "cell_type": "markdown",
   "id": "e5908f96",
   "metadata": {},
   "source": [
    "Hence, we will proceed to drop the 22 rows. It is only about 1% about the training set, which we hope won't affect the training model too much."
   ]
  },
  {
   "cell_type": "code",
   "execution_count": 22,
   "id": "8edc489c",
   "metadata": {},
   "outputs": [],
   "source": [
    "data_train.dropna(subset=['Mas Vnr Type'], inplace=True)"
   ]
  },
  {
   "cell_type": "markdown",
   "id": "b46d72bb",
   "metadata": {},
   "source": [
    "Again, we'll check whether the np.nan values in 'Mas Vnr Type' has been dropped."
   ]
  },
  {
   "cell_type": "code",
   "execution_count": 23,
   "id": "f42c5d34",
   "metadata": {
    "scrolled": true
   },
   "outputs": [
    {
     "data": {
      "text/plain": [
       "Lot Frontage       324\n",
       "Garage Yr Blt      113\n",
       "Bsmt Half Bath       2\n",
       "Bsmt Full Bath       2\n",
       "Total Bsmt SF        1\n",
       "BsmtFin SF 2         1\n",
       "BsmtFin SF 1         1\n",
       "Garage Cars          1\n",
       "Garage Area          1\n",
       "Bsmt Unf SF          1\n",
       "Bedroom AbvGr        0\n",
       "TotRms AbvGrd        0\n",
       "Kitchen Qual         0\n",
       "Kitchen AbvGr        0\n",
       "Full Bath            0\n",
       "Half Bath            0\n",
       "2nd Flr SF           0\n",
       "Fireplaces           0\n",
       "Gr Liv Area          0\n",
       "Low Qual Fin SF      0\n",
       "Functional           0\n",
       "MS SubClass          0\n",
       "Garage Type          0\n",
       "3Ssn Porch           0\n",
       "Sale Type            0\n",
       "Yr Sold              0\n",
       "Mo Sold              0\n",
       "Misc Val             0\n",
       "Pool Area            0\n",
       "Screen Porch         0\n",
       "                  ... \n",
       "House Style          0\n",
       "Bldg Type            0\n",
       "Condition 2          0\n",
       "Condition 1          0\n",
       "Land Slope           0\n",
       "Heating QC           0\n",
       "Lot Config           0\n",
       "Utilities            0\n",
       "Land Contour         0\n",
       "Lot Shape            0\n",
       "Street               0\n",
       "Lot Area             0\n",
       "Year Built           0\n",
       "Year Remod/Add       0\n",
       "Roof Style           0\n",
       "Roof Matl            0\n",
       "Exterior 1st         0\n",
       "Exterior 2nd         0\n",
       "Mas Vnr Type         0\n",
       "Mas Vnr Area         0\n",
       "Exter Qual           0\n",
       "Exter Cond           0\n",
       "Foundation           0\n",
       "Bsmt Qual            0\n",
       "Bsmt Cond            0\n",
       "Bsmt Exposure        0\n",
       "BsmtFin Type 1       0\n",
       "BsmtFin Type 2       0\n",
       "MS Zoning            0\n",
       "SalePrice            0\n",
       "Length: 74, dtype: int64"
      ]
     },
     "execution_count": 23,
     "metadata": {},
     "output_type": "execute_result"
    }
   ],
   "source": [
    "data_train.isna().sum().sort_values(ascending=False)"
   ]
  },
  {
   "cell_type": "markdown",
   "id": "21b9f6d8",
   "metadata": {},
   "source": [
    "Sidenote: It has also dropped 'Mas Vnr Area'."
   ]
  },
  {
   "cell_type": "code",
   "execution_count": 24,
   "id": "133d6284",
   "metadata": {
    "scrolled": true
   },
   "outputs": [
    {
     "name": "stdout",
     "output_type": "stream",
     "text": [
      "<class 'pandas.core.frame.DataFrame'>\n",
      "Int64Index: 2029 entries, 109 to 10\n",
      "Data columns (total 74 columns):\n",
      " #   Column           Non-Null Count  Dtype  \n",
      "---  ------           --------------  -----  \n",
      " 0   MS SubClass      2029 non-null   int64  \n",
      " 1   MS Zoning        2029 non-null   object \n",
      " 2   Lot Frontage     1705 non-null   float64\n",
      " 3   Lot Area         2029 non-null   int64  \n",
      " 4   Street           2029 non-null   object \n",
      " 5   Lot Shape        2029 non-null   object \n",
      " 6   Land Contour     2029 non-null   object \n",
      " 7   Utilities        2029 non-null   object \n",
      " 8   Lot Config       2029 non-null   object \n",
      " 9   Land Slope       2029 non-null   object \n",
      " 10  Neighborhood     2029 non-null   object \n",
      " 11  Condition 1      2029 non-null   object \n",
      " 12  Condition 2      2029 non-null   object \n",
      " 13  Bldg Type        2029 non-null   object \n",
      " 14  House Style      2029 non-null   object \n",
      " 15  Overall Qual     2029 non-null   int64  \n",
      " 16  Overall Cond     2029 non-null   int64  \n",
      " 17  Year Built       2029 non-null   int64  \n",
      " 18  Year Remod/Add   2029 non-null   int64  \n",
      " 19  Roof Style       2029 non-null   object \n",
      " 20  Roof Matl        2029 non-null   object \n",
      " 21  Exterior 1st     2029 non-null   object \n",
      " 22  Exterior 2nd     2029 non-null   object \n",
      " 23  Mas Vnr Type     2029 non-null   object \n",
      " 24  Mas Vnr Area     2029 non-null   float64\n",
      " 25  Exter Qual       2029 non-null   object \n",
      " 26  Exter Cond       2029 non-null   object \n",
      " 27  Foundation       2029 non-null   object \n",
      " 28  Bsmt Qual        2029 non-null   object \n",
      " 29  Bsmt Cond        2029 non-null   object \n",
      " 30  Bsmt Exposure    2029 non-null   object \n",
      " 31  BsmtFin Type 1   2029 non-null   object \n",
      " 32  BsmtFin SF 1     2028 non-null   float64\n",
      " 33  BsmtFin Type 2   2029 non-null   object \n",
      " 34  BsmtFin SF 2     2028 non-null   float64\n",
      " 35  Bsmt Unf SF      2028 non-null   float64\n",
      " 36  Total Bsmt SF    2028 non-null   float64\n",
      " 37  Heating          2029 non-null   object \n",
      " 38  Heating QC       2029 non-null   object \n",
      " 39  Central Air      2029 non-null   object \n",
      " 40  Electrical       2029 non-null   object \n",
      " 41  1st Flr SF       2029 non-null   int64  \n",
      " 42  2nd Flr SF       2029 non-null   int64  \n",
      " 43  Low Qual Fin SF  2029 non-null   int64  \n",
      " 44  Gr Liv Area      2029 non-null   int64  \n",
      " 45  Bsmt Full Bath   2027 non-null   float64\n",
      " 46  Bsmt Half Bath   2027 non-null   float64\n",
      " 47  Full Bath        2029 non-null   int64  \n",
      " 48  Half Bath        2029 non-null   int64  \n",
      " 49  Bedroom AbvGr    2029 non-null   int64  \n",
      " 50  Kitchen AbvGr    2029 non-null   int64  \n",
      " 51  Kitchen Qual     2029 non-null   object \n",
      " 52  TotRms AbvGrd    2029 non-null   int64  \n",
      " 53  Functional       2029 non-null   object \n",
      " 54  Fireplaces       2029 non-null   int64  \n",
      " 55  Garage Type      2029 non-null   object \n",
      " 56  Garage Yr Blt    1916 non-null   float64\n",
      " 57  Garage Finish    2029 non-null   object \n",
      " 58  Garage Cars      2028 non-null   float64\n",
      " 59  Garage Area      2028 non-null   float64\n",
      " 60  Garage Qual      2029 non-null   object \n",
      " 61  Garage Cond      2029 non-null   object \n",
      " 62  Paved Drive      2029 non-null   object \n",
      " 63  Wood Deck SF     2029 non-null   int64  \n",
      " 64  Open Porch SF    2029 non-null   int64  \n",
      " 65  Enclosed Porch   2029 non-null   int64  \n",
      " 66  3Ssn Porch       2029 non-null   int64  \n",
      " 67  Screen Porch     2029 non-null   int64  \n",
      " 68  Pool Area        2029 non-null   int64  \n",
      " 69  Misc Val         2029 non-null   int64  \n",
      " 70  Mo Sold          2029 non-null   int64  \n",
      " 71  Yr Sold          2029 non-null   int64  \n",
      " 72  Sale Type        2029 non-null   object \n",
      " 73  SalePrice        2029 non-null   int64  \n",
      "dtypes: float64(11), int64(26), object(37)\n",
      "memory usage: 1.2+ MB\n"
     ]
    }
   ],
   "source": [
    "data_train.info()"
   ]
  },
  {
   "cell_type": "markdown",
   "id": "d178a70c",
   "metadata": {},
   "source": [
    "### Int to Str\n",
    "\n",
    "MSSubClass is wrongly categorised as an integer. We will change it into a string and will dummify it later on."
   ]
  },
  {
   "cell_type": "code",
   "execution_count": 25,
   "id": "9a97ab74",
   "metadata": {},
   "outputs": [],
   "source": [
    "data_train['MS SubClass'] = data_train['MS SubClass'].map(lambda x: str(x))"
   ]
  },
  {
   "cell_type": "markdown",
   "id": "8dc8b5ac",
   "metadata": {},
   "source": [
    "#### Rename Columns"
   ]
  },
  {
   "cell_type": "code",
   "execution_count": 26,
   "id": "727f092c",
   "metadata": {},
   "outputs": [],
   "source": [
    "data_train.columns = data_train.columns.str.strip()"
   ]
  },
  {
   "cell_type": "code",
   "execution_count": 27,
   "id": "0c101b26",
   "metadata": {},
   "outputs": [
    {
     "data": {
      "text/plain": [
       "Index(['mssubclass', 'mszoning', 'lotfrontage', 'lotarea', 'street',\n",
       "       'lotshape', 'landcontour', 'utilities', 'lotconfig', 'landslope',\n",
       "       'neighborhood', 'condition1', 'condition2', 'bldgtype', 'housestyle',\n",
       "       'overallqual', 'overallcond', 'yearbuilt', 'yearremod/add', 'roofstyle',\n",
       "       'roofmatl', 'exterior1st', 'exterior2nd', 'masvnrtype', 'masvnrarea',\n",
       "       'exterqual', 'extercond', 'foundation', 'bsmtqual', 'bsmtcond',\n",
       "       'bsmtexposure', 'bsmtfintype1', 'bsmtfinsf1', 'bsmtfintype2',\n",
       "       'bsmtfinsf2', 'bsmtunfsf', 'totalbsmtsf', 'heating', 'heatingqc',\n",
       "       'centralair', 'electrical', '1stflrsf', '2ndflrsf', 'lowqualfinsf',\n",
       "       'grlivarea', 'bsmtfullbath', 'bsmthalfbath', 'fullbath', 'halfbath',\n",
       "       'bedroomabvgr', 'kitchenabvgr', 'kitchenqual', 'totrmsabvgrd',\n",
       "       'functional', 'fireplaces', 'garagetype', 'garageyrblt', 'garagefinish',\n",
       "       'garagecars', 'garagearea', 'garagequal', 'garagecond', 'paveddrive',\n",
       "       'wooddecksf', 'openporchsf', 'enclosedporch', '3ssnporch',\n",
       "       'screenporch', 'poolarea', 'miscval', 'mosold', 'yrsold', 'saletype',\n",
       "       'saleprice'],\n",
       "      dtype='object')"
      ]
     },
     "execution_count": 27,
     "metadata": {},
     "output_type": "execute_result"
    }
   ],
   "source": [
    "n_col = data_train.columns\n",
    "rename_dict = {}\n",
    "for col in n_col: \n",
    "    rename_dict[col] = col.lower().replace(' ', \"\")\n",
    "\n",
    "data_train.rename(columns = rename_dict, inplace = True)\n",
    "data_train.columns"
   ]
  },
  {
   "cell_type": "markdown",
   "id": "3563743f",
   "metadata": {},
   "source": [
    "We will change the variables into dummy coded variables."
   ]
  },
  {
   "cell_type": "code",
   "execution_count": 28,
   "id": "7c0cf6ce",
   "metadata": {},
   "outputs": [],
   "source": [
    "## creating an ordinal dictionary\n",
    "qual = {'Ex':5, 'Gd':4, 'TA':3, 'Fa':2, 'Po':1, 'NA':0}\n",
    "bsmtexposure_qual = {'Gd': 4, 'Av': 3, 'Mn': 2, 'No': 1, 'NA':0}\n",
    "bsmtfintype1_qual = {'GLQ': 6, 'ALQ': 5, 'BLQ': 4, 'Rec': 3, 'LwQ': 2, 'Unf': 1, 'NA': 0}\n",
    "centralair_qual = {'N': 0, 'Y': 1}"
   ]
  },
  {
   "cell_type": "code",
   "execution_count": 29,
   "id": "7fa83b05",
   "metadata": {},
   "outputs": [],
   "source": [
    "data_train['exterqual'] = data_train['exterqual'].map(qual)\n",
    "data_train['extercond'] = data_train['extercond'].map(qual)\n",
    "data_train['bsmtqual'] = data_train['bsmtqual'].map(qual)\n",
    "data_train['bsmtcond'] = data_train['bsmtcond'].map(qual)\n",
    "data_train['heatingqc'] = data_train['heatingqc'].map(qual)\n",
    "data_train['kitchenqual'] = data_train['kitchenqual'].map(qual)\n",
    "data_train['garagequal'] = data_train['garagequal'].map(qual)\n",
    "data_train['garagecond'] = data_train['garagecond'].map(qual)\n",
    "\n",
    "data_train['bsmtexposure'] = data_train['bsmtexposure'].map(bsmtexposure_qual)\n",
    "data_train['bsmtfintype1'] = data_train['bsmtfintype1'].map(bsmtfintype1_qual)\n",
    "data_train['centralair'] = data_train['centralair'].map(centralair_qual)"
   ]
  },
  {
   "cell_type": "code",
   "execution_count": 30,
   "id": "d00e7cef",
   "metadata": {},
   "outputs": [
    {
     "data": {
      "text/html": [
       "<div>\n",
       "<style scoped>\n",
       "    .dataframe tbody tr th:only-of-type {\n",
       "        vertical-align: middle;\n",
       "    }\n",
       "\n",
       "    .dataframe tbody tr th {\n",
       "        vertical-align: top;\n",
       "    }\n",
       "\n",
       "    .dataframe thead th {\n",
       "        text-align: right;\n",
       "    }\n",
       "</style>\n",
       "<table border=\"1\" class=\"dataframe\">\n",
       "  <thead>\n",
       "    <tr style=\"text-align: right;\">\n",
       "      <th></th>\n",
       "      <th>mssubclass</th>\n",
       "      <th>mszoning</th>\n",
       "      <th>lotfrontage</th>\n",
       "      <th>lotarea</th>\n",
       "      <th>street</th>\n",
       "      <th>lotshape</th>\n",
       "      <th>landcontour</th>\n",
       "      <th>utilities</th>\n",
       "      <th>lotconfig</th>\n",
       "      <th>landslope</th>\n",
       "      <th>...</th>\n",
       "      <th>openporchsf</th>\n",
       "      <th>enclosedporch</th>\n",
       "      <th>3ssnporch</th>\n",
       "      <th>screenporch</th>\n",
       "      <th>poolarea</th>\n",
       "      <th>miscval</th>\n",
       "      <th>mosold</th>\n",
       "      <th>yrsold</th>\n",
       "      <th>saletype</th>\n",
       "      <th>saleprice</th>\n",
       "    </tr>\n",
       "    <tr>\n",
       "      <th>Id</th>\n",
       "      <th></th>\n",
       "      <th></th>\n",
       "      <th></th>\n",
       "      <th></th>\n",
       "      <th></th>\n",
       "      <th></th>\n",
       "      <th></th>\n",
       "      <th></th>\n",
       "      <th></th>\n",
       "      <th></th>\n",
       "      <th></th>\n",
       "      <th></th>\n",
       "      <th></th>\n",
       "      <th></th>\n",
       "      <th></th>\n",
       "      <th></th>\n",
       "      <th></th>\n",
       "      <th></th>\n",
       "      <th></th>\n",
       "      <th></th>\n",
       "      <th></th>\n",
       "    </tr>\n",
       "  </thead>\n",
       "  <tbody>\n",
       "    <tr>\n",
       "      <th>109</th>\n",
       "      <td>60</td>\n",
       "      <td>RL</td>\n",
       "      <td>NaN</td>\n",
       "      <td>13517</td>\n",
       "      <td>Pave</td>\n",
       "      <td>IR1</td>\n",
       "      <td>Lvl</td>\n",
       "      <td>AllPub</td>\n",
       "      <td>CulDSac</td>\n",
       "      <td>Gtl</td>\n",
       "      <td>...</td>\n",
       "      <td>44</td>\n",
       "      <td>0</td>\n",
       "      <td>0</td>\n",
       "      <td>0</td>\n",
       "      <td>0</td>\n",
       "      <td>0</td>\n",
       "      <td>3</td>\n",
       "      <td>2010</td>\n",
       "      <td>WD</td>\n",
       "      <td>130500</td>\n",
       "    </tr>\n",
       "    <tr>\n",
       "      <th>544</th>\n",
       "      <td>60</td>\n",
       "      <td>RL</td>\n",
       "      <td>43.0</td>\n",
       "      <td>11492</td>\n",
       "      <td>Pave</td>\n",
       "      <td>IR1</td>\n",
       "      <td>Lvl</td>\n",
       "      <td>AllPub</td>\n",
       "      <td>CulDSac</td>\n",
       "      <td>Gtl</td>\n",
       "      <td>...</td>\n",
       "      <td>74</td>\n",
       "      <td>0</td>\n",
       "      <td>0</td>\n",
       "      <td>0</td>\n",
       "      <td>0</td>\n",
       "      <td>0</td>\n",
       "      <td>4</td>\n",
       "      <td>2009</td>\n",
       "      <td>WD</td>\n",
       "      <td>220000</td>\n",
       "    </tr>\n",
       "    <tr>\n",
       "      <th>153</th>\n",
       "      <td>20</td>\n",
       "      <td>RL</td>\n",
       "      <td>68.0</td>\n",
       "      <td>7922</td>\n",
       "      <td>Pave</td>\n",
       "      <td>Reg</td>\n",
       "      <td>Lvl</td>\n",
       "      <td>AllPub</td>\n",
       "      <td>Inside</td>\n",
       "      <td>Gtl</td>\n",
       "      <td>...</td>\n",
       "      <td>52</td>\n",
       "      <td>0</td>\n",
       "      <td>0</td>\n",
       "      <td>0</td>\n",
       "      <td>0</td>\n",
       "      <td>0</td>\n",
       "      <td>1</td>\n",
       "      <td>2010</td>\n",
       "      <td>WD</td>\n",
       "      <td>109000</td>\n",
       "    </tr>\n",
       "    <tr>\n",
       "      <th>318</th>\n",
       "      <td>60</td>\n",
       "      <td>RL</td>\n",
       "      <td>73.0</td>\n",
       "      <td>9802</td>\n",
       "      <td>Pave</td>\n",
       "      <td>Reg</td>\n",
       "      <td>Lvl</td>\n",
       "      <td>AllPub</td>\n",
       "      <td>Inside</td>\n",
       "      <td>Gtl</td>\n",
       "      <td>...</td>\n",
       "      <td>0</td>\n",
       "      <td>0</td>\n",
       "      <td>0</td>\n",
       "      <td>0</td>\n",
       "      <td>0</td>\n",
       "      <td>0</td>\n",
       "      <td>4</td>\n",
       "      <td>2010</td>\n",
       "      <td>WD</td>\n",
       "      <td>174000</td>\n",
       "    </tr>\n",
       "    <tr>\n",
       "      <th>255</th>\n",
       "      <td>50</td>\n",
       "      <td>RL</td>\n",
       "      <td>82.0</td>\n",
       "      <td>14235</td>\n",
       "      <td>Pave</td>\n",
       "      <td>IR1</td>\n",
       "      <td>Lvl</td>\n",
       "      <td>AllPub</td>\n",
       "      <td>Inside</td>\n",
       "      <td>Gtl</td>\n",
       "      <td>...</td>\n",
       "      <td>59</td>\n",
       "      <td>0</td>\n",
       "      <td>0</td>\n",
       "      <td>0</td>\n",
       "      <td>0</td>\n",
       "      <td>0</td>\n",
       "      <td>3</td>\n",
       "      <td>2010</td>\n",
       "      <td>WD</td>\n",
       "      <td>138500</td>\n",
       "    </tr>\n",
       "  </tbody>\n",
       "</table>\n",
       "<p>5 rows × 74 columns</p>\n",
       "</div>"
      ],
      "text/plain": [
       "    mssubclass mszoning  lotfrontage  lotarea street lotshape landcontour  \\\n",
       "Id                                                                          \n",
       "109         60       RL          NaN    13517   Pave      IR1         Lvl   \n",
       "544         60       RL         43.0    11492   Pave      IR1         Lvl   \n",
       "153         20       RL         68.0     7922   Pave      Reg         Lvl   \n",
       "318         60       RL         73.0     9802   Pave      Reg         Lvl   \n",
       "255         50       RL         82.0    14235   Pave      IR1         Lvl   \n",
       "\n",
       "    utilities lotconfig landslope  ... openporchsf enclosedporch 3ssnporch  \\\n",
       "Id                                 ...                                       \n",
       "109    AllPub   CulDSac       Gtl  ...          44             0         0   \n",
       "544    AllPub   CulDSac       Gtl  ...          74             0         0   \n",
       "153    AllPub    Inside       Gtl  ...          52             0         0   \n",
       "318    AllPub    Inside       Gtl  ...           0             0         0   \n",
       "255    AllPub    Inside       Gtl  ...          59             0         0   \n",
       "\n",
       "    screenporch poolarea  miscval  mosold  yrsold  saletype saleprice  \n",
       "Id                                                                     \n",
       "109           0        0        0       3    2010       WD     130500  \n",
       "544           0        0        0       4    2009       WD     220000  \n",
       "153           0        0        0       1    2010       WD     109000  \n",
       "318           0        0        0       4    2010       WD     174000  \n",
       "255           0        0        0       3    2010       WD     138500  \n",
       "\n",
       "[5 rows x 74 columns]"
      ]
     },
     "execution_count": 30,
     "metadata": {},
     "output_type": "execute_result"
    }
   ],
   "source": [
    "data_train.head()"
   ]
  },
  {
   "cell_type": "markdown",
   "id": "6020149a",
   "metadata": {},
   "source": [
    "### Continuous Data\n",
    "\n",
    "After going through the missing values in categorical features, these are the remaining continuous features which are on a scale and have respective missing values.\n",
    "\n",
    "Lot Frontage - 324<br>\n",
    "Garage Yr Blt - 113<br>\n",
    "Bsmt Full Bath - 2<br>\n",
    "Bsmt Half Bath - 2<br>\n",
    "Garage Cars - 1<br>\n",
    "Total Bsmt SF - 1<br>\n",
    "Bsmt Unf SF - 1<br>\n",
    "BsmtFin SF 2 - 1<br>\n",
    "BsmtFin SF 1 - 1<br>\n",
    "Garage Area - 1"
   ]
  },
  {
   "cell_type": "markdown",
   "id": "2c6dabc3",
   "metadata": {},
   "source": [
    "#### Lot Frontage"
   ]
  },
  {
   "cell_type": "code",
   "execution_count": 31,
   "id": "f7a9d16f",
   "metadata": {},
   "outputs": [
    {
     "data": {
      "text/plain": [
       "array([ nan,  43.,  68.,  73.,  82., 137.,  35.,  70.,  21.,  64., 120.,\n",
       "        24.,  74.,  93.,  34.,  80.,  71.,  72., 109.,  40., 100.,  92.,\n",
       "        65.,  75.,  60.,  30.,  79.,  41., 105.,  81.,  36.,  63.,  32.,\n",
       "        94.,  44.,  50.,  48.,  88.,  83.,  53.,  58., 103.,  57.,  52.,\n",
       "        87., 134.,  56.,  67.,  54., 140.,  78.,  85.,  90.,  96.,  62.,\n",
       "        49.,  59., 155.,  91.,  61.,  86., 128.,  77.,  42.,  89.,  51.,\n",
       "        69., 107.,  55., 112.,  76., 125.,  98., 113., 102.,  22., 122.,\n",
       "        84., 119., 118.,  66.,  95., 108., 195., 106.,  39., 110., 130.,\n",
       "        97.,  45.,  37., 123.,  38., 129., 115.,  47., 114., 104.,  46.,\n",
       "       121., 124., 313., 141., 101.,  99., 160., 174.,  26., 144., 138.,\n",
       "       111.,  25.,  33., 200., 150., 117., 153., 116., 135.])"
      ]
     },
     "execution_count": 31,
     "metadata": {},
     "output_type": "execute_result"
    }
   ],
   "source": [
    "data_train['lotfrontage'].unique()"
   ]
  },
  {
   "cell_type": "markdown",
   "id": "1a7614db",
   "metadata": {},
   "source": [
    "Lot Frontage (Linear feet of street connected to property) - For the rows with nan, we will replace nan with 0. At first thought, I would have replaced all np.nan values with 0. However, most houses would have some linear feet of street connected to the property. With that, I would impute the mean into the rows with np.nan."
   ]
  },
  {
   "cell_type": "code",
   "execution_count": 32,
   "id": "885953f4",
   "metadata": {},
   "outputs": [
    {
     "data": {
      "text/plain": [
       "68.99824046920821"
      ]
     },
     "execution_count": 32,
     "metadata": {},
     "output_type": "execute_result"
    }
   ],
   "source": [
    "mean_lot_frontage = data_train['lotfrontage'].mean()\n",
    "mean_lot_frontage"
   ]
  },
  {
   "cell_type": "code",
   "execution_count": 33,
   "id": "70d67b96",
   "metadata": {},
   "outputs": [],
   "source": [
    "data_train['lotfrontage'] = data_train['lotfrontage'].fillna(mean_lot_frontage)"
   ]
  },
  {
   "cell_type": "code",
   "execution_count": 34,
   "id": "635e69e1",
   "metadata": {
    "scrolled": true
   },
   "outputs": [
    {
     "data": {
      "text/plain": [
       "garageyrblt      113\n",
       "bsmtfullbath       2\n",
       "bsmthalfbath       2\n",
       "totalbsmtsf        1\n",
       "bsmtunfsf          1\n",
       "bsmtfinsf2         1\n",
       "bsmtfinsf1         1\n",
       "garagecars         1\n",
       "garagearea         1\n",
       "halfbath           0\n",
       "kitchenqual        0\n",
       "kitchenabvgr       0\n",
       "bedroomabvgr       0\n",
       "mssubclass         0\n",
       "fullbath           0\n",
       "functional         0\n",
       "grlivarea          0\n",
       "lowqualfinsf       0\n",
       "2ndflrsf           0\n",
       "1stflrsf           0\n",
       "totrmsabvgrd       0\n",
       "garagetype         0\n",
       "fireplaces         0\n",
       "3ssnporch          0\n",
       "saletype           0\n",
       "yrsold             0\n",
       "mosold             0\n",
       "miscval            0\n",
       "poolarea           0\n",
       "screenporch        0\n",
       "                ... \n",
       "bldgtype           0\n",
       "condition2         0\n",
       "condition1         0\n",
       "neighborhood       0\n",
       "lotconfig          0\n",
       "mszoning           0\n",
       "utilities          0\n",
       "landcontour        0\n",
       "lotshape           0\n",
       "street             0\n",
       "lotarea            0\n",
       "lotfrontage        0\n",
       "overallcond        0\n",
       "yearbuilt          0\n",
       "yearremod/add      0\n",
       "roofstyle          0\n",
       "roofmatl           0\n",
       "exterior1st        0\n",
       "exterior2nd        0\n",
       "masvnrtype         0\n",
       "masvnrarea         0\n",
       "exterqual          0\n",
       "extercond          0\n",
       "foundation         0\n",
       "bsmtqual           0\n",
       "bsmtcond           0\n",
       "bsmtexposure       0\n",
       "bsmtfintype1       0\n",
       "bsmtfintype2       0\n",
       "saleprice          0\n",
       "Length: 74, dtype: int64"
      ]
     },
     "execution_count": 34,
     "metadata": {},
     "output_type": "execute_result"
    }
   ],
   "source": [
    "data_train.isna().sum().sort_values(ascending=False)"
   ]
  },
  {
   "cell_type": "markdown",
   "id": "dcb3e6f9",
   "metadata": {},
   "source": [
    "#### Garage Yr Blt\n",
    "\n",
    "With those rows with nan, we will replace nan with 0."
   ]
  },
  {
   "cell_type": "code",
   "execution_count": 35,
   "id": "b0285b26",
   "metadata": {},
   "outputs": [
    {
     "data": {
      "text/plain": [
       "array([1976., 1997., 1953., 2007., 1957., 1966., 2005., 1959., 1952.,\n",
       "       1969., 1971., 1900., 2000., 2004., 1916., 1963., 1977., 2009.,\n",
       "       1968., 1992., 1955., 1961., 1973., 1937.,   nan, 2003., 1981.,\n",
       "       1931., 1995., 1958., 1965., 1978., 1954., 1935., 1951., 1996.,\n",
       "       1999., 1920., 1930., 2006., 1924., 1960., 1949., 1986., 1956.,\n",
       "       1994., 1979., 1964., 2001., 1972., 1939., 1962., 1927., 1948.,\n",
       "       1967., 1993., 2010., 1915., 1987., 1970., 1988., 1982., 1941.,\n",
       "       1984., 1942., 1950., 2002., 1975., 2008., 1974., 1998., 1918.,\n",
       "       1938., 1985., 1923., 1980., 1991., 1946., 1940., 1990., 1896.,\n",
       "       1983., 1914., 1945., 1921., 1925., 1926., 1936., 1932., 1947.,\n",
       "       1929., 1910., 1917., 1922., 1934., 1989., 1928., 1933., 1895.,\n",
       "       1919.])"
      ]
     },
     "execution_count": 35,
     "metadata": {},
     "output_type": "execute_result"
    }
   ],
   "source": [
    "data_train['garageyrblt'].unique()"
   ]
  },
  {
   "cell_type": "code",
   "execution_count": 36,
   "id": "b73177ec",
   "metadata": {},
   "outputs": [],
   "source": [
    "data_train['garageyrblt'].replace(np.nan, 0, inplace=True)"
   ]
  },
  {
   "cell_type": "markdown",
   "id": "286bcdbd",
   "metadata": {},
   "source": [
    "#### Basement Full Bath and Basement Half Baths"
   ]
  },
  {
   "cell_type": "code",
   "execution_count": 37,
   "id": "ca9c15e8",
   "metadata": {
    "scrolled": true
   },
   "outputs": [
    {
     "name": "stdout",
     "output_type": "stream",
     "text": [
      "[ 0.  1.  2. nan  3.]\n"
     ]
    },
    {
     "data": {
      "text/plain": [
       "Id\n",
       "1498   NaN\n",
       "1342   NaN\n",
       "Name: bsmthalfbath, dtype: float64"
      ]
     },
     "execution_count": 37,
     "metadata": {},
     "output_type": "execute_result"
    }
   ],
   "source": [
    "print(data_train['bsmtfullbath'].unique())\n",
    "data_train[data_train['bsmtfullbath'].isna()]['bsmthalfbath']"
   ]
  },
  {
   "cell_type": "markdown",
   "id": "c03db90a",
   "metadata": {},
   "source": [
    "We are not sure of the data source for these 2 features and we cannot assume that they all do not have full and half baths, so we shall drop the 2 rows."
   ]
  },
  {
   "cell_type": "code",
   "execution_count": 38,
   "id": "14949135",
   "metadata": {
    "scrolled": true
   },
   "outputs": [],
   "source": [
    "data_train.dropna(subset=['bsmtfullbath', 'bsmthalfbath'], inplace=True)"
   ]
  },
  {
   "cell_type": "code",
   "execution_count": 39,
   "id": "8cd91601",
   "metadata": {},
   "outputs": [
    {
     "data": {
      "text/plain": [
       "(2027, 74)"
      ]
     },
     "execution_count": 39,
     "metadata": {},
     "output_type": "execute_result"
    }
   ],
   "source": [
    "data_train.shape"
   ]
  },
  {
   "cell_type": "markdown",
   "id": "fb921214",
   "metadata": {},
   "source": [
    "#### Garage Cars"
   ]
  },
  {
   "cell_type": "code",
   "execution_count": 40,
   "id": "a6dc6906",
   "metadata": {},
   "outputs": [
    {
     "data": {
      "text/plain": [
       "array([ 2.,  1.,  3.,  0.,  4.,  5., nan])"
      ]
     },
     "execution_count": 40,
     "metadata": {},
     "output_type": "execute_result"
    }
   ],
   "source": [
    "data_train['garagecars'].unique()"
   ]
  },
  {
   "cell_type": "code",
   "execution_count": 41,
   "id": "506ffbfa",
   "metadata": {
    "scrolled": true
   },
   "outputs": [
    {
     "data": {
      "text/html": [
       "<div>\n",
       "<style scoped>\n",
       "    .dataframe tbody tr th:only-of-type {\n",
       "        vertical-align: middle;\n",
       "    }\n",
       "\n",
       "    .dataframe tbody tr th {\n",
       "        vertical-align: top;\n",
       "    }\n",
       "\n",
       "    .dataframe thead th {\n",
       "        text-align: right;\n",
       "    }\n",
       "</style>\n",
       "<table border=\"1\" class=\"dataframe\">\n",
       "  <thead>\n",
       "    <tr style=\"text-align: right;\">\n",
       "      <th>Id</th>\n",
       "      <th>2237</th>\n",
       "    </tr>\n",
       "  </thead>\n",
       "  <tbody>\n",
       "    <tr>\n",
       "      <th>mssubclass</th>\n",
       "      <td>70</td>\n",
       "    </tr>\n",
       "    <tr>\n",
       "      <th>mszoning</th>\n",
       "      <td>RM</td>\n",
       "    </tr>\n",
       "    <tr>\n",
       "      <th>lotfrontage</th>\n",
       "      <td>50.0</td>\n",
       "    </tr>\n",
       "    <tr>\n",
       "      <th>lotarea</th>\n",
       "      <td>9060</td>\n",
       "    </tr>\n",
       "    <tr>\n",
       "      <th>street</th>\n",
       "      <td>Pave</td>\n",
       "    </tr>\n",
       "    <tr>\n",
       "      <th>lotshape</th>\n",
       "      <td>Reg</td>\n",
       "    </tr>\n",
       "    <tr>\n",
       "      <th>landcontour</th>\n",
       "      <td>Lvl</td>\n",
       "    </tr>\n",
       "    <tr>\n",
       "      <th>utilities</th>\n",
       "      <td>AllPub</td>\n",
       "    </tr>\n",
       "    <tr>\n",
       "      <th>lotconfig</th>\n",
       "      <td>Inside</td>\n",
       "    </tr>\n",
       "    <tr>\n",
       "      <th>landslope</th>\n",
       "      <td>Gtl</td>\n",
       "    </tr>\n",
       "    <tr>\n",
       "      <th>neighborhood</th>\n",
       "      <td>IDOTRR</td>\n",
       "    </tr>\n",
       "    <tr>\n",
       "      <th>condition1</th>\n",
       "      <td>Norm</td>\n",
       "    </tr>\n",
       "    <tr>\n",
       "      <th>condition2</th>\n",
       "      <td>Norm</td>\n",
       "    </tr>\n",
       "    <tr>\n",
       "      <th>bldgtype</th>\n",
       "      <td>1Fam</td>\n",
       "    </tr>\n",
       "    <tr>\n",
       "      <th>housestyle</th>\n",
       "      <td>2Story</td>\n",
       "    </tr>\n",
       "    <tr>\n",
       "      <th>overallqual</th>\n",
       "      <td>5</td>\n",
       "    </tr>\n",
       "    <tr>\n",
       "      <th>overallcond</th>\n",
       "      <td>6</td>\n",
       "    </tr>\n",
       "    <tr>\n",
       "      <th>yearbuilt</th>\n",
       "      <td>1923</td>\n",
       "    </tr>\n",
       "    <tr>\n",
       "      <th>yearremod/add</th>\n",
       "      <td>1999</td>\n",
       "    </tr>\n",
       "    <tr>\n",
       "      <th>roofstyle</th>\n",
       "      <td>Gable</td>\n",
       "    </tr>\n",
       "    <tr>\n",
       "      <th>roofmatl</th>\n",
       "      <td>CompShg</td>\n",
       "    </tr>\n",
       "    <tr>\n",
       "      <th>exterior1st</th>\n",
       "      <td>Wd Sdng</td>\n",
       "    </tr>\n",
       "    <tr>\n",
       "      <th>exterior2nd</th>\n",
       "      <td>Plywood</td>\n",
       "    </tr>\n",
       "    <tr>\n",
       "      <th>masvnrtype</th>\n",
       "      <td>None</td>\n",
       "    </tr>\n",
       "    <tr>\n",
       "      <th>masvnrarea</th>\n",
       "      <td>0.0</td>\n",
       "    </tr>\n",
       "    <tr>\n",
       "      <th>exterqual</th>\n",
       "      <td>3</td>\n",
       "    </tr>\n",
       "    <tr>\n",
       "      <th>extercond</th>\n",
       "      <td>3</td>\n",
       "    </tr>\n",
       "    <tr>\n",
       "      <th>foundation</th>\n",
       "      <td>BrkTil</td>\n",
       "    </tr>\n",
       "    <tr>\n",
       "      <th>bsmtqual</th>\n",
       "      <td>4</td>\n",
       "    </tr>\n",
       "    <tr>\n",
       "      <th>bsmtcond</th>\n",
       "      <td>3</td>\n",
       "    </tr>\n",
       "    <tr>\n",
       "      <th>...</th>\n",
       "      <td>...</td>\n",
       "    </tr>\n",
       "    <tr>\n",
       "      <th>grlivarea</th>\n",
       "      <td>1828</td>\n",
       "    </tr>\n",
       "    <tr>\n",
       "      <th>bsmtfullbath</th>\n",
       "      <td>0.0</td>\n",
       "    </tr>\n",
       "    <tr>\n",
       "      <th>bsmthalfbath</th>\n",
       "      <td>0.0</td>\n",
       "    </tr>\n",
       "    <tr>\n",
       "      <th>fullbath</th>\n",
       "      <td>2</td>\n",
       "    </tr>\n",
       "    <tr>\n",
       "      <th>halfbath</th>\n",
       "      <td>0</td>\n",
       "    </tr>\n",
       "    <tr>\n",
       "      <th>bedroomabvgr</th>\n",
       "      <td>3</td>\n",
       "    </tr>\n",
       "    <tr>\n",
       "      <th>kitchenabvgr</th>\n",
       "      <td>1</td>\n",
       "    </tr>\n",
       "    <tr>\n",
       "      <th>kitchenqual</th>\n",
       "      <td>4</td>\n",
       "    </tr>\n",
       "    <tr>\n",
       "      <th>totrmsabvgrd</th>\n",
       "      <td>6</td>\n",
       "    </tr>\n",
       "    <tr>\n",
       "      <th>functional</th>\n",
       "      <td>Typ</td>\n",
       "    </tr>\n",
       "    <tr>\n",
       "      <th>fireplaces</th>\n",
       "      <td>0</td>\n",
       "    </tr>\n",
       "    <tr>\n",
       "      <th>garagetype</th>\n",
       "      <td>Detchd</td>\n",
       "    </tr>\n",
       "    <tr>\n",
       "      <th>garageyrblt</th>\n",
       "      <td>0.0</td>\n",
       "    </tr>\n",
       "    <tr>\n",
       "      <th>garagefinish</th>\n",
       "      <td>NA</td>\n",
       "    </tr>\n",
       "    <tr>\n",
       "      <th>garagecars</th>\n",
       "      <td>NaN</td>\n",
       "    </tr>\n",
       "    <tr>\n",
       "      <th>garagearea</th>\n",
       "      <td>NaN</td>\n",
       "    </tr>\n",
       "    <tr>\n",
       "      <th>garagequal</th>\n",
       "      <td>0</td>\n",
       "    </tr>\n",
       "    <tr>\n",
       "      <th>garagecond</th>\n",
       "      <td>0</td>\n",
       "    </tr>\n",
       "    <tr>\n",
       "      <th>paveddrive</th>\n",
       "      <td>Y</td>\n",
       "    </tr>\n",
       "    <tr>\n",
       "      <th>wooddecksf</th>\n",
       "      <td>174</td>\n",
       "    </tr>\n",
       "    <tr>\n",
       "      <th>openporchsf</th>\n",
       "      <td>0</td>\n",
       "    </tr>\n",
       "    <tr>\n",
       "      <th>enclosedporch</th>\n",
       "      <td>212</td>\n",
       "    </tr>\n",
       "    <tr>\n",
       "      <th>3ssnporch</th>\n",
       "      <td>0</td>\n",
       "    </tr>\n",
       "    <tr>\n",
       "      <th>screenporch</th>\n",
       "      <td>0</td>\n",
       "    </tr>\n",
       "    <tr>\n",
       "      <th>poolarea</th>\n",
       "      <td>0</td>\n",
       "    </tr>\n",
       "    <tr>\n",
       "      <th>miscval</th>\n",
       "      <td>0</td>\n",
       "    </tr>\n",
       "    <tr>\n",
       "      <th>mosold</th>\n",
       "      <td>3</td>\n",
       "    </tr>\n",
       "    <tr>\n",
       "      <th>yrsold</th>\n",
       "      <td>2007</td>\n",
       "    </tr>\n",
       "    <tr>\n",
       "      <th>saletype</th>\n",
       "      <td>WD</td>\n",
       "    </tr>\n",
       "    <tr>\n",
       "      <th>saleprice</th>\n",
       "      <td>150909</td>\n",
       "    </tr>\n",
       "  </tbody>\n",
       "</table>\n",
       "<p>74 rows × 1 columns</p>\n",
       "</div>"
      ],
      "text/plain": [
       "Id                2237\n",
       "mssubclass          70\n",
       "mszoning            RM\n",
       "lotfrontage       50.0\n",
       "lotarea           9060\n",
       "street            Pave\n",
       "lotshape           Reg\n",
       "landcontour        Lvl\n",
       "utilities       AllPub\n",
       "lotconfig       Inside\n",
       "landslope          Gtl\n",
       "neighborhood    IDOTRR\n",
       "condition1        Norm\n",
       "condition2        Norm\n",
       "bldgtype          1Fam\n",
       "housestyle      2Story\n",
       "overallqual          5\n",
       "overallcond          6\n",
       "yearbuilt         1923\n",
       "yearremod/add     1999\n",
       "roofstyle        Gable\n",
       "roofmatl       CompShg\n",
       "exterior1st    Wd Sdng\n",
       "exterior2nd    Plywood\n",
       "masvnrtype        None\n",
       "masvnrarea         0.0\n",
       "exterqual            3\n",
       "extercond            3\n",
       "foundation      BrkTil\n",
       "bsmtqual             4\n",
       "bsmtcond             3\n",
       "...                ...\n",
       "grlivarea         1828\n",
       "bsmtfullbath       0.0\n",
       "bsmthalfbath       0.0\n",
       "fullbath             2\n",
       "halfbath             0\n",
       "bedroomabvgr         3\n",
       "kitchenabvgr         1\n",
       "kitchenqual          4\n",
       "totrmsabvgrd         6\n",
       "functional         Typ\n",
       "fireplaces           0\n",
       "garagetype      Detchd\n",
       "garageyrblt        0.0\n",
       "garagefinish        NA\n",
       "garagecars         NaN\n",
       "garagearea         NaN\n",
       "garagequal           0\n",
       "garagecond           0\n",
       "paveddrive           Y\n",
       "wooddecksf         174\n",
       "openporchsf          0\n",
       "enclosedporch      212\n",
       "3ssnporch            0\n",
       "screenporch          0\n",
       "poolarea             0\n",
       "miscval              0\n",
       "mosold               3\n",
       "yrsold            2007\n",
       "saletype           WD \n",
       "saleprice       150909\n",
       "\n",
       "[74 rows x 1 columns]"
      ]
     },
     "execution_count": 41,
     "metadata": {},
     "output_type": "execute_result"
    }
   ],
   "source": [
    "data_train[data_train['garagecars'].isna()].T"
   ]
  },
  {
   "cell_type": "markdown",
   "id": "df364adf",
   "metadata": {},
   "source": [
    "For this, we can input 0 as there is no garage built."
   ]
  },
  {
   "cell_type": "code",
   "execution_count": 42,
   "id": "7b91098d",
   "metadata": {},
   "outputs": [],
   "source": [
    "data_train['garagecars'].replace(np.nan, 0, inplace=True)"
   ]
  },
  {
   "cell_type": "markdown",
   "id": "9767d09c",
   "metadata": {},
   "source": [
    "#### Garage Area"
   ]
  },
  {
   "cell_type": "code",
   "execution_count": 43,
   "id": "ebf55c15",
   "metadata": {
    "scrolled": true
   },
   "outputs": [
    {
     "data": {
      "text/plain": [
       "garagearea       1\n",
       "mssubclass       0\n",
       "fullbath         0\n",
       "functional       0\n",
       "totrmsabvgrd     0\n",
       "kitchenqual      0\n",
       "kitchenabvgr     0\n",
       "bedroomabvgr     0\n",
       "halfbath         0\n",
       "bsmthalfbath     0\n",
       "garagetype       0\n",
       "bsmtfullbath     0\n",
       "grlivarea        0\n",
       "lowqualfinsf     0\n",
       "2ndflrsf         0\n",
       "1stflrsf         0\n",
       "electrical       0\n",
       "centralair       0\n",
       "fireplaces       0\n",
       "garageyrblt      0\n",
       "mszoning         0\n",
       "3ssnporch        0\n",
       "saletype         0\n",
       "yrsold           0\n",
       "mosold           0\n",
       "miscval          0\n",
       "poolarea         0\n",
       "screenporch      0\n",
       "enclosedporch    0\n",
       "garagefinish     0\n",
       "                ..\n",
       "condition2       0\n",
       "condition1       0\n",
       "neighborhood     0\n",
       "landslope        0\n",
       "lotconfig        0\n",
       "utilities        0\n",
       "landcontour      0\n",
       "lotshape         0\n",
       "street           0\n",
       "lotarea          0\n",
       "lotfrontage      0\n",
       "yearbuilt        0\n",
       "yearremod/add    0\n",
       "roofstyle        0\n",
       "bsmtqual         0\n",
       "bsmtfinsf2       0\n",
       "bsmtfintype2     0\n",
       "bsmtfinsf1       0\n",
       "bsmtfintype1     0\n",
       "bsmtexposure     0\n",
       "bsmtcond         0\n",
       "foundation       0\n",
       "roofmatl         0\n",
       "extercond        0\n",
       "exterqual        0\n",
       "masvnrarea       0\n",
       "masvnrtype       0\n",
       "exterior2nd      0\n",
       "exterior1st      0\n",
       "saleprice        0\n",
       "Length: 74, dtype: int64"
      ]
     },
     "execution_count": 43,
     "metadata": {},
     "output_type": "execute_result"
    }
   ],
   "source": [
    "data_train.isna().sum().sort_values(ascending=False)"
   ]
  },
  {
   "cell_type": "markdown",
   "id": "c840cc1e",
   "metadata": {},
   "source": [
    "Now, we're left with 'Garage Area'. "
   ]
  },
  {
   "cell_type": "code",
   "execution_count": 44,
   "id": "465b8ae3",
   "metadata": {
    "scrolled": true
   },
   "outputs": [
    {
     "data": {
      "text/html": [
       "<div>\n",
       "<style scoped>\n",
       "    .dataframe tbody tr th:only-of-type {\n",
       "        vertical-align: middle;\n",
       "    }\n",
       "\n",
       "    .dataframe tbody tr th {\n",
       "        vertical-align: top;\n",
       "    }\n",
       "\n",
       "    .dataframe thead th {\n",
       "        text-align: right;\n",
       "    }\n",
       "</style>\n",
       "<table border=\"1\" class=\"dataframe\">\n",
       "  <thead>\n",
       "    <tr style=\"text-align: right;\">\n",
       "      <th>Id</th>\n",
       "      <th>2237</th>\n",
       "    </tr>\n",
       "  </thead>\n",
       "  <tbody>\n",
       "    <tr>\n",
       "      <th>mssubclass</th>\n",
       "      <td>70</td>\n",
       "    </tr>\n",
       "    <tr>\n",
       "      <th>mszoning</th>\n",
       "      <td>RM</td>\n",
       "    </tr>\n",
       "    <tr>\n",
       "      <th>lotfrontage</th>\n",
       "      <td>50.0</td>\n",
       "    </tr>\n",
       "    <tr>\n",
       "      <th>lotarea</th>\n",
       "      <td>9060</td>\n",
       "    </tr>\n",
       "    <tr>\n",
       "      <th>street</th>\n",
       "      <td>Pave</td>\n",
       "    </tr>\n",
       "    <tr>\n",
       "      <th>lotshape</th>\n",
       "      <td>Reg</td>\n",
       "    </tr>\n",
       "    <tr>\n",
       "      <th>landcontour</th>\n",
       "      <td>Lvl</td>\n",
       "    </tr>\n",
       "    <tr>\n",
       "      <th>utilities</th>\n",
       "      <td>AllPub</td>\n",
       "    </tr>\n",
       "    <tr>\n",
       "      <th>lotconfig</th>\n",
       "      <td>Inside</td>\n",
       "    </tr>\n",
       "    <tr>\n",
       "      <th>landslope</th>\n",
       "      <td>Gtl</td>\n",
       "    </tr>\n",
       "    <tr>\n",
       "      <th>neighborhood</th>\n",
       "      <td>IDOTRR</td>\n",
       "    </tr>\n",
       "    <tr>\n",
       "      <th>condition1</th>\n",
       "      <td>Norm</td>\n",
       "    </tr>\n",
       "    <tr>\n",
       "      <th>condition2</th>\n",
       "      <td>Norm</td>\n",
       "    </tr>\n",
       "    <tr>\n",
       "      <th>bldgtype</th>\n",
       "      <td>1Fam</td>\n",
       "    </tr>\n",
       "    <tr>\n",
       "      <th>housestyle</th>\n",
       "      <td>2Story</td>\n",
       "    </tr>\n",
       "    <tr>\n",
       "      <th>overallqual</th>\n",
       "      <td>5</td>\n",
       "    </tr>\n",
       "    <tr>\n",
       "      <th>overallcond</th>\n",
       "      <td>6</td>\n",
       "    </tr>\n",
       "    <tr>\n",
       "      <th>yearbuilt</th>\n",
       "      <td>1923</td>\n",
       "    </tr>\n",
       "    <tr>\n",
       "      <th>yearremod/add</th>\n",
       "      <td>1999</td>\n",
       "    </tr>\n",
       "    <tr>\n",
       "      <th>roofstyle</th>\n",
       "      <td>Gable</td>\n",
       "    </tr>\n",
       "    <tr>\n",
       "      <th>roofmatl</th>\n",
       "      <td>CompShg</td>\n",
       "    </tr>\n",
       "    <tr>\n",
       "      <th>exterior1st</th>\n",
       "      <td>Wd Sdng</td>\n",
       "    </tr>\n",
       "    <tr>\n",
       "      <th>exterior2nd</th>\n",
       "      <td>Plywood</td>\n",
       "    </tr>\n",
       "    <tr>\n",
       "      <th>masvnrtype</th>\n",
       "      <td>None</td>\n",
       "    </tr>\n",
       "    <tr>\n",
       "      <th>masvnrarea</th>\n",
       "      <td>0.0</td>\n",
       "    </tr>\n",
       "    <tr>\n",
       "      <th>exterqual</th>\n",
       "      <td>3</td>\n",
       "    </tr>\n",
       "    <tr>\n",
       "      <th>extercond</th>\n",
       "      <td>3</td>\n",
       "    </tr>\n",
       "    <tr>\n",
       "      <th>foundation</th>\n",
       "      <td>BrkTil</td>\n",
       "    </tr>\n",
       "    <tr>\n",
       "      <th>bsmtqual</th>\n",
       "      <td>4</td>\n",
       "    </tr>\n",
       "    <tr>\n",
       "      <th>bsmtcond</th>\n",
       "      <td>3</td>\n",
       "    </tr>\n",
       "    <tr>\n",
       "      <th>...</th>\n",
       "      <td>...</td>\n",
       "    </tr>\n",
       "    <tr>\n",
       "      <th>grlivarea</th>\n",
       "      <td>1828</td>\n",
       "    </tr>\n",
       "    <tr>\n",
       "      <th>bsmtfullbath</th>\n",
       "      <td>0.0</td>\n",
       "    </tr>\n",
       "    <tr>\n",
       "      <th>bsmthalfbath</th>\n",
       "      <td>0.0</td>\n",
       "    </tr>\n",
       "    <tr>\n",
       "      <th>fullbath</th>\n",
       "      <td>2</td>\n",
       "    </tr>\n",
       "    <tr>\n",
       "      <th>halfbath</th>\n",
       "      <td>0</td>\n",
       "    </tr>\n",
       "    <tr>\n",
       "      <th>bedroomabvgr</th>\n",
       "      <td>3</td>\n",
       "    </tr>\n",
       "    <tr>\n",
       "      <th>kitchenabvgr</th>\n",
       "      <td>1</td>\n",
       "    </tr>\n",
       "    <tr>\n",
       "      <th>kitchenqual</th>\n",
       "      <td>4</td>\n",
       "    </tr>\n",
       "    <tr>\n",
       "      <th>totrmsabvgrd</th>\n",
       "      <td>6</td>\n",
       "    </tr>\n",
       "    <tr>\n",
       "      <th>functional</th>\n",
       "      <td>Typ</td>\n",
       "    </tr>\n",
       "    <tr>\n",
       "      <th>fireplaces</th>\n",
       "      <td>0</td>\n",
       "    </tr>\n",
       "    <tr>\n",
       "      <th>garagetype</th>\n",
       "      <td>Detchd</td>\n",
       "    </tr>\n",
       "    <tr>\n",
       "      <th>garageyrblt</th>\n",
       "      <td>0.0</td>\n",
       "    </tr>\n",
       "    <tr>\n",
       "      <th>garagefinish</th>\n",
       "      <td>NA</td>\n",
       "    </tr>\n",
       "    <tr>\n",
       "      <th>garagecars</th>\n",
       "      <td>0.0</td>\n",
       "    </tr>\n",
       "    <tr>\n",
       "      <th>garagearea</th>\n",
       "      <td>NaN</td>\n",
       "    </tr>\n",
       "    <tr>\n",
       "      <th>garagequal</th>\n",
       "      <td>0</td>\n",
       "    </tr>\n",
       "    <tr>\n",
       "      <th>garagecond</th>\n",
       "      <td>0</td>\n",
       "    </tr>\n",
       "    <tr>\n",
       "      <th>paveddrive</th>\n",
       "      <td>Y</td>\n",
       "    </tr>\n",
       "    <tr>\n",
       "      <th>wooddecksf</th>\n",
       "      <td>174</td>\n",
       "    </tr>\n",
       "    <tr>\n",
       "      <th>openporchsf</th>\n",
       "      <td>0</td>\n",
       "    </tr>\n",
       "    <tr>\n",
       "      <th>enclosedporch</th>\n",
       "      <td>212</td>\n",
       "    </tr>\n",
       "    <tr>\n",
       "      <th>3ssnporch</th>\n",
       "      <td>0</td>\n",
       "    </tr>\n",
       "    <tr>\n",
       "      <th>screenporch</th>\n",
       "      <td>0</td>\n",
       "    </tr>\n",
       "    <tr>\n",
       "      <th>poolarea</th>\n",
       "      <td>0</td>\n",
       "    </tr>\n",
       "    <tr>\n",
       "      <th>miscval</th>\n",
       "      <td>0</td>\n",
       "    </tr>\n",
       "    <tr>\n",
       "      <th>mosold</th>\n",
       "      <td>3</td>\n",
       "    </tr>\n",
       "    <tr>\n",
       "      <th>yrsold</th>\n",
       "      <td>2007</td>\n",
       "    </tr>\n",
       "    <tr>\n",
       "      <th>saletype</th>\n",
       "      <td>WD</td>\n",
       "    </tr>\n",
       "    <tr>\n",
       "      <th>saleprice</th>\n",
       "      <td>150909</td>\n",
       "    </tr>\n",
       "  </tbody>\n",
       "</table>\n",
       "<p>74 rows × 1 columns</p>\n",
       "</div>"
      ],
      "text/plain": [
       "Id                2237\n",
       "mssubclass          70\n",
       "mszoning            RM\n",
       "lotfrontage       50.0\n",
       "lotarea           9060\n",
       "street            Pave\n",
       "lotshape           Reg\n",
       "landcontour        Lvl\n",
       "utilities       AllPub\n",
       "lotconfig       Inside\n",
       "landslope          Gtl\n",
       "neighborhood    IDOTRR\n",
       "condition1        Norm\n",
       "condition2        Norm\n",
       "bldgtype          1Fam\n",
       "housestyle      2Story\n",
       "overallqual          5\n",
       "overallcond          6\n",
       "yearbuilt         1923\n",
       "yearremod/add     1999\n",
       "roofstyle        Gable\n",
       "roofmatl       CompShg\n",
       "exterior1st    Wd Sdng\n",
       "exterior2nd    Plywood\n",
       "masvnrtype        None\n",
       "masvnrarea         0.0\n",
       "exterqual            3\n",
       "extercond            3\n",
       "foundation      BrkTil\n",
       "bsmtqual             4\n",
       "bsmtcond             3\n",
       "...                ...\n",
       "grlivarea         1828\n",
       "bsmtfullbath       0.0\n",
       "bsmthalfbath       0.0\n",
       "fullbath             2\n",
       "halfbath             0\n",
       "bedroomabvgr         3\n",
       "kitchenabvgr         1\n",
       "kitchenqual          4\n",
       "totrmsabvgrd         6\n",
       "functional         Typ\n",
       "fireplaces           0\n",
       "garagetype      Detchd\n",
       "garageyrblt        0.0\n",
       "garagefinish        NA\n",
       "garagecars         0.0\n",
       "garagearea         NaN\n",
       "garagequal           0\n",
       "garagecond           0\n",
       "paveddrive           Y\n",
       "wooddecksf         174\n",
       "openporchsf          0\n",
       "enclosedporch      212\n",
       "3ssnporch            0\n",
       "screenporch          0\n",
       "poolarea             0\n",
       "miscval              0\n",
       "mosold               3\n",
       "yrsold            2007\n",
       "saletype           WD \n",
       "saleprice       150909\n",
       "\n",
       "[74 rows x 1 columns]"
      ]
     },
     "execution_count": 44,
     "metadata": {},
     "output_type": "execute_result"
    }
   ],
   "source": [
    "data_train[data_train['garagearea'].isna()].T"
   ]
  },
  {
   "cell_type": "markdown",
   "id": "60e69ee3",
   "metadata": {},
   "source": [
    "Since the garage description is mostly empty, we can assume that there is no garage as it is detached."
   ]
  },
  {
   "cell_type": "code",
   "execution_count": 45,
   "id": "4753bada",
   "metadata": {},
   "outputs": [],
   "source": [
    "data_train['garagearea'].replace(np.nan, 0, inplace=True)"
   ]
  },
  {
   "cell_type": "code",
   "execution_count": 46,
   "id": "fdff5bb2",
   "metadata": {
    "scrolled": true
   },
   "outputs": [
    {
     "data": {
      "text/plain": [
       "mssubclass       0\n",
       "mszoning         0\n",
       "lotfrontage      0\n",
       "lotarea          0\n",
       "street           0\n",
       "lotshape         0\n",
       "landcontour      0\n",
       "utilities        0\n",
       "lotconfig        0\n",
       "landslope        0\n",
       "neighborhood     0\n",
       "condition1       0\n",
       "condition2       0\n",
       "bldgtype         0\n",
       "housestyle       0\n",
       "overallqual      0\n",
       "overallcond      0\n",
       "yearbuilt        0\n",
       "yearremod/add    0\n",
       "roofstyle        0\n",
       "roofmatl         0\n",
       "exterior1st      0\n",
       "exterior2nd      0\n",
       "masvnrtype       0\n",
       "masvnrarea       0\n",
       "exterqual        0\n",
       "extercond        0\n",
       "foundation       0\n",
       "bsmtqual         0\n",
       "bsmtcond         0\n",
       "                ..\n",
       "grlivarea        0\n",
       "bsmtfullbath     0\n",
       "bsmthalfbath     0\n",
       "fullbath         0\n",
       "halfbath         0\n",
       "bedroomabvgr     0\n",
       "kitchenabvgr     0\n",
       "kitchenqual      0\n",
       "totrmsabvgrd     0\n",
       "functional       0\n",
       "fireplaces       0\n",
       "garagetype       0\n",
       "garageyrblt      0\n",
       "garagefinish     0\n",
       "garagecars       0\n",
       "garagearea       0\n",
       "garagequal       0\n",
       "garagecond       0\n",
       "paveddrive       0\n",
       "wooddecksf       0\n",
       "openporchsf      0\n",
       "enclosedporch    0\n",
       "3ssnporch        0\n",
       "screenporch      0\n",
       "poolarea         0\n",
       "miscval          0\n",
       "mosold           0\n",
       "yrsold           0\n",
       "saletype         0\n",
       "saleprice        0\n",
       "Length: 74, dtype: int64"
      ]
     },
     "execution_count": 46,
     "metadata": {},
     "output_type": "execute_result"
    }
   ],
   "source": [
    "data_train.isnull().sum()"
   ]
  },
  {
   "cell_type": "markdown",
   "id": "a99e5fc1",
   "metadata": {},
   "source": [
    "Some of these features are related, and having multiple of them may skew it further, creating more noise and variance. We will drop features that are a subset of the main feature and features that may not exist in houses - 'Condition 2', 'Garage Yr Blt', 'Pool Area', 'Pool QC', 'Utilities', 'Misc Feature', 'Misc Val', '3Ssn Porch', 'Heating', 'Roof Matl', 'Exterior 2nd', 'BsmtFin SF 1', 'BsmtFin SF 2', 'BsmtFin Type 2', 'Sale Type', 'PID'."
   ]
  },
  {
   "cell_type": "code",
   "execution_count": 47,
   "id": "82f53f4b",
   "metadata": {
    "scrolled": true
   },
   "outputs": [],
   "source": [
    "data_train.drop(columns=['condition2', 'garageyrblt', 'poolarea', 'utilities', 'miscval', '3ssnporch', 'heating', 'roofmatl', 'exterior2nd', 'bsmtfinsf1', 'bsmtfinsf2', 'bsmtfintype2', 'saletype'], axis=1, inplace=True)"
   ]
  },
  {
   "cell_type": "markdown",
   "id": "32fa24e7",
   "metadata": {},
   "source": [
    "#### Output Clean Data"
   ]
  },
  {
   "cell_type": "code",
   "execution_count": 48,
   "id": "3e04cd48",
   "metadata": {},
   "outputs": [],
   "source": [
    "data_train.to_csv('data_train_clean.csv')"
   ]
  },
  {
   "cell_type": "markdown",
   "id": "a74dd698",
   "metadata": {},
   "source": [
    "We are done cleaning up the training data. Now, let's visualise the data that we have."
   ]
  },
  {
   "cell_type": "code",
   "execution_count": 49,
   "id": "1e6fa9eb",
   "metadata": {},
   "outputs": [
    {
     "data": {
      "text/plain": [
       "(2027, 61)"
      ]
     },
     "execution_count": 49,
     "metadata": {},
     "output_type": "execute_result"
    }
   ],
   "source": [
    "data_train.shape"
   ]
  },
  {
   "cell_type": "markdown",
   "id": "caa18fcc",
   "metadata": {},
   "source": [
    "## EDA"
   ]
  },
  {
   "cell_type": "markdown",
   "id": "c1f191c1",
   "metadata": {},
   "source": [
    "### Correlation"
   ]
  },
  {
   "cell_type": "code",
   "execution_count": 50,
   "id": "a8a6a5f0",
   "metadata": {},
   "outputs": [],
   "source": [
    "import seaborn as sns\n",
    "import matplotlib.pyplot as plt"
   ]
  },
  {
   "cell_type": "code",
   "execution_count": 51,
   "id": "8bbbdb90",
   "metadata": {},
   "outputs": [
    {
     "data": {
      "image/png": "[encoded data removed]",
      "text/plain": [
       "<Figure size 1440x1440 with 2 Axes>"
      ]
     },
     "metadata": {
      "needs_background": "light"
     },
     "output_type": "display_data"
    }
   ],
   "source": [
    "plt.figure(figsize=(20,20))\n",
    "mask = np.zeros_like(data_train.corr())\n",
    "mask[np.triu_indices_from(mask)] = True\n",
    "\n",
    "sns.heatmap(data_train.corr(), mask=mask, vmax=.3, square=True);"
   ]
  },
  {
   "cell_type": "markdown",
   "id": "83149668",
   "metadata": {},
   "source": [
    "Let's inspect closer to the correlation matrix and the values with respect to the sale price."
   ]
  },
  {
   "cell_type": "code",
   "execution_count": 52,
   "id": "3a93aca8",
   "metadata": {
    "scrolled": true
   },
   "outputs": [
    {
     "name": "stdout",
     "output_type": "stream",
     "text": [
      "(2027, 61)\n"
     ]
    },
    {
     "data": {
      "text/plain": [
       "saleprice        1.000000\n",
       "overallqual      0.799976\n",
       "exterqual        0.711835\n",
       "grlivarea        0.698801\n",
       "kitchenqual      0.690775\n",
       "garagearea       0.648282\n",
       "garagecars       0.646570\n",
       "totalbsmtsf      0.632005\n",
       "1stflrsf         0.623557\n",
       "bsmtqual         0.614974\n",
       "yearbuilt        0.571776\n",
       "yearremod/add    0.549174\n",
       "fullbath         0.538224\n",
       "masvnrarea       0.512746\n",
       "totrmsabvgrd     0.505213\n",
       "fireplaces       0.471279\n",
       "heatingqc        0.458128\n",
       "bsmtexposure     0.426299\n",
       "bsmtfintype1     0.352560\n",
       "wooddecksf       0.328570\n",
       "openporchsf      0.325706\n",
       "lotfrontage      0.324212\n",
       "lotarea          0.295860\n",
       "garagequal       0.285067\n",
       "bsmtfullbath     0.284610\n",
       "halfbath         0.278577\n",
       "centralair       0.277704\n",
       "garagecond       0.264624\n",
       "2ndflrsf         0.250585\n",
       "bsmtcond         0.224545\n",
       "bsmtunfsf        0.191360\n",
       "bedroomabvgr     0.138295\n",
       "screenporch      0.137848\n",
       "extercond        0.038421\n",
       "mosold           0.026418\n",
       "yrsold          -0.010933\n",
       "lowqualfinsf    -0.041131\n",
       "bsmthalfbath    -0.043807\n",
       "overallcond     -0.094299\n",
       "kitchenabvgr    -0.126188\n",
       "enclosedporch   -0.138294\n",
       "Name: saleprice, dtype: float64"
      ]
     },
     "execution_count": 52,
     "metadata": {},
     "output_type": "execute_result"
    }
   ],
   "source": [
    "data_train_corr = data_train.corr()\n",
    "print(data_train.shape)\n",
    "data_train_corr['saleprice'].sort_values(ascending=False)"
   ]
  },
  {
   "cell_type": "code",
   "execution_count": 53,
   "id": "7d371958",
   "metadata": {
    "scrolled": true
   },
   "outputs": [
    {
     "data": {
      "text/plain": [
       "lotfrontage      False\n",
       "lotarea          False\n",
       "overallqual       True\n",
       "overallcond      False\n",
       "yearbuilt         True\n",
       "yearremod/add     True\n",
       "masvnrarea        True\n",
       "exterqual         True\n",
       "extercond        False\n",
       "bsmtqual          True\n",
       "bsmtcond         False\n",
       "bsmtexposure     False\n",
       "bsmtfintype1     False\n",
       "bsmtunfsf        False\n",
       "totalbsmtsf       True\n",
       "heatingqc        False\n",
       "centralair       False\n",
       "1stflrsf          True\n",
       "2ndflrsf         False\n",
       "lowqualfinsf     False\n",
       "grlivarea         True\n",
       "bsmtfullbath     False\n",
       "bsmthalfbath     False\n",
       "fullbath          True\n",
       "halfbath         False\n",
       "bedroomabvgr     False\n",
       "kitchenabvgr     False\n",
       "kitchenqual       True\n",
       "totrmsabvgrd      True\n",
       "fireplaces       False\n",
       "garagecars        True\n",
       "garagearea        True\n",
       "garagequal       False\n",
       "garagecond       False\n",
       "wooddecksf       False\n",
       "openporchsf      False\n",
       "enclosedporch    False\n",
       "screenporch      False\n",
       "mosold           False\n",
       "yrsold           False\n",
       "saleprice         True\n",
       "Name: saleprice, dtype: bool"
      ]
     },
     "execution_count": 53,
     "metadata": {},
     "output_type": "execute_result"
    }
   ],
   "source": [
    "data_train_corr['saleprice'] > 0.5"
   ]
  },
  {
   "cell_type": "code",
   "execution_count": 54,
   "id": "fc1c92f2",
   "metadata": {
    "scrolled": true
   },
   "outputs": [
    {
     "data": {
      "text/plain": [
       "lotfrontage      False\n",
       "lotarea          False\n",
       "overallqual      False\n",
       "overallcond      False\n",
       "yearbuilt        False\n",
       "yearremod/add    False\n",
       "masvnrarea       False\n",
       "exterqual        False\n",
       "extercond        False\n",
       "bsmtqual         False\n",
       "bsmtcond         False\n",
       "bsmtexposure     False\n",
       "bsmtfintype1     False\n",
       "bsmtunfsf        False\n",
       "totalbsmtsf      False\n",
       "heatingqc        False\n",
       "centralair       False\n",
       "1stflrsf         False\n",
       "2ndflrsf         False\n",
       "lowqualfinsf     False\n",
       "grlivarea        False\n",
       "bsmtfullbath     False\n",
       "bsmthalfbath     False\n",
       "fullbath         False\n",
       "halfbath         False\n",
       "bedroomabvgr     False\n",
       "kitchenabvgr     False\n",
       "kitchenqual      False\n",
       "totrmsabvgrd     False\n",
       "fireplaces       False\n",
       "garagecars       False\n",
       "garagearea       False\n",
       "garagequal       False\n",
       "garagecond       False\n",
       "wooddecksf       False\n",
       "openporchsf      False\n",
       "enclosedporch    False\n",
       "screenporch      False\n",
       "mosold           False\n",
       "yrsold           False\n",
       "saleprice        False\n",
       "Name: saleprice, dtype: bool"
      ]
     },
     "execution_count": 54,
     "metadata": {},
     "output_type": "execute_result"
    }
   ],
   "source": [
    "data_train_corr['saleprice'] < -0.5"
   ]
  },
  {
   "cell_type": "markdown",
   "id": "6885c64a",
   "metadata": {},
   "source": [
    "### Distribution"
   ]
  },
  {
   "cell_type": "code",
   "execution_count": 55,
   "id": "5c3107d2",
   "metadata": {},
   "outputs": [
    {
     "data": {
      "image/png": "[encoded data removed]",
      "text/plain": [
       "<Figure size 1440x1440 with 42 Axes>"
      ]
     },
     "metadata": {
      "needs_background": "light"
     },
     "output_type": "display_data"
    }
   ],
   "source": [
    "data_train.hist(figsize=(20, 20));"
   ]
  },
  {
   "cell_type": "markdown",
   "id": "8ac96de1",
   "metadata": {},
   "source": [
    "There are no abnormalities with the dataset. It is also very difficult to read, hence we will compare between specific features to see for any visual correlations."
   ]
  },
  {
   "cell_type": "markdown",
   "id": "dff857d7",
   "metadata": {},
   "source": [
    "### Scatterplot"
   ]
  },
  {
   "cell_type": "markdown",
   "id": "7005ea34",
   "metadata": {},
   "source": [
    "Let's compare some features against Sale Price. First, let's choose features which have a strong correlation (see above) - Overall Qual, Year Built, Year Remod/Add, Mas Vnr Area, Total Bsmt SF, 1st Flr SF, Gr Liv Area, Full Bath, TotRms AbvGrd, Garage Cars, Garage Area."
   ]
  },
  {
   "cell_type": "markdown",
   "id": "d06c936f",
   "metadata": {},
   "source": [
    "#### Overall Quality"
   ]
  },
  {
   "cell_type": "code",
   "execution_count": 56,
   "id": "a841d5dc",
   "metadata": {},
   "outputs": [
    {
     "data": {
      "image/png": "[encoded data removed]",
      "text/plain": [
       "<Figure size 432x288 with 1 Axes>"
      ]
     },
     "metadata": {
      "needs_background": "light"
     },
     "output_type": "display_data"
    }
   ],
   "source": [
    "sns.regplot(x='overallqual', y='saleprice', data=data_train, ci=None, \n",
    "            scatter_kws = {'s': 1}, \n",
    "            line_kws = {'color': 'orange'});"
   ]
  },
  {
   "cell_type": "markdown",
   "id": "d7a7e7d4",
   "metadata": {},
   "source": [
    "#### Year Built"
   ]
  },
  {
   "cell_type": "code",
   "execution_count": 57,
   "id": "4076dd08",
   "metadata": {},
   "outputs": [
    {
     "data": {
      "image/png": "[encoded data removed]",
      "text/plain": [
       "<Figure size 432x288 with 1 Axes>"
      ]
     },
     "metadata": {
      "needs_background": "light"
     },
     "output_type": "display_data"
    }
   ],
   "source": [
    "sns.regplot(x='yearbuilt', y='saleprice', data=data_train, ci=None, \n",
    "            scatter_kws = {'s': 1}, \n",
    "            line_kws = {'color': 'orange'});"
   ]
  },
  {
   "cell_type": "markdown",
   "id": "9078c54f",
   "metadata": {},
   "source": [
    "#### Year Remodelled/Added"
   ]
  },
  {
   "cell_type": "code",
   "execution_count": 58,
   "id": "a7149813",
   "metadata": {},
   "outputs": [
    {
     "data": {
      "text/plain": [
       "<AxesSubplot:xlabel='yearremod/add', ylabel='saleprice'>"
      ]
     },
     "execution_count": 58,
     "metadata": {},
     "output_type": "execute_result"
    },
    {
     "data": {
      "image/png": "[encoded data removed]",
      "text/plain": [
       "<Figure size 432x288 with 1 Axes>"
      ]
     },
     "metadata": {
      "needs_background": "light"
     },
     "output_type": "display_data"
    }
   ],
   "source": [
    "sns.regplot(x='yearremod/add', y='saleprice', data=data_train, ci=None, \n",
    "            scatter_kws = {'s': 1}, \n",
    "            line_kws = {'color': 'orange'})"
   ]
  },
  {
   "cell_type": "markdown",
   "id": "6fd2c830",
   "metadata": {},
   "source": [
    "#### Masonry Veneer Type"
   ]
  },
  {
   "cell_type": "code",
   "execution_count": 59,
   "id": "334f57d3",
   "metadata": {},
   "outputs": [
    {
     "data": {
      "text/plain": [
       "<AxesSubplot:xlabel='masvnrarea', ylabel='saleprice'>"
      ]
     },
     "execution_count": 59,
     "metadata": {},
     "output_type": "execute_result"
    },
    {
     "data": {
      "image/png": "[encoded data removed]",
      "text/plain": [
       "<Figure size 432x288 with 1 Axes>"
      ]
     },
     "metadata": {
      "needs_background": "light"
     },
     "output_type": "display_data"
    }
   ],
   "source": [
    "sns.regplot(x='masvnrarea', y='saleprice', data=data_train, ci=None, \n",
    "            scatter_kws = {'s': 1}, \n",
    "            line_kws = {'color': 'orange'})"
   ]
  },
  {
   "cell_type": "markdown",
   "id": "fb8cfcbe",
   "metadata": {},
   "source": [
    "#### Total Basement SF"
   ]
  },
  {
   "cell_type": "code",
   "execution_count": 60,
   "id": "cea16b12",
   "metadata": {},
   "outputs": [
    {
     "data": {
      "text/plain": [
       "<AxesSubplot:xlabel='totalbsmtsf', ylabel='saleprice'>"
      ]
     },
     "execution_count": 60,
     "metadata": {},
     "output_type": "execute_result"
    },
    {
     "data": {
      "image/png": "[encoded data removed]",
      "text/plain": [
       "<Figure size 432x288 with 1 Axes>"
      ]
     },
     "metadata": {
      "needs_background": "light"
     },
     "output_type": "display_data"
    }
   ],
   "source": [
    "sns.regplot(x='totalbsmtsf', y='saleprice', data=data_train, ci=None, \n",
    "            scatter_kws = {'s': 1}, \n",
    "            line_kws = {'color': 'orange'})"
   ]
  },
  {
   "cell_type": "markdown",
   "id": "0e8a973e",
   "metadata": {},
   "source": [
    "#### 1st Flr SF"
   ]
  },
  {
   "cell_type": "code",
   "execution_count": 61,
   "id": "750bb2f7",
   "metadata": {},
   "outputs": [
    {
     "data": {
      "text/plain": [
       "<AxesSubplot:xlabel='1stflrsf', ylabel='saleprice'>"
      ]
     },
     "execution_count": 61,
     "metadata": {},
     "output_type": "execute_result"
    },
    {
     "data": {
      "image/png": "[encoded data removed]",
      "text/plain": [
       "<Figure size 432x288 with 1 Axes>"
      ]
     },
     "metadata": {
      "needs_background": "light"
     },
     "output_type": "display_data"
    }
   ],
   "source": [
    "sns.regplot(x='1stflrsf', y='saleprice', data=data_train, ci=None, \n",
    "            scatter_kws = {'s': 1}, \n",
    "            line_kws = {'color': 'orange'})"
   ]
  },
  {
   "cell_type": "markdown",
   "id": "080ef940",
   "metadata": {},
   "source": [
    "#### Above grade (ground) living area square feet"
   ]
  },
  {
   "cell_type": "code",
   "execution_count": 62,
   "id": "4a141b00",
   "metadata": {},
   "outputs": [
    {
     "data": {
      "text/plain": [
       "<AxesSubplot:xlabel='grlivarea', ylabel='saleprice'>"
      ]
     },
     "execution_count": 62,
     "metadata": {},
     "output_type": "execute_result"
    },
    {
     "data": {
      "image/png": "[encoded data removed]",
      "text/plain": [
       "<Figure size 432x288 with 1 Axes>"
      ]
     },
     "metadata": {
      "needs_background": "light"
     },
     "output_type": "display_data"
    }
   ],
   "source": [
    "sns.regplot(x='grlivarea', y='saleprice', data=data_train, ci=None, \n",
    "            scatter_kws = {'s': 1}, \n",
    "            line_kws = {'color': 'orange'})"
   ]
  },
  {
   "cell_type": "markdown",
   "id": "be516b3f",
   "metadata": {},
   "source": [
    "#### Full Bath"
   ]
  },
  {
   "cell_type": "code",
   "execution_count": 63,
   "id": "283add91",
   "metadata": {},
   "outputs": [
    {
     "data": {
      "text/plain": [
       "<AxesSubplot:xlabel='fullbath', ylabel='saleprice'>"
      ]
     },
     "execution_count": 63,
     "metadata": {},
     "output_type": "execute_result"
    },
    {
     "data": {
      "image/png": "[encoded data removed]",
      "text/plain": [
       "<Figure size 432x288 with 1 Axes>"
      ]
     },
     "metadata": {
      "needs_background": "light"
     },
     "output_type": "display_data"
    }
   ],
   "source": [
    "sns.regplot(x='fullbath', y='saleprice', data=data_train, ci=None, \n",
    "            scatter_kws = {'s': 1}, \n",
    "            line_kws = {'color': 'orange'})"
   ]
  },
  {
   "cell_type": "markdown",
   "id": "d5360d23",
   "metadata": {},
   "source": [
    "#### Total number of Rooms Above Ground"
   ]
  },
  {
   "cell_type": "code",
   "execution_count": 64,
   "id": "c407ad21",
   "metadata": {},
   "outputs": [
    {
     "data": {
      "text/plain": [
       "<AxesSubplot:xlabel='totrmsabvgrd', ylabel='saleprice'>"
      ]
     },
     "execution_count": 64,
     "metadata": {},
     "output_type": "execute_result"
    },
    {
     "data": {
      "image/png": "[encoded data removed]",
      "text/plain": [
       "<Figure size 432x288 with 1 Axes>"
      ]
     },
     "metadata": {
      "needs_background": "light"
     },
     "output_type": "display_data"
    }
   ],
   "source": [
    "sns.regplot(x='totrmsabvgrd', y='saleprice', data=data_train, ci=None, \n",
    "            scatter_kws = {'s': 1}, \n",
    "            line_kws = {'color': 'orange'})"
   ]
  },
  {
   "cell_type": "markdown",
   "id": "9ef3e4ac",
   "metadata": {},
   "source": [
    "#### Garage Cars"
   ]
  },
  {
   "cell_type": "code",
   "execution_count": 65,
   "id": "5fd57ade",
   "metadata": {},
   "outputs": [
    {
     "data": {
      "text/plain": [
       "<AxesSubplot:xlabel='garagecars', ylabel='saleprice'>"
      ]
     },
     "execution_count": 65,
     "metadata": {},
     "output_type": "execute_result"
    },
    {
     "data": {
      "image/png": "[encoded data removed]",
      "text/plain": [
       "<Figure size 432x288 with 1 Axes>"
      ]
     },
     "metadata": {
      "needs_background": "light"
     },
     "output_type": "display_data"
    }
   ],
   "source": [
    "sns.regplot(x='garagecars', y='saleprice', data=data_train, ci=None, \n",
    "            scatter_kws = {'s': 1}, \n",
    "            line_kws = {'color': 'orange'})"
   ]
  },
  {
   "cell_type": "markdown",
   "id": "80ac318c",
   "metadata": {},
   "source": [
    "#### Garage Area"
   ]
  },
  {
   "cell_type": "code",
   "execution_count": 66,
   "id": "85bd3a54",
   "metadata": {},
   "outputs": [
    {
     "data": {
      "text/plain": [
       "<AxesSubplot:xlabel='garagearea', ylabel='saleprice'>"
      ]
     },
     "execution_count": 66,
     "metadata": {},
     "output_type": "execute_result"
    },
    {
     "data": {
      "image/png": "[encoded data removed]",
      "text/plain": [
       "<Figure size 432x288 with 1 Axes>"
      ]
     },
     "metadata": {
      "needs_background": "light"
     },
     "output_type": "display_data"
    }
   ],
   "source": [
    "sns.regplot(x='garagearea', y='saleprice', data=data_train, ci=None, \n",
    "            scatter_kws = {'s': 1}, \n",
    "            line_kws = {'color': 'orange'})"
   ]
  },
  {
   "cell_type": "markdown",
   "id": "808dae4e",
   "metadata": {},
   "source": [
    "#### Number of Houses in each Neighborhood"
   ]
  },
  {
   "cell_type": "code",
   "execution_count": 67,
   "id": "8c129dfd",
   "metadata": {},
   "outputs": [
    {
     "data": {
      "image/png": "[encoded data removed]",
      "text/plain": [
       "<Figure size 1080x1080 with 1 Axes>"
      ]
     },
     "metadata": {
      "needs_background": "light"
     },
     "output_type": "display_data"
    }
   ],
   "source": [
    "plt.figure(figsize=(15, 15))\n",
    "ax = sns.countplot(x=\"neighborhood\", data=data_train)\n",
    "ax.tick_params(axis='x', rotation=90)"
   ]
  },
  {
   "cell_type": "markdown",
   "id": "7e72b51c",
   "metadata": {},
   "source": [
    "#### Sale Prices of Houses according to Neighbourhoods"
   ]
  },
  {
   "cell_type": "code",
   "execution_count": 68,
   "id": "30679de8",
   "metadata": {},
   "outputs": [],
   "source": [
    "data_neighborhood = data_train[['neighborhood', 'saleprice']]"
   ]
  },
  {
   "cell_type": "code",
   "execution_count": 69,
   "id": "8026d154",
   "metadata": {
    "scrolled": true
   },
   "outputs": [],
   "source": [
    "data_neighborhood = data_neighborhood.pivot(columns='neighborhood',values='saleprice').fillna(0)"
   ]
  },
  {
   "cell_type": "code",
   "execution_count": 70,
   "id": "d891cbeb",
   "metadata": {},
   "outputs": [],
   "source": [
    "sorted_index = data_neighborhood.median().sort_values().index"
   ]
  },
  {
   "cell_type": "code",
   "execution_count": 71,
   "id": "d2472944",
   "metadata": {},
   "outputs": [
    {
     "data": {
      "text/plain": [
       "Index(['Blmngtn', 'StoneBr', 'Somerst', 'SawyerW', 'Sawyer', 'SWISU',\n",
       "       'OldTown', 'NridgHt', 'NoRidge', 'NWAmes', 'NPkVill', 'NAmes',\n",
       "       'Mitchel', 'MeadowV', 'Landmrk', 'IDOTRR', 'GrnHill', 'Greens',\n",
       "       'Gilbert', 'Edwards', 'Crawfor', 'CollgCr', 'ClearCr', 'BrkSide',\n",
       "       'BrDale', 'Blueste', 'Timber', 'Veenker'],\n",
       "      dtype='object', name='neighborhood')"
      ]
     },
     "execution_count": 71,
     "metadata": {},
     "output_type": "execute_result"
    }
   ],
   "source": [
    "sorted_index"
   ]
  },
  {
   "cell_type": "code",
   "execution_count": 72,
   "id": "dabdef54",
   "metadata": {},
   "outputs": [],
   "source": [
    "df_sorted=data_neighborhood[sorted_index]"
   ]
  },
  {
   "cell_type": "code",
   "execution_count": 73,
   "id": "69f6f9d4",
   "metadata": {},
   "outputs": [
    {
     "data": {
      "image/png": "[encoded data removed]",
      "text/plain": [
       "<Figure size 1080x1080 with 1 Axes>"
      ]
     },
     "metadata": {
      "needs_background": "light"
     },
     "output_type": "display_data"
    }
   ],
   "source": [
    "plt.figure(figsize=(15, 15))\n",
    "sns_neighborhood = sns.boxplot(data=df_sorted)\n",
    "plt.xlabel('neighborhood', size=18)\n",
    "plt.ylabel('saleprice', size=18)\n",
    "sns_neighborhood.tick_params(axis='x', rotation=90)"
   ]
  },
  {
   "cell_type": "code",
   "execution_count": 74,
   "id": "1abfee4e",
   "metadata": {},
   "outputs": [
    {
     "data": {
      "image/png": "[encoded data removed]",
      "text/plain": [
       "<Figure size 1080x1080 with 1 Axes>"
      ]
     },
     "metadata": {
      "needs_background": "light"
     },
     "output_type": "display_data"
    }
   ],
   "source": [
    "plt.figure(figsize=(15, 15))\n",
    "\n",
    "ax = sns.boxplot(x=\"neighborhood\", y=\"saleprice\", data=data_train)\n",
    "ax.tick_params(axis='x', rotation=90)\n",
    "# slice out the neighbourhood by saleprice\n",
    "# group by neighbourhood\n",
    "# sort value by the mean of the neighbourhood"
   ]
  },
  {
   "cell_type": "markdown",
   "id": "19461598",
   "metadata": {},
   "source": [
    "## Pre-Processing and Modeling"
   ]
  },
  {
   "cell_type": "markdown",
   "id": "800bcfe3",
   "metadata": {},
   "source": [
    "Further dummifying the categorical variables... (non-ordinal)"
   ]
  },
  {
   "cell_type": "code",
   "execution_count": 75,
   "id": "1db12a41",
   "metadata": {
    "scrolled": true
   },
   "outputs": [
    {
     "data": {
      "text/plain": [
       "['mssubclass',\n",
       " 'mszoning',\n",
       " 'lotfrontage',\n",
       " 'lotarea',\n",
       " 'street',\n",
       " 'lotshape',\n",
       " 'landcontour',\n",
       " 'lotconfig',\n",
       " 'landslope',\n",
       " 'neighborhood',\n",
       " 'condition1',\n",
       " 'bldgtype',\n",
       " 'housestyle',\n",
       " 'overallqual',\n",
       " 'overallcond',\n",
       " 'yearbuilt',\n",
       " 'yearremod/add',\n",
       " 'roofstyle',\n",
       " 'exterior1st',\n",
       " 'masvnrtype',\n",
       " 'masvnrarea',\n",
       " 'exterqual',\n",
       " 'extercond',\n",
       " 'foundation',\n",
       " 'bsmtqual',\n",
       " 'bsmtcond',\n",
       " 'bsmtexposure',\n",
       " 'bsmtfintype1',\n",
       " 'bsmtunfsf',\n",
       " 'totalbsmtsf',\n",
       " 'heatingqc',\n",
       " 'centralair',\n",
       " 'electrical',\n",
       " '1stflrsf',\n",
       " '2ndflrsf',\n",
       " 'lowqualfinsf',\n",
       " 'grlivarea',\n",
       " 'bsmtfullbath',\n",
       " 'bsmthalfbath',\n",
       " 'fullbath',\n",
       " 'halfbath',\n",
       " 'bedroomabvgr',\n",
       " 'kitchenabvgr',\n",
       " 'kitchenqual',\n",
       " 'totrmsabvgrd',\n",
       " 'functional',\n",
       " 'fireplaces',\n",
       " 'garagetype',\n",
       " 'garagefinish',\n",
       " 'garagecars',\n",
       " 'garagearea',\n",
       " 'garagequal',\n",
       " 'garagecond',\n",
       " 'paveddrive',\n",
       " 'wooddecksf',\n",
       " 'openporchsf',\n",
       " 'enclosedporch',\n",
       " 'screenporch',\n",
       " 'mosold',\n",
       " 'yrsold',\n",
       " 'saleprice']"
      ]
     },
     "execution_count": 75,
     "metadata": {},
     "output_type": "execute_result"
    }
   ],
   "source": [
    "columns = list(data_train.columns)\n",
    "columns"
   ]
  },
  {
   "cell_type": "code",
   "execution_count": 76,
   "id": "c877ffdd",
   "metadata": {
    "scrolled": true
   },
   "outputs": [
    {
     "name": "stdout",
     "output_type": "stream",
     "text": [
      "<class 'pandas.core.frame.DataFrame'>\n",
      "Int64Index: 2027 entries, 109 to 10\n",
      "Data columns (total 61 columns):\n",
      " #   Column         Non-Null Count  Dtype  \n",
      "---  ------         --------------  -----  \n",
      " 0   mssubclass     2027 non-null   object \n",
      " 1   mszoning       2027 non-null   object \n",
      " 2   lotfrontage    2027 non-null   float64\n",
      " 3   lotarea        2027 non-null   int64  \n",
      " 4   street         2027 non-null   object \n",
      " 5   lotshape       2027 non-null   object \n",
      " 6   landcontour    2027 non-null   object \n",
      " 7   lotconfig      2027 non-null   object \n",
      " 8   landslope      2027 non-null   object \n",
      " 9   neighborhood   2027 non-null   object \n",
      " 10  condition1     2027 non-null   object \n",
      " 11  bldgtype       2027 non-null   object \n",
      " 12  housestyle     2027 non-null   object \n",
      " 13  overallqual    2027 non-null   int64  \n",
      " 14  overallcond    2027 non-null   int64  \n",
      " 15  yearbuilt      2027 non-null   int64  \n",
      " 16  yearremod/add  2027 non-null   int64  \n",
      " 17  roofstyle      2027 non-null   object \n",
      " 18  exterior1st    2027 non-null   object \n",
      " 19  masvnrtype     2027 non-null   object \n",
      " 20  masvnrarea     2027 non-null   float64\n",
      " 21  exterqual      2027 non-null   int64  \n",
      " 22  extercond      2027 non-null   int64  \n",
      " 23  foundation     2027 non-null   object \n",
      " 24  bsmtqual       2027 non-null   int64  \n",
      " 25  bsmtcond       2027 non-null   int64  \n",
      " 26  bsmtexposure   2027 non-null   int64  \n",
      " 27  bsmtfintype1   2027 non-null   int64  \n",
      " 28  bsmtunfsf      2027 non-null   float64\n",
      " 29  totalbsmtsf    2027 non-null   float64\n",
      " 30  heatingqc      2027 non-null   int64  \n",
      " 31  centralair     2027 non-null   int64  \n",
      " 32  electrical     2027 non-null   object \n",
      " 33  1stflrsf       2027 non-null   int64  \n",
      " 34  2ndflrsf       2027 non-null   int64  \n",
      " 35  lowqualfinsf   2027 non-null   int64  \n",
      " 36  grlivarea      2027 non-null   int64  \n",
      " 37  bsmtfullbath   2027 non-null   float64\n",
      " 38  bsmthalfbath   2027 non-null   float64\n",
      " 39  fullbath       2027 non-null   int64  \n",
      " 40  halfbath       2027 non-null   int64  \n",
      " 41  bedroomabvgr   2027 non-null   int64  \n",
      " 42  kitchenabvgr   2027 non-null   int64  \n",
      " 43  kitchenqual    2027 non-null   int64  \n",
      " 44  totrmsabvgrd   2027 non-null   int64  \n",
      " 45  functional     2027 non-null   object \n",
      " 46  fireplaces     2027 non-null   int64  \n",
      " 47  garagetype     2027 non-null   object \n",
      " 48  garagefinish   2027 non-null   object \n",
      " 49  garagecars     2027 non-null   float64\n",
      " 50  garagearea     2027 non-null   float64\n",
      " 51  garagequal     2027 non-null   int64  \n",
      " 52  garagecond     2027 non-null   int64  \n",
      " 53  paveddrive     2027 non-null   object \n",
      " 54  wooddecksf     2027 non-null   int64  \n",
      " 55  openporchsf    2027 non-null   int64  \n",
      " 56  enclosedporch  2027 non-null   int64  \n",
      " 57  screenporch    2027 non-null   int64  \n",
      " 58  mosold         2027 non-null   int64  \n",
      " 59  yrsold         2027 non-null   int64  \n",
      " 60  saleprice      2027 non-null   int64  \n",
      "dtypes: float64(8), int64(33), object(20)\n",
      "memory usage: 1.0+ MB\n"
     ]
    }
   ],
   "source": [
    "data_train.info()"
   ]
  },
  {
   "cell_type": "code",
   "execution_count": 77,
   "id": "bccce6de",
   "metadata": {},
   "outputs": [],
   "source": [
    "columns.remove('saleprice')\n",
    "columns.remove('neighborhood')\n",
    "data_train.drop('neighborhood', axis=1, inplace=True)"
   ]
  },
  {
   "cell_type": "markdown",
   "id": "9c8f851e",
   "metadata": {},
   "source": [
    "We don't really know which feature to remove, so we will select all the remaining features after data cleaning."
   ]
  },
  {
   "cell_type": "code",
   "execution_count": 78,
   "id": "10f113d0",
   "metadata": {},
   "outputs": [],
   "source": [
    "data_train = pd.get_dummies(data_train, drop_first = True)"
   ]
  },
  {
   "cell_type": "code",
   "execution_count": 79,
   "id": "b8a54ae6",
   "metadata": {},
   "outputs": [],
   "source": [
    "data_list = [col for col in data_train.columns if col != 'saleprice']"
   ]
  },
  {
   "cell_type": "code",
   "execution_count": 80,
   "id": "767e04b2",
   "metadata": {},
   "outputs": [
    {
     "data": {
      "text/plain": [
       "['lotfrontage',\n",
       " 'lotarea',\n",
       " 'overallqual',\n",
       " 'overallcond',\n",
       " 'yearbuilt',\n",
       " 'yearremod/add',\n",
       " 'masvnrarea',\n",
       " 'exterqual',\n",
       " 'extercond',\n",
       " 'bsmtqual',\n",
       " 'bsmtcond',\n",
       " 'bsmtexposure',\n",
       " 'bsmtfintype1',\n",
       " 'bsmtunfsf',\n",
       " 'totalbsmtsf',\n",
       " 'heatingqc',\n",
       " 'centralair',\n",
       " '1stflrsf',\n",
       " '2ndflrsf',\n",
       " 'lowqualfinsf',\n",
       " 'grlivarea',\n",
       " 'bsmtfullbath',\n",
       " 'bsmthalfbath',\n",
       " 'fullbath',\n",
       " 'halfbath',\n",
       " 'bedroomabvgr',\n",
       " 'kitchenabvgr',\n",
       " 'kitchenqual',\n",
       " 'totrmsabvgrd',\n",
       " 'fireplaces',\n",
       " 'garagecars',\n",
       " 'garagearea',\n",
       " 'garagequal',\n",
       " 'garagecond',\n",
       " 'wooddecksf',\n",
       " 'openporchsf',\n",
       " 'enclosedporch',\n",
       " 'screenporch',\n",
       " 'mosold',\n",
       " 'yrsold',\n",
       " 'mssubclass_150',\n",
       " 'mssubclass_160',\n",
       " 'mssubclass_180',\n",
       " 'mssubclass_190',\n",
       " 'mssubclass_20',\n",
       " 'mssubclass_30',\n",
       " 'mssubclass_40',\n",
       " 'mssubclass_45',\n",
       " 'mssubclass_50',\n",
       " 'mssubclass_60',\n",
       " 'mssubclass_70',\n",
       " 'mssubclass_75',\n",
       " 'mssubclass_80',\n",
       " 'mssubclass_85',\n",
       " 'mssubclass_90',\n",
       " 'mszoning_C (all)',\n",
       " 'mszoning_FV',\n",
       " 'mszoning_I (all)',\n",
       " 'mszoning_RH',\n",
       " 'mszoning_RL',\n",
       " 'mszoning_RM',\n",
       " 'street_Pave',\n",
       " 'lotshape_IR2',\n",
       " 'lotshape_IR3',\n",
       " 'lotshape_Reg',\n",
       " 'landcontour_HLS',\n",
       " 'landcontour_Low',\n",
       " 'landcontour_Lvl',\n",
       " 'lotconfig_CulDSac',\n",
       " 'lotconfig_FR2',\n",
       " 'lotconfig_FR3',\n",
       " 'lotconfig_Inside',\n",
       " 'landslope_Mod',\n",
       " 'landslope_Sev',\n",
       " 'condition1_Feedr',\n",
       " 'condition1_Norm',\n",
       " 'condition1_PosA',\n",
       " 'condition1_PosN',\n",
       " 'condition1_RRAe',\n",
       " 'condition1_RRAn',\n",
       " 'condition1_RRNe',\n",
       " 'condition1_RRNn',\n",
       " 'bldgtype_2fmCon',\n",
       " 'bldgtype_Duplex',\n",
       " 'bldgtype_Twnhs',\n",
       " 'bldgtype_TwnhsE',\n",
       " 'housestyle_1.5Unf',\n",
       " 'housestyle_1Story',\n",
       " 'housestyle_2.5Fin',\n",
       " 'housestyle_2.5Unf',\n",
       " 'housestyle_2Story',\n",
       " 'housestyle_SFoyer',\n",
       " 'housestyle_SLvl',\n",
       " 'roofstyle_Gable',\n",
       " 'roofstyle_Gambrel',\n",
       " 'roofstyle_Hip',\n",
       " 'roofstyle_Mansard',\n",
       " 'roofstyle_Shed',\n",
       " 'exterior1st_AsphShn',\n",
       " 'exterior1st_BrkComm',\n",
       " 'exterior1st_BrkFace',\n",
       " 'exterior1st_CBlock',\n",
       " 'exterior1st_CemntBd',\n",
       " 'exterior1st_HdBoard',\n",
       " 'exterior1st_ImStucc',\n",
       " 'exterior1st_MetalSd',\n",
       " 'exterior1st_Plywood',\n",
       " 'exterior1st_Stone',\n",
       " 'exterior1st_Stucco',\n",
       " 'exterior1st_VinylSd',\n",
       " 'exterior1st_Wd Sdng',\n",
       " 'exterior1st_WdShing',\n",
       " 'masvnrtype_BrkFace',\n",
       " 'masvnrtype_None',\n",
       " 'masvnrtype_Stone',\n",
       " 'foundation_CBlock',\n",
       " 'foundation_PConc',\n",
       " 'foundation_Slab',\n",
       " 'foundation_Stone',\n",
       " 'foundation_Wood',\n",
       " 'electrical_FuseF',\n",
       " 'electrical_FuseP',\n",
       " 'electrical_Mix',\n",
       " 'electrical_SBrkr',\n",
       " 'functional_Maj2',\n",
       " 'functional_Min1',\n",
       " 'functional_Min2',\n",
       " 'functional_Mod',\n",
       " 'functional_Sal',\n",
       " 'functional_Sev',\n",
       " 'functional_Typ',\n",
       " 'garagetype_Attchd',\n",
       " 'garagetype_Basment',\n",
       " 'garagetype_BuiltIn',\n",
       " 'garagetype_CarPort',\n",
       " 'garagetype_Detchd',\n",
       " 'garagetype_NA',\n",
       " 'garagefinish_NA',\n",
       " 'garagefinish_RFn',\n",
       " 'garagefinish_Unf',\n",
       " 'paveddrive_P',\n",
       " 'paveddrive_Y']"
      ]
     },
     "execution_count": 80,
     "metadata": {},
     "output_type": "execute_result"
    }
   ],
   "source": [
    "data_list"
   ]
  },
  {
   "cell_type": "markdown",
   "id": "3707f9cd",
   "metadata": {},
   "source": [
    "### Linear Regression (our Baseline Model)"
   ]
  },
  {
   "cell_type": "code",
   "execution_count": 81,
   "id": "98a57082",
   "metadata": {},
   "outputs": [],
   "source": [
    "from sklearn.linear_model import LinearRegression \n",
    "from sklearn import metrics \n",
    "from sklearn.preprocessing import StandardScaler, PolynomialFeatures\n",
    "\n",
    "from scipy import stats\n",
    "from sklearn import datasets, linear_model\n",
    "from sklearn.model_selection import train_test_split, cross_val_score"
   ]
  },
  {
   "cell_type": "markdown",
   "id": "bc4a5f29",
   "metadata": {},
   "source": [
    "#### Instantiate The Model"
   ]
  },
  {
   "cell_type": "code",
   "execution_count": 82,
   "id": "501a691c",
   "metadata": {},
   "outputs": [],
   "source": [
    "lr = LinearRegression()"
   ]
  },
  {
   "cell_type": "code",
   "execution_count": 83,
   "id": "196326c5",
   "metadata": {},
   "outputs": [],
   "source": [
    "X = data_train[data_list]\n",
    "y = data_train['saleprice']"
   ]
  },
  {
   "cell_type": "code",
   "execution_count": 84,
   "id": "1b94fc28",
   "metadata": {},
   "outputs": [],
   "source": [
    "poly = PolynomialFeatures(include_bias=False)\n",
    "X_overfit = poly.fit_transform(X)"
   ]
  },
  {
   "cell_type": "code",
   "execution_count": 85,
   "id": "d514650f",
   "metadata": {},
   "outputs": [
    {
     "data": {
      "text/plain": [
       "(2027, 142)"
      ]
     },
     "execution_count": 85,
     "metadata": {},
     "output_type": "execute_result"
    }
   ],
   "source": [
    "X.shape"
   ]
  },
  {
   "cell_type": "code",
   "execution_count": 86,
   "id": "6e5ad2e4",
   "metadata": {},
   "outputs": [],
   "source": [
    "# poly.get_feature_names(X.columns)"
   ]
  },
  {
   "cell_type": "markdown",
   "id": "5eb120ba",
   "metadata": {},
   "source": [
    "Unfortunately, my computer hangs when I process polynomial features, hence I will not be able to analyse interaction terms in this project."
   ]
  },
  {
   "cell_type": "code",
   "execution_count": 87,
   "id": "2761c864",
   "metadata": {},
   "outputs": [],
   "source": [
    "# X_overfit.shape"
   ]
  },
  {
   "cell_type": "markdown",
   "id": "8f0bf144",
   "metadata": {},
   "source": [
    "While it is not necessary to train-test-split in this project as we will be comparing this train data to the one on Kaggle, I will still proceed to create a training and validation data set to see the effectiveness of the model. The training and validation ratio split will be 75-25 (default). A bit of caution is that the dataset isn't considered large to begin with.\n",
    "<br><br>\n",
    "We shall use X_valid and y_valid instead of X_test and y_test to prevent confusion."
   ]
  },
  {
   "cell_type": "code",
   "execution_count": 88,
   "id": "a0069d85",
   "metadata": {},
   "outputs": [],
   "source": [
    "X_train, X_valid, y_train, y_valid = train_test_split(X, y, random_state=42)"
   ]
  },
  {
   "cell_type": "code",
   "execution_count": 89,
   "id": "a89dd5a1",
   "metadata": {},
   "outputs": [
    {
     "name": "stdout",
     "output_type": "stream",
     "text": [
      "(1520, 142)\n",
      "(507, 142)\n"
     ]
    }
   ],
   "source": [
    "print(X_train.shape)\n",
    "print(X_valid.shape)"
   ]
  },
  {
   "cell_type": "markdown",
   "id": "82e4d4f0",
   "metadata": {},
   "source": [
    "We will scale our features, so that features will not be too large till it affects the model greatly. This scaled X_train and X_valid will be scaled to X_train_sc and X_valid_sc for all the models that we'll be using."
   ]
  },
  {
   "cell_type": "code",
   "execution_count": 90,
   "id": "ab980738",
   "metadata": {},
   "outputs": [],
   "source": [
    "ss = StandardScaler()\n",
    "ss.fit(X_train)\n",
    "X_train_sc = ss.transform(X_train)\n",
    "X_valid_sc = ss.transform(X_valid)"
   ]
  },
  {
   "cell_type": "markdown",
   "id": "c7602931",
   "metadata": {},
   "source": [
    "#### Fit the Model"
   ]
  },
  {
   "cell_type": "code",
   "execution_count": 91,
   "id": "c6b9ba22",
   "metadata": {},
   "outputs": [],
   "source": [
    "model = lr.fit(X_train_sc,y_train)\n",
    "score = model.score(X_train_sc,y_train)\n",
    "\n",
    "ls_predictions = model.predict(X_train_sc)"
   ]
  },
  {
   "cell_type": "code",
   "execution_count": 92,
   "id": "88356f86",
   "metadata": {},
   "outputs": [
    {
     "name": "stderr",
     "output_type": "stream",
     "text": [
      "C:\\Users\\ilove\\AppData\\Local\\Programs\\Python\\Python39\\lib\\site-packages\\seaborn\\_decorators.py:36: FutureWarning: Pass the following variables as keyword args: x, y. From version 0.12, the only valid positional argument will be `data`, and passing other arguments without an explicit keyword will result in an error or misinterpretation.\n",
      "  warnings.warn(\n"
     ]
    },
    {
     "data": {
      "text/plain": [
       "(array([-100000.,       0.,  100000.,  200000.,  300000.,  400000.,\n",
       "         500000.,  600000.,  700000.]),\n",
       " [Text(0, 0, ''),\n",
       "  Text(0, 0, ''),\n",
       "  Text(0, 0, ''),\n",
       "  Text(0, 0, ''),\n",
       "  Text(0, 0, ''),\n",
       "  Text(0, 0, ''),\n",
       "  Text(0, 0, ''),\n",
       "  Text(0, 0, ''),\n",
       "  Text(0, 0, '')])"
      ]
     },
     "execution_count": 92,
     "metadata": {},
     "output_type": "execute_result"
    },
    {
     "data": {
      "image/png": "[encoded data removed]",
      "text/plain": [
       "<Figure size 864x864 with 1 Axes>"
      ]
     },
     "metadata": {
      "needs_background": "light"
     },
     "output_type": "display_data"
    }
   ],
   "source": [
    "plt.figure(figsize = (12,12))\n",
    "ax = sns.regplot(ls_predictions, y_train)\n",
    "ax.plot()\n",
    "ax.set_title('Predicted Sales Price vs Actual Sales Price', size = 20)\n",
    "ax.set_ylabel('Sale Price (Actual)', size = 16)\n",
    "ax.set_xlabel('Sale Price (Predicted)', size = 16)\n",
    "plt.yticks(size = 10)\n",
    "plt.xticks(size = 10)"
   ]
  },
  {
   "cell_type": "code",
   "execution_count": 93,
   "id": "4f2a8c41",
   "metadata": {},
   "outputs": [
    {
     "name": "stdout",
     "output_type": "stream",
     "text": [
      "0.8689122980728214\n",
      "-2.0105747201971294e+19\n"
     ]
    }
   ],
   "source": [
    "print(lr.score(X_train_sc, y_train))\n",
    "print(lr.score(X_valid_sc, y_valid))"
   ]
  },
  {
   "cell_type": "markdown",
   "id": "7f0c7355",
   "metadata": {},
   "source": [
    "R2 is negative only when the chosen model does not follow the trend of the data, so fits worse than a horizontal line. So Linear Regression is not the best model."
   ]
  },
  {
   "cell_type": "code",
   "execution_count": 94,
   "id": "b81945da",
   "metadata": {},
   "outputs": [
    {
     "name": "stdout",
     "output_type": "stream",
     "text": [
      "R^2:  0.8689122980728214\n",
      "RMSE:  28992.76274457997\n"
     ]
    }
   ],
   "source": [
    "print('R^2: ', metrics.r2_score(y_train, ls_predictions))\n",
    "print('RMSE: ', metrics.mean_squared_error(y_train, ls_predictions, squared=False))"
   ]
  },
  {
   "cell_type": "markdown",
   "id": "481f8499",
   "metadata": {},
   "source": [
    "Linear Regression is too simplistic of a model. We shall try out Ridge, Lasso and ElasticNet.\n",
    "\n",
    "The Least Squares Regression Line/linear regression is the line that makes the vertical distance from the data points to the regression line as small as possible. It's called a “least squares” because the best line of fit is one that minimizes the variance (the sum of squares of the errors)."
   ]
  },
  {
   "cell_type": "markdown",
   "id": "1a613cf9",
   "metadata": {},
   "source": [
    "### Ridge Regression"
   ]
  },
  {
   "cell_type": "code",
   "execution_count": 95,
   "id": "5e7a4a27",
   "metadata": {},
   "outputs": [],
   "source": [
    "from sklearn.linear_model import Ridge, RidgeCV"
   ]
  },
  {
   "cell_type": "code",
   "execution_count": 96,
   "id": "8f5b49ee",
   "metadata": {},
   "outputs": [],
   "source": [
    "r_alphas = np.logspace(-3, 0, 100)"
   ]
  },
  {
   "cell_type": "code",
   "execution_count": 97,
   "id": "42a5cf80",
   "metadata": {},
   "outputs": [],
   "source": [
    "ridge_cv = RidgeCV(alphas=r_alphas, scoring = 'r2', cv=5).fit(X_train_sc, y_train)"
   ]
  },
  {
   "cell_type": "code",
   "execution_count": 98,
   "id": "9ae2465a",
   "metadata": {},
   "outputs": [],
   "source": [
    "ridge_predictions = ridge_cv.predict(X_train_sc)"
   ]
  },
  {
   "cell_type": "code",
   "execution_count": 99,
   "id": "79326053",
   "metadata": {},
   "outputs": [
    {
     "name": "stdout",
     "output_type": "stream",
     "text": [
      "0.8688971800882028\n",
      "0.891960308611282\n"
     ]
    }
   ],
   "source": [
    "print(ridge_cv.score(X_train_sc, y_train))\n",
    "print(ridge_cv.score(X_valid_sc, y_valid))"
   ]
  },
  {
   "cell_type": "code",
   "execution_count": 100,
   "id": "2b8f2eaa",
   "metadata": {},
   "outputs": [
    {
     "name": "stdout",
     "output_type": "stream",
     "text": [
      "R^2:  0.8688971800882028\n",
      "RMSE:  28994.43452422892\n",
      "RMSE:  24979.488670106817\n"
     ]
    }
   ],
   "source": [
    "print('R^2: ', metrics.r2_score(y_train, ridge_predictions))\n",
    "print('RMSE: ', metrics.mean_squared_error(y_train, ridge_predictions, squared=False))\n",
    "print('RMSE: ', metrics.mean_squared_error(y_valid, ridge_cv.predict(X_valid_sc), squared=False))"
   ]
  },
  {
   "cell_type": "code",
   "execution_count": 101,
   "id": "40a1ecbd",
   "metadata": {},
   "outputs": [
    {
     "data": {
      "text/plain": [
       "1.0"
      ]
     },
     "execution_count": 101,
     "metadata": {},
     "output_type": "execute_result"
    }
   ],
   "source": [
    "ridge_cv.alpha_"
   ]
  },
  {
   "cell_type": "markdown",
   "id": "0c129322",
   "metadata": {},
   "source": [
    "### Lasso Regression"
   ]
  },
  {
   "cell_type": "code",
   "execution_count": 102,
   "id": "d173d736",
   "metadata": {},
   "outputs": [],
   "source": [
    "from sklearn.linear_model import Lasso, LassoCV"
   ]
  },
  {
   "cell_type": "code",
   "execution_count": 103,
   "id": "b8ff0a3d",
   "metadata": {},
   "outputs": [
    {
     "name": "stderr",
     "output_type": "stream",
     "text": [
      "C:\\Users\\ilove\\AppData\\Local\\Programs\\Python\\Python39\\lib\\site-packages\\sklearn\\linear_model\\_coordinate_descent.py:633: ConvergenceWarning: Objective did not converge. You might want to increase the number of iterations. Duality gap: 1014711169.5466309, tolerance: 803154001.1955776\n",
      "  model = cd_fast.enet_coordinate_descent_gram(\n",
      "C:\\Users\\ilove\\AppData\\Local\\Programs\\Python\\Python39\\lib\\site-packages\\sklearn\\linear_model\\_coordinate_descent.py:633: ConvergenceWarning: Objective did not converge. You might want to increase the number of iterations. Duality gap: 1014389100.3283691, tolerance: 803154001.1955776\n",
      "  model = cd_fast.enet_coordinate_descent_gram(\n",
      "C:\\Users\\ilove\\AppData\\Local\\Programs\\Python\\Python39\\lib\\site-packages\\sklearn\\linear_model\\_coordinate_descent.py:633: ConvergenceWarning: Objective did not converge. You might want to increase the number of iterations. Duality gap: 1014097411.7056885, tolerance: 803154001.1955776\n",
      "  model = cd_fast.enet_coordinate_descent_gram(\n"
     ]
    }
   ],
   "source": [
    "l_alphas = np.logspace(-3, 0, 100)\n",
    "lasso_cv = LassoCV(alphas=l_alphas, cv=5, max_iter=100000).fit(X_train_sc, y_train);"
   ]
  },
  {
   "cell_type": "code",
   "execution_count": 104,
   "id": "47e57c2a",
   "metadata": {},
   "outputs": [],
   "source": [
    "lasso_predictions = lasso_cv.predict(X_train_sc)"
   ]
  },
  {
   "cell_type": "code",
   "execution_count": 105,
   "id": "67d22218",
   "metadata": {},
   "outputs": [
    {
     "name": "stdout",
     "output_type": "stream",
     "text": [
      "R^2:  0.8689043229426068\n",
      "RMSE:  28993.644663852774\n",
      "RMSE:  24965.4693547495\n"
     ]
    }
   ],
   "source": [
    "print('R^2: ', metrics.r2_score(y_train, lasso_predictions))\n",
    "print('RMSE: ', metrics.mean_squared_error(y_train, lasso_predictions, squared=False))\n",
    "print('RMSE: ', metrics.mean_squared_error(y_valid, lasso_cv.predict(X_valid_sc), squared=False))"
   ]
  },
  {
   "cell_type": "code",
   "execution_count": 106,
   "id": "d82bf58d",
   "metadata": {},
   "outputs": [
    {
     "name": "stdout",
     "output_type": "stream",
     "text": [
      "0.8689043229426068\n",
      "0.8920815454781326\n"
     ]
    }
   ],
   "source": [
    "print(lasso_cv.score(X_train_sc, y_train))\n",
    "print(lasso_cv.score(X_valid_sc, y_valid))"
   ]
  },
  {
   "cell_type": "code",
   "execution_count": 107,
   "id": "820432f5",
   "metadata": {},
   "outputs": [
    {
     "data": {
      "text/plain": [
       "1.0"
      ]
     },
     "execution_count": 107,
     "metadata": {},
     "output_type": "execute_result"
    }
   ],
   "source": [
    "lasso_cv.alpha_"
   ]
  },
  {
   "cell_type": "markdown",
   "id": "11a1040c",
   "metadata": {},
   "source": [
    "### ElasticNet Regression"
   ]
  },
  {
   "cell_type": "code",
   "execution_count": 108,
   "id": "72c64497",
   "metadata": {},
   "outputs": [],
   "source": [
    "from sklearn.linear_model import ElasticNet, ElasticNetCV"
   ]
  },
  {
   "cell_type": "code",
   "execution_count": 109,
   "id": "639a2be4",
   "metadata": {},
   "outputs": [],
   "source": [
    "enet_alphas = np.linspace(0.5, 1.0, 100)"
   ]
  },
  {
   "cell_type": "code",
   "execution_count": 110,
   "id": "a793cb94",
   "metadata": {},
   "outputs": [],
   "source": [
    "enet_model = ElasticNetCV(alphas=enet_alphas, cv=5)"
   ]
  },
  {
   "cell_type": "code",
   "execution_count": 111,
   "id": "005d805a",
   "metadata": {},
   "outputs": [],
   "source": [
    "enet_model = enet_model.fit(X_train_sc, y_train)"
   ]
  },
  {
   "cell_type": "code",
   "execution_count": 112,
   "id": "7b9f0943",
   "metadata": {},
   "outputs": [],
   "source": [
    "enet_predictions = enet_model.predict(X_train_sc)"
   ]
  },
  {
   "cell_type": "code",
   "execution_count": 113,
   "id": "34bc5c0b",
   "metadata": {},
   "outputs": [],
   "source": [
    "enet_model_preds = enet_model.predict(X_valid_sc)\n",
    "enet_model_preds_train = enet_model.predict(X_train_sc)"
   ]
  },
  {
   "cell_type": "code",
   "execution_count": 114,
   "id": "77172c16",
   "metadata": {},
   "outputs": [
    {
     "name": "stdout",
     "output_type": "stream",
     "text": [
      "0.858050127344571\n",
      "0.8952323861356212\n"
     ]
    }
   ],
   "source": [
    "print(enet_model.score(X_train_sc, y_train))\n",
    "print(enet_model.score(X_valid_sc, y_valid))"
   ]
  },
  {
   "cell_type": "code",
   "execution_count": 115,
   "id": "d28cf7b3",
   "metadata": {},
   "outputs": [
    {
     "name": "stdout",
     "output_type": "stream",
     "text": [
      "R^2:  0.858050127344571\n",
      "RMSE:  30170.056968969442\n",
      "RMSE:  24598.31751109648\n"
     ]
    }
   ],
   "source": [
    "print('R^2: ', metrics.r2_score(y_train, enet_predictions))\n",
    "print('RMSE: ', metrics.mean_squared_error(y_train, enet_predictions, squared=False))\n",
    "print('RMSE: ', metrics.mean_squared_error(y_valid, enet_model.predict(X_valid_sc), squared=False))"
   ]
  },
  {
   "cell_type": "code",
   "execution_count": 116,
   "id": "944d7039",
   "metadata": {},
   "outputs": [
    {
     "data": {
      "text/plain": [
       "0.5757575757575758"
      ]
     },
     "execution_count": 116,
     "metadata": {},
     "output_type": "execute_result"
    }
   ],
   "source": [
    "enet_model.alpha_"
   ]
  },
  {
   "cell_type": "markdown",
   "id": "e3f4f6c9",
   "metadata": {},
   "source": [
    "#### Summary"
   ]
  },
  {
   "cell_type": "code",
   "execution_count": 117,
   "id": "b1db64db",
   "metadata": {
    "scrolled": true
   },
   "outputs": [
    {
     "data": {
      "text/plain": [
       "array([-2.11832576e+02,  2.39367150e+03,  1.62960221e+04,  5.46005147e+03,\n",
       "        6.05631459e+03,  3.66564729e+02,  7.43097182e+03,  7.43099970e+03,\n",
       "       -8.32006434e+02,  6.78330774e+03, -2.92662994e+03,  4.89895051e+03,\n",
       "        3.68703543e+03, -1.15560263e+03, -1.25239283e+03,  6.34297868e+02,\n",
       "       -9.03149101e+02,  7.01941843e+03,  1.02633357e+04,  5.57299266e+02,\n",
       "        1.41269607e+04,  4.37368539e+03, -9.13849852e+02,  1.76911287e+03,\n",
       "        5.77464837e+02, -2.41692162e+03, -3.48397094e+03,  6.37021342e+03,\n",
       "        6.08968412e+03,  4.34993175e+03,  5.95598526e+03,  4.38145262e+03,\n",
       "        6.80881259e+03,  6.20133470e+02,  7.99781867e+02, -9.96860829e+02,\n",
       "        1.62779487e+01,  4.33550872e+03, -6.44507199e+02, -1.21055713e+03,\n",
       "       -2.21220732e+03,  2.18772433e+02,  2.81556479e+02,  8.59658101e+02,\n",
       "        8.38380392e+03,  5.11977187e+03,  1.09840758e+03,  1.41612488e+03,\n",
       "        7.07865868e+03,  5.27672872e+03,  3.86430665e+03,  1.83881752e+03,\n",
       "        3.26846149e+03,  2.44633517e+03,  1.21862679e+03, -1.22126499e+03,\n",
       "        2.14077209e+02,  8.83286545e+02,  1.04789472e+03,  1.07829423e+03,\n",
       "       -7.26712922e+02, -4.38349156e-02, -2.04810893e+02, -4.58605851e+03,\n",
       "        5.09615543e+02,  6.55583093e+03,  4.19447964e+03,  6.10979311e+03,\n",
       "        2.12213755e+03, -5.44315877e+02, -2.45956328e+02,  2.45806941e+02,\n",
       "        1.67610642e+03, -5.22802522e+02,  7.93496878e+02,  3.93570601e+03,\n",
       "        1.41073070e+03,  3.32895520e+03, -4.83946302e+02,  5.19612384e+02,\n",
       "       -7.82069109e+01, -3.78817623e+02,  8.59658101e+02,  1.21862679e+03,\n",
       "       -9.41804262e+02, -3.96592459e+02,  1.37600650e+03,  7.74542728e+03,\n",
       "       -4.27358246e+02,  5.67555208e+02, -1.99902136e+03, -2.10081728e+01,\n",
       "       -1.51352163e+03,  4.10951636e+03,  3.40700305e+02,  7.61362186e+03,\n",
       "       -2.20333525e+03,  2.65727048e+01,  5.44726722e+02, -3.95763278e+02,\n",
       "        3.45629155e+03,  1.04243711e+03,  2.68875107e+02, -1.55226310e+03,\n",
       "        0.00000000e+00,  1.38569417e+03, -1.03440510e+03, -1.29331451e+03,\n",
       "       -3.78249536e+03, -4.68710262e+02, -2.25151027e+03, -9.75370486e+02,\n",
       "        4.46466796e+03,  8.34426622e+03,  6.12748095e+03, -1.03446017e+03,\n",
       "        9.94289888e+02,  1.85471010e+02,  6.70128454e+02, -6.35549059e+01,\n",
       "        4.34729138e+02, -7.10479418e+01, -3.72140592e+02, -7.44138093e+02,\n",
       "        1.88286160e+03,  3.46440390e+03,  2.96438633e+03,  2.21496541e+03,\n",
       "        6.36165877e+02, -5.55399115e+02,  7.64676430e+03,  2.32462350e+03,\n",
       "        4.06708298e+02,  2.62278815e+03,  5.26049488e+02,  1.68266419e+03,\n",
       "        2.27493228e+03,  1.05227071e+04, -1.17650555e+03,  1.58971135e+03,\n",
       "       -4.70317020e+02,  4.04041362e+02])"
      ]
     },
     "execution_count": 117,
     "metadata": {},
     "output_type": "execute_result"
    }
   ],
   "source": [
    "ridge_cv.coef_"
   ]
  },
  {
   "cell_type": "code",
   "execution_count": 118,
   "id": "e938a98c",
   "metadata": {
    "scrolled": true
   },
   "outputs": [
    {
     "data": {
      "text/plain": [
       "array([-1.98090438e+02,  2.38173328e+03,  1.63195543e+04,  5.47218096e+03,\n",
       "        6.09493437e+03,  3.53141690e+02,  7.42849207e+03,  7.43368441e+03,\n",
       "       -8.35440076e+02,  6.78056007e+03, -2.94011661e+03,  4.90976134e+03,\n",
       "        3.67778428e+03, -1.14996258e+03, -1.28127363e+03,  6.20666876e+02,\n",
       "       -8.98821797e+02,  1.45331351e+04,  1.84159730e+04,  1.45176105e+03,\n",
       "        4.54440294e+03,  4.39234998e+03, -9.03228511e+02,  1.74589441e+03,\n",
       "        5.57234813e+02, -2.42354115e+03, -3.48761472e+03,  6.35922008e+03,\n",
       "        6.08219418e+03,  4.35098321e+03,  5.99194756e+03,  4.33818650e+03,\n",
       "        6.90960451e+03,  6.46562881e+02,  7.88017469e+02, -1.00418298e+03,\n",
       "        1.56802362e+01,  4.33353976e+03, -6.35993882e+02, -1.20779063e+03,\n",
       "       -2.20377245e+03,  3.13806177e+02,  2.93028247e+02,  1.70564600e+01,\n",
       "        9.70077748e+03,  5.72985352e+03,  1.24835165e+03,  1.68741502e+03,\n",
       "        8.09540136e+03,  6.49775408e+03,  4.49830916e+03,  2.10358169e+03,\n",
       "        3.83454758e+03,  2.80796263e+03,  2.66878701e+03, -1.24019495e+03,\n",
       "        1.73707655e+02,  8.74140293e+02,  1.03499586e+03,  1.00111483e+03,\n",
       "       -7.93871424e+02, -3.73906616e+00, -2.06246444e+02, -4.58684018e+03,\n",
       "        5.10328884e+02,  6.57841033e+03,  4.22758199e+03,  6.13285934e+03,\n",
       "        2.13653681e+03, -5.43216652e+02, -2.48904935e+02,  2.49355097e+02,\n",
       "        1.68080848e+03, -5.16212553e+02,  8.01246989e+02,  3.94239880e+03,\n",
       "        1.41079236e+03,  3.33262205e+03, -4.78033975e+02,  5.20153717e+02,\n",
       "       -6.66628044e+01, -3.76742209e+02,  2.14185335e+03,  3.06636395e+02,\n",
       "       -4.43896820e+02,  3.34340215e+02,  1.38705550e+03,  8.12267739e+03,\n",
       "       -4.22408802e+02,  5.93160713e+02, -1.89504961e+03,  7.08603430e+01,\n",
       "       -1.43326027e+03,  4.28573008e+03,  3.73578086e+02,  7.78251066e+03,\n",
       "       -2.17725981e+03,  3.63159204e+01,  5.47361442e+02, -4.02199635e+02,\n",
       "        3.44675986e+03,  1.03896754e+03,  2.59715957e+02, -1.56705175e+03,\n",
       "        0.00000000e+00,  1.36684215e+03, -1.04703306e+03, -1.29712000e+03,\n",
       "       -3.79250072e+03, -4.86109749e+02, -2.26430003e+03, -9.79866905e+02,\n",
       "        4.74129665e+03,  8.65196361e+03,  6.30089948e+03, -1.04612189e+03,\n",
       "        9.89628724e+02,  1.63295174e+02,  6.73878148e+02, -6.55692088e+01,\n",
       "        4.35715988e+02, -7.66900777e+01, -3.64543801e+02, -7.44626792e+02,\n",
       "        1.90969390e+03,  3.53108531e+03,  3.02416382e+03,  2.26926490e+03,\n",
       "        6.49985271e+02, -5.12611613e+02,  7.76252086e+03,  2.39724737e+03,\n",
       "        4.32137326e+02,  2.64536702e+03,  5.34569762e+02,  1.73578517e+03,\n",
       "        1.85949386e+03,  1.10993949e+04, -1.15990316e+03,  1.61795815e+03,\n",
       "       -4.74929975e+02,  3.93979747e+02])"
      ]
     },
     "execution_count": 118,
     "metadata": {},
     "output_type": "execute_result"
    }
   ],
   "source": [
    "lasso_cv.coef_"
   ]
  },
  {
   "cell_type": "code",
   "execution_count": 119,
   "id": "daa05339",
   "metadata": {
    "scrolled": true
   },
   "outputs": [
    {
     "data": {
      "text/plain": [
       "array([ 8.28232214e+02,  2.22748377e+03,  1.09019541e+04,  3.12060864e+03,\n",
       "        2.59886661e+03,  2.20082764e+03,  6.19631300e+03,  6.91473089e+03,\n",
       "       -1.46889018e+01,  4.44635691e+03, -1.25041037e+03,  4.24303621e+03,\n",
       "        3.34114661e+03, -9.13691489e+02,  3.49295927e+03,  1.62695433e+03,\n",
       "        1.14687383e+02,  6.23736909e+03,  4.05108489e+03, -3.99835734e+00,\n",
       "        8.25967282e+03,  3.45212279e+03, -1.09184457e+03,  3.16350554e+03,\n",
       "        1.52136635e+03, -3.71808231e+02, -1.55112955e+03,  6.77588986e+03,\n",
       "        4.97848437e+03,  4.78379427e+03,  4.55302242e+03,  5.40956826e+03,\n",
       "        1.01963936e+03, -1.91197843e+02,  1.68001299e+03,  3.21081804e+02,\n",
       "        2.08450386e+02,  3.74028123e+03, -1.80023160e+02, -7.81055869e+02,\n",
       "       -1.29891883e+03, -1.46723484e+03, -3.78750835e+02, -4.33284234e+02,\n",
       "        1.42428303e+03,  4.36219012e+02,  4.98589894e+01,  2.27025660e+02,\n",
       "        8.63179569e+02,  4.54996136e+02,  6.90788122e+00,  9.24117757e+02,\n",
       "       -9.51775900e+02, -1.53521606e+02, -7.06957336e+02, -1.03678399e+03,\n",
       "        3.86378185e+02,  8.00916843e+02,  3.79768234e+02,  7.90952222e+02,\n",
       "       -1.01602728e+03,  1.59760175e+02,  9.47009198e+01, -3.68290926e+03,\n",
       "       -2.85161636e+02,  3.58194244e+03,  1.54896939e+03,  1.42309334e+03,\n",
       "        2.16313800e+03, -4.45231371e+02, -6.80190750e+01,  2.01828533e+02,\n",
       "        1.33117273e+03, -4.81537774e+02, -6.29929730e+02,  1.52720220e+03,\n",
       "        8.79724743e+02,  2.04584647e+03, -9.58952990e+02, -4.07737129e+02,\n",
       "       -5.33986177e+02, -5.54787164e+02, -4.33284260e+02, -7.06955579e+02,\n",
       "       -1.81245505e+03, -1.86632678e+03,  2.77461088e+02,  5.54949391e+02,\n",
       "        7.62957152e+02,  6.31218502e+02, -4.85095775e+02, -6.53985260e+02,\n",
       "       -1.24630122e+03, -1.62050585e+03, -5.13940898e+02,  2.56710900e+03,\n",
       "       -1.90795339e+03, -1.40819394e+02,  2.46727462e+02, -1.39457934e+02,\n",
       "        3.01122988e+03,  3.71132419e+02,  8.73267954e+02, -1.18472583e+03,\n",
       "        0.00000000e+00,  1.48012644e+03, -5.83980691e+02, -3.15516715e+02,\n",
       "       -2.41878285e+03,  4.55623666e+02, -1.02275943e+03, -3.07171436e+02,\n",
       "       -8.46800642e+02,  1.93658395e+02,  2.52084989e+03, -1.47843231e+03,\n",
       "        1.38610470e+03,  9.94402004e+02,  3.58249072e+02,  9.96774818e+01,\n",
       "        2.07339984e+02,  1.51719647e+02, -4.14401436e+02, -3.43743952e+02,\n",
       "        1.97856051e+02, -8.30784271e+01, -7.12638757e+01, -4.24726028e+02,\n",
       "       -5.46564584e+02, -1.64568633e+03,  1.62464977e+03, -2.10819207e+02,\n",
       "       -8.29286202e+02,  2.01296545e+03, -5.67059706e+01, -8.11523623e+02,\n",
       "        1.41493398e+03,  1.50082456e+03, -1.58715674e+03, -5.75016771e+02,\n",
       "       -3.13844141e+02,  6.88874205e+02])"
      ]
     },
     "execution_count": 119,
     "metadata": {},
     "output_type": "execute_result"
    }
   ],
   "source": [
    "enet_model.coef_"
   ]
  },
  {
   "cell_type": "code",
   "execution_count": 120,
   "id": "34947af3",
   "metadata": {},
   "outputs": [
    {
     "name": "stdout",
     "output_type": "stream",
     "text": [
      "====== OLS =======\n",
      "0.8689122980728214\n",
      "-2.0105747201971294e+19\n",
      "\n",
      "===== Ridge ======\n",
      "0.8688971800882028\n",
      "0.891960308611282\n",
      "RMSE:  24979.488670106817\n",
      "\n",
      "===== Lasso ======\n",
      "0.8689043229426068\n",
      "0.8920815454781326\n",
      "RMSE:  24965.4693547495\n",
      "\n",
      "=== ElasticNet ===\n",
      "0.858050127344571\n",
      "0.8952323861356212\n",
      "RMSE:  24598.31751109648\n"
     ]
    }
   ],
   "source": [
    "print(\" OLS \".center(18, \"=\"))\n",
    "print(lr.score(X_train_sc, y_train))\n",
    "print(lr.score(X_valid_sc, y_valid))\n",
    "print()\n",
    "print(\" Ridge \".center(18, \"=\"))\n",
    "print(ridge_cv.score(X_train_sc, y_train))\n",
    "print(ridge_cv.score(X_valid_sc, y_valid))\n",
    "print('RMSE: ', metrics.mean_squared_error(y_valid, ridge_cv.predict(X_valid_sc), squared=False))\n",
    "print()\n",
    "print(\" Lasso \".center(18, \"=\"))\n",
    "print(lasso_cv.score(X_train_sc, y_train))\n",
    "print(lasso_cv.score(X_valid_sc, y_valid))\n",
    "print('RMSE: ', metrics.mean_squared_error(y_valid, lasso_cv.predict(X_valid_sc), squared=False))\n",
    "print()\n",
    "print(\" ElasticNet \".center(18, \"=\"))\n",
    "print(enet_model.score(X_train_sc, y_train))\n",
    "print(enet_model.score(X_valid_sc, y_valid))\n",
    "print('RMSE: ', metrics.mean_squared_error(y_valid, enet_model.predict(X_valid_sc), squared=False))"
   ]
  },
  {
   "cell_type": "code",
   "execution_count": 121,
   "id": "39630c25",
   "metadata": {},
   "outputs": [],
   "source": [
    "cdf = pd.DataFrame(enet_model.coef_, X.columns, columns=['Coefficients'])"
   ]
  },
  {
   "cell_type": "code",
   "execution_count": 122,
   "id": "42a57854",
   "metadata": {},
   "outputs": [
    {
     "data": {
      "text/html": [
       "<div>\n",
       "<style scoped>\n",
       "    .dataframe tbody tr th:only-of-type {\n",
       "        vertical-align: middle;\n",
       "    }\n",
       "\n",
       "    .dataframe tbody tr th {\n",
       "        vertical-align: top;\n",
       "    }\n",
       "\n",
       "    .dataframe thead th {\n",
       "        text-align: right;\n",
       "    }\n",
       "</style>\n",
       "<table border=\"1\" class=\"dataframe\">\n",
       "  <thead>\n",
       "    <tr style=\"text-align: right;\">\n",
       "      <th></th>\n",
       "      <th>Coefficients</th>\n",
       "    </tr>\n",
       "  </thead>\n",
       "  <tbody>\n",
       "    <tr>\n",
       "      <th>lotshape_IR3</th>\n",
       "      <td>-3682.909255</td>\n",
       "    </tr>\n",
       "    <tr>\n",
       "      <th>exterior1st_Stucco</th>\n",
       "      <td>-2418.782855</td>\n",
       "    </tr>\n",
       "    <tr>\n",
       "      <th>roofstyle_Mansard</th>\n",
       "      <td>-1907.953395</td>\n",
       "    </tr>\n",
       "    <tr>\n",
       "      <th>bldgtype_TwnhsE</th>\n",
       "      <td>-1866.326782</td>\n",
       "    </tr>\n",
       "    <tr>\n",
       "      <th>bldgtype_Twnhs</th>\n",
       "      <td>-1812.455048</td>\n",
       "    </tr>\n",
       "  </tbody>\n",
       "</table>\n",
       "</div>"
      ],
      "text/plain": [
       "                    Coefficients\n",
       "lotshape_IR3        -3682.909255\n",
       "exterior1st_Stucco  -2418.782855\n",
       "roofstyle_Mansard   -1907.953395\n",
       "bldgtype_TwnhsE     -1866.326782\n",
       "bldgtype_Twnhs      -1812.455048"
      ]
     },
     "execution_count": 122,
     "metadata": {},
     "output_type": "execute_result"
    }
   ],
   "source": [
    "cdf.sort_values(by='Coefficients', ascending=True).head(5)"
   ]
  },
  {
   "cell_type": "code",
   "execution_count": 123,
   "id": "88af18d8",
   "metadata": {},
   "outputs": [
    {
     "data": {
      "text/html": [
       "<div>\n",
       "<style scoped>\n",
       "    .dataframe tbody tr th:only-of-type {\n",
       "        vertical-align: middle;\n",
       "    }\n",
       "\n",
       "    .dataframe tbody tr th {\n",
       "        vertical-align: top;\n",
       "    }\n",
       "\n",
       "    .dataframe thead th {\n",
       "        text-align: right;\n",
       "    }\n",
       "</style>\n",
       "<table border=\"1\" class=\"dataframe\">\n",
       "  <thead>\n",
       "    <tr style=\"text-align: right;\">\n",
       "      <th></th>\n",
       "      <th>Coefficients</th>\n",
       "    </tr>\n",
       "  </thead>\n",
       "  <tbody>\n",
       "    <tr>\n",
       "      <th>overallqual</th>\n",
       "      <td>10901.954148</td>\n",
       "    </tr>\n",
       "    <tr>\n",
       "      <th>grlivarea</th>\n",
       "      <td>8259.672824</td>\n",
       "    </tr>\n",
       "    <tr>\n",
       "      <th>exterqual</th>\n",
       "      <td>6914.730890</td>\n",
       "    </tr>\n",
       "    <tr>\n",
       "      <th>kitchenqual</th>\n",
       "      <td>6775.889857</td>\n",
       "    </tr>\n",
       "    <tr>\n",
       "      <th>1stflrsf</th>\n",
       "      <td>6237.369088</td>\n",
       "    </tr>\n",
       "  </tbody>\n",
       "</table>\n",
       "</div>"
      ],
      "text/plain": [
       "             Coefficients\n",
       "overallqual  10901.954148\n",
       "grlivarea     8259.672824\n",
       "exterqual     6914.730890\n",
       "kitchenqual   6775.889857\n",
       "1stflrsf      6237.369088"
      ]
     },
     "execution_count": 123,
     "metadata": {},
     "output_type": "execute_result"
    }
   ],
   "source": [
    "cdf.sort_values(by='Coefficients', ascending=False).head(5)"
   ]
  },
  {
   "cell_type": "markdown",
   "id": "6752536e",
   "metadata": {},
   "source": [
    "# Conclusion and Analysis"
   ]
  },
  {
   "cell_type": "markdown",
   "id": "34dfdd30",
   "metadata": {},
   "source": [
    "It is important to investigate why the house features are affecting sale price, especially for homeowners and homebuyers. For homeowners, they need to know whether their property still has the \"selling qualities\" to remain competitive in the market, but they will need to know what to improve on the most during renovation works. For homeowners, they would want the best bang for their buck when purchasing a home.\n",
    "<br><br>\n",
    "This model is only applicable to Ames, Iowa. It is a university town, so the population is undoubtedly younger. Iowa, as a state, focuses on agriculture, so this model may not be applicable in another town in Iowa or another state altogether.\n",
    "<br><br>\n",
    "To evaluate the success of this model, we will need to see what are the features that will greatly affect the Sale Price positively/negatively.\n",
    "<br><br>\n",
    "In this model, ElasticNetCV performs the best with the lowest RMSE score of $24562 to the average."
   ]
  },
  {
   "cell_type": "markdown",
   "id": "4804831d",
   "metadata": {},
   "source": [
    "## Selecting ElasticNetCV - Why?\n",
    "\n",
    "Lasso assigns a penalty to the coefficients in the linear model, eliminating variables with coefficients that zero. It doesn't perform well when there is multicollinearity in the features. By glancing at the features, some of them are greatly related to each other. As for Ridge, it reduces the penalty closer to 0, but it might not be enough as there are too many features compared to the number of observations.\n",
    "<br><br>\n",
    "In this situation, ElasticNet performs the best.\n",
    "<br><br>\n",
    "ElasticNet reduces the impact of different features while not eliminating all of the features. It combines both Lasso and Ridge features, but not completely removing any feature."
   ]
  },
  {
   "cell_type": "markdown",
   "id": "3801a6c0",
   "metadata": {},
   "source": [
    "## Understanding Coefficients"
   ]
  },
  {
   "cell_type": "markdown",
   "id": "3e061e8b",
   "metadata": {},
   "source": [
    "By viewing the top 5 that positively affect Sale Prices and bottom 5 features that negatively affect Sale Prices, homebuyers should consider these factors when purchasing a home in Ames, Iowa and what homeowners should consider to put their property in a competitive position in the housing market:\n",
    "<br><br>\n",
    "<li>Purchasing a house situated on a lot that has irregular shape will affect the Sale Price negatively by \\$3682.90 for every unit increase. It affects the sale price the most. This means that irregular shaped lots are priced lower in the market. Homeowners can't really change much about this aspect, hence they should focus more on the features of the house.\n",
    "<br><br>\n",
    "<li>The exterior covering of the house matters - if it is made out of Stucco, the house is more likely to be priced lower as well. For every unit increase, the price will decrease by $2418.78. Same goes for having a Mansard roofstyle, which decreases the sale price by \\$1907.95 for every unit increase. We do not have the domain knowledge to understand if a Stucco material is high or low quality, hence both homeowners and homebuyers should consider if the material is what they want. For a Mansard roofstyle, it may not suit the current trend if the houses are old, hence the price may be lower. Homeowners may consider to renovate to other roofstyles to boost their sale prices.\n",
    "<br><br>\n",
    "<li>Potential homebuyers should also consider purchasing Townhouses as they are cheaper on the market compared to Single-family Detached, two-family conversion houses and duplexes. \n",
    "<br><br>\n",
    "<li>As for the features that positively affect the Sale Price, an increase in the overall quality of the house will undoubtedly improve Sale Prices per unit increase by \\$10901.95. Similarly, the exterior matters a lot, which improve sale prices by \\$6914.73 per unit increase. Same goes for kitchen quality as well, increasing at a rate of \\$6775.88 as the quality increases.\n",
    "<br><br>\n",
    "<li>As for the general living area, the greater the square footage, the sale price increases by \\$8259.67 per unit increase. This also affects the 1st floor square footage, which increases by \\$6237.36 per unit increase."
   ]
  },
  {
   "cell_type": "markdown",
   "id": "6e53c1f1",
   "metadata": {},
   "source": [
    "# Recommendations: Improving This Model\n",
    "\n",
    "At the end of the day, this model is only applicable to Ames, Iowa. Below are the suggested improvements and special sidenotes to this model:\n",
    "<br><br>\n",
    "<li>Collect more data that is up-to-date.\n",
    "<li>Remove features that are too specific or combine subfeatures.\n",
    "<li>Add features that are beyond just the house features such as distance to schools or public transportation hubs.\n",
    "<li>Consider socio-economic factors such as crime rates or quality of schools.\n",
    "<li>Ames is a university town, hence this model after improvement may be used in similar university towns. However, the whole state of Iowa is known to focus on agriculture, hence the model (as good as it may be after improvement), might not be the best to use on towns that do not specialise in agriculture or are on flat land (e.g. Florida)."
   ]
  }
 ],
 "metadata": {
  "kernelspec": {
   "display_name": "Python 3 (ipykernel)",
   "language": "python",
   "name": "python3"
  },
  "language_info": {
   "codemirror_mode": {
    "name": "ipython",
    "version": 3
   },
   "file_extension": ".py",
   "mimetype": "text/x-python",
   "name": "python",
   "nbconvert_exporter": "python",
   "pygments_lexer": "ipython3",
   "version": "3.9.7"
  }
 },
 "nbformat": 4,
 "nbformat_minor": 5
}
